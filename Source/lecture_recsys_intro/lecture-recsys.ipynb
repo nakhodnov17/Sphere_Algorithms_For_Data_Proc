{
 "cells": [
  {
   "cell_type": "code",
   "execution_count": 1,
   "metadata": {
    "slideshow": {
     "slide_type": "skip"
    }
   },
   "outputs": [],
   "source": [
    "import pandas as pd\n",
    "import numpy as np\n",
    "import matplotlib.pyplot as plt\n",
    "\n",
    "%matplotlib inline\n",
    "\n",
    "plt.style.use('ggplot')\n",
    "plt.rcParams['figure.figsize'] = (12,8)\n",
    "\n",
    "# Для кириллицы на графиках\n",
    "font = {'family': 'Verdana',\n",
    "        'weight': 'normal'}\n",
    "plt.rc('font', **font)\n",
    "\n",
    "try:\n",
    "    from ipywidgets import interact, IntSlider, fixed, FloatSlider\n",
    "except ImportError:\n",
    "    print u'Так надо'\n",
    "\n",
    "df_auto = pd.read_csv('http://bit.ly/1gIQs6C')"
   ]
  },
  {
   "cell_type": "markdown",
   "metadata": {
    "slideshow": {
     "slide_type": "slide"
    }
   },
   "source": [
    "## Quiz Time!"
   ]
  },
  {
   "cell_type": "markdown",
   "metadata": {
    "slideshow": {
     "slide_type": "slide"
    }
   },
   "source": [
    "<center><img src=\"images/header.png\"></center>\n",
    "\n",
    "<h1><center>Алгоритмы интеллектуальной обработки больших объемов данных</center></h1>\n",
    "<hr>\n",
    "<h2><center>Введение в рекомендательные системы</center></h2>"
   ]
  },
  {
   "cell_type": "markdown",
   "metadata": {
    "collapsed": true,
    "slideshow": {
     "slide_type": "slide"
    }
   },
   "source": [
    "# Мотивация"
   ]
  },
  {
   "cell_type": "markdown",
   "metadata": {
    "slideshow": {
     "slide_type": "fragment"
    }
   },
   "source": [
    "* Люди - потребители контента и услуг\n",
    "    * Музыка\n",
    "    * Фильмы\n",
    "    * Книги\n",
    "    * Игры\n",
    "    * Еда\n",
    "    * ...\n",
    "\n",
    "\n",
    "* Но выбор слишком велик..\n",
    "    * Spotify - 30 млн. песен\n",
    "    * Netflix - 20 тыс. фильмов\n",
    "    * Amazon - 500 тыс. книг\n",
    "    * Steam - 20 тыс. игр"
   ]
  },
  {
   "cell_type": "markdown",
   "metadata": {
    "slideshow": {
     "slide_type": "subslide"
    }
   },
   "source": [
    "Надо как-то фильтровать..\n",
    "* Можно спросить у друзей (вкусы могут отличаться)\n",
    "* Можно почитать обзоры (много времени)\n",
    "* Автоматическая рекомендательная система!\n",
    "\n",
    "<center><img src=\"images/recsys.jpg\" width=400></center>\n",
    "\n"
   ]
  },
  {
   "cell_type": "markdown",
   "metadata": {
    "slideshow": {
     "slide_type": "subslide"
    }
   },
   "source": [
    "<center><img src=\"images/hp-rec.png\" width=600></center>"
   ]
  },
  {
   "cell_type": "markdown",
   "metadata": {
    "slideshow": {
     "slide_type": "subslide"
    }
   },
   "source": [
    "### Long Tail Phenomenon\n",
    "<center><img src=\"images/longtail.gif\" width=600></center>"
   ]
  },
  {
   "cell_type": "markdown",
   "metadata": {
    "slideshow": {
     "slide_type": "subslide"
    }
   },
   "source": [
    "<center><img src=\"images/pack-rec.png\" width=700></center>"
   ]
  },
  {
   "cell_type": "markdown",
   "metadata": {
    "slideshow": {
     "slide_type": "subslide"
    }
   },
   "source": [
    "### Источники персональных рекомендаций\n",
    "* На основе предпочтений пользователя\n",
    "    * Рассчитывается некоторый \"профиль\" пользователя, для которого определяются наиболее подходящие товары\n",
    "* На основе похожих пользователей\n",
    "    * Находим других пользователей с похожими интересами и доставляем рекомендацию\n",
    "* На основе похожих товоров\n",
    "    * Рекомендуем товары, похожие на те, что мне нравятся"
   ]
  },
  {
   "cell_type": "markdown",
   "metadata": {
    "slideshow": {
     "slide_type": "subslide"
    }
   },
   "source": [
    "### Netflix Prize\n",
    "<center><img src=\"images/netflix.jpg\" width=500></center>"
   ]
  },
  {
   "cell_type": "markdown",
   "metadata": {
    "slideshow": {
     "slide_type": "subslide"
    }
   },
   "source": [
    "### Recsys\n",
    "Ежегодная (с 2007 года) международная конференция по рекомендательным системам.\n",
    "<center><img src=\"images/conf.png\" width=400></center>"
   ]
  },
  {
   "cell_type": "markdown",
   "metadata": {
    "slideshow": {
     "slide_type": "slide"
    }
   },
   "source": [
    "# Постановка проблемы"
   ]
  },
  {
   "cell_type": "markdown",
   "metadata": {
    "slideshow": {
     "slide_type": "subslide"
    }
   },
   "source": [
    "* Пользователи ставят оценку товарам\n",
    "<center><img src=\"images/star_ratings.png\" width=300></center>\n"
   ]
  },
  {
   "cell_type": "markdown",
   "metadata": {
    "slideshow": {
     "slide_type": "subslide"
    }
   },
   "source": [
    "* Пользователи ставят оценку товарам\n",
    "    * Бинарную\n",
    "    * Количество \"звезд\"\n",
    "    * Неявную (кол-во потраченого времени\\дерег)\n",
    "<center><img src=\"images/rating.png\" width=600></center>\n",
    "* Надо заполнить пропуски\n",
    "* Предоставить рекомендацию\n",
    "    * Почему может не иметь смысл возвращать просто товары с максимальным рейтингом?"
   ]
  },
  {
   "cell_type": "markdown",
   "metadata": {
    "slideshow": {
     "slide_type": "subslide"
    }
   },
   "source": [
    "Введем обозначения:\n",
    "* $U$ - множество пользователей\n",
    "* $I$ - множество товаров\n",
    "* $U_i$ - множество пользователей, оценивших товар $i$\n",
    "* $I_u$ - множество товаров, оценненных пользователем $u$\n",
    "* $R_{ui}$ - оценка, которую дал пользователь $u$ товару $i$\n",
    "* $\\hat{R}_{ui}$ - прогноз оценки\n",
    "\n"
   ]
  },
  {
   "cell_type": "markdown",
   "metadata": {
    "collapsed": true,
    "slideshow": {
     "slide_type": "subslide"
    }
   },
   "source": [
    "## Базовое решение (baseline)\n",
    "* $b_{ui} = \\mu + b_u + b_i$,\n",
    "* $b_{u} = \\frac{1}{|I_u|}\\sum_{i\\in I_u}(R_{ui} - \\mu)$\n",
    "* $b_{i} = \\frac{1}{|U_i|}\\sum_{u\\in U_i}(R_{ui} - b_u - \\mu)$\n",
    "\n",
    "Интерпретация:\n",
    "* $b_u$ - насколько выше (ниже) среднего пользователь оценивает товары\n",
    "* $b_i$ - насколько выше (ниже) среднего оценивается товар"
   ]
  },
  {
   "cell_type": "markdown",
   "metadata": {
    "slideshow": {
     "slide_type": "subslide"
    }
   },
   "source": [
    "## Базовое решение (baseline)\n",
    "\n",
    "* $b_{ui} = \\mu + b_u + b_i$,\n",
    "* $b_{u} = \\frac{1}{|I_u|+\\alpha}\\sum_{i\\in I_u}(R_{ui} - \\mu)$\n",
    "* $b_{i} = \\frac{1}{|U_i|+\\beta}\\sum_{u\\in U_i}(R_{ui} - b_u - \\mu)$\n",
    "\n",
    "Мотивация\n",
    "* Сравнение с качеством более интеллектуальной модели\n",
    "* Нормализация оценок (предсказываем не $R_{ui}$ а $R_{ui} - b_{ui}$)"
   ]
  },
  {
   "cell_type": "markdown",
   "metadata": {
    "slideshow": {
     "slide_type": "slide"
    }
   },
   "source": [
    "# Коллаборативная фильтрация\n",
    "## User-based\n",
    "## Item-based"
   ]
  },
  {
   "cell_type": "markdown",
   "metadata": {
    "slideshow": {
     "slide_type": "subslide"
    }
   },
   "source": [
    "## User-based CF\n",
    "<center><img src=\"images/ub-collab.png\" width=700></center>"
   ]
  },
  {
   "cell_type": "markdown",
   "metadata": {
    "slideshow": {
     "slide_type": "subslide"
    }
   },
   "source": [
    "## User-based CF\n",
    "* Посчитаем сходство между пользователями $s \\in \\mathbb{R}^{U \\times U}$\n",
    "* Для целевого пользователя $u$ найти похожих пользователей $N(u)$\n",
    "$$ \\hat{R}_{ui} = \\bar{R}_u + \\frac{\\sum_{v \\in N(u)} s_{uv}(R_{vi} - \\bar{R}_v)}{\\sum_{v \\in N(u)} \\left| s_{uv}\\right|} $$\n",
    "\n",
    "* $\\bar{R}_u$ - поправка на пессимизм\\оптимизм пользователей"
   ]
  },
  {
   "cell_type": "markdown",
   "metadata": {
    "slideshow": {
     "slide_type": "subslide"
    }
   },
   "source": [
    "## User-based CF\n",
    "* $N(u)$ можно определять по разным соображениям:\n",
    "    * Брать всех\n",
    "    * Top-k\n",
    "    * $s_{uv} > \\theta$"
   ]
  },
  {
   "cell_type": "markdown",
   "metadata": {
    "slideshow": {
     "slide_type": "subslide"
    }
   },
   "source": [
    "## Схожесть пользователей\n",
    "\n",
    "* Для каждой пары $(u,v)$ надо пересечь множество оцененных товаров\n",
    "\n",
    "* Корреляция пирсона\n",
    "$$ s_{uv} = \\frac{\\sum\\limits_{i \\in I_u\\cap I_v} (R_{ui} - \\bar{R}_u)(R_{vi} - \\bar{R}_v)}{\\sqrt{\\sum\\limits_{i \\in I_u\\cap I_v}(R_{ui} - \\bar{R}_u)^2}\\sqrt{\\sum\\limits_{i \\in I_u\\cap I_v}(R_{vi} - \\bar{R}_v)^2}}$$\n",
    "* Корреляция Спирмана\n",
    "* Косинусная мера\n",
    "$$ s_{uv} = \\frac{\\sum\\limits_{i \\in I_u\\cap I_v} R_{ui} R_{vi}}{\\sqrt{{\\sum\\limits_{i \\in I_u\\cap I_v}R_{ui}^2}}\\sqrt{{\\sum\\limits_{i \\in I_u\\cap I_v}R_{vi}^2}}}$$\n"
   ]
  },
  {
   "cell_type": "markdown",
   "metadata": {
    "slideshow": {
     "slide_type": "slide"
    }
   },
   "source": [
    "# Item-based CF"
   ]
  },
  {
   "cell_type": "markdown",
   "metadata": {
    "slideshow": {
     "slide_type": "subslide"
    }
   },
   "source": [
    "<center><img src='http://dataconomy.com/wp-content/uploads/2015/03/Beginners-Guide-Recommender-Systems-Content-Based-Filtering.png' width=350></center>"
   ]
  },
  {
   "cell_type": "markdown",
   "metadata": {
    "slideshow": {
     "slide_type": "subslide"
    }
   },
   "source": [
    "## Item-based CF\n",
    "* Посчитаем сходство между товарами $s \\in \\mathbb{R}^{I \\times I}$\n",
    "* Для товара $i$ найти оцененные пользователем $u$ похожие товары: $N(i)$\n",
    "\n",
    "$$ \\hat{R}_{ui} = \\frac{\\sum_{i \\in N(i)} s_{ij}R_{uj}}{\\sum_{i \\in N(i)} \\left| s_{ij}\\right|} $$"
   ]
  },
  {
   "cell_type": "markdown",
   "metadata": {
    "slideshow": {
     "slide_type": "subslide"
    }
   },
   "source": [
    "## Схожесть товаров\n",
    "\n",
    "* Условная вероятность\n",
    "$$ s_{ij} = \\frac{n_{ij}}{n_i} $$\n",
    "* Зависимость\n",
    "$$ s_{ij} = \\frac{n_{ij}}{n_i n_j} $$"
   ]
  },
  {
   "cell_type": "markdown",
   "metadata": {
    "slideshow": {
     "slide_type": "subslide"
    }
   },
   "source": [
    "* Какой подход работает быстрее?\n",
    "    * Item-based\n",
    "    * User-based"
   ]
  },
  {
   "cell_type": "markdown",
   "metadata": {
    "slideshow": {
     "slide_type": "slide"
    }
   },
   "source": [
    "# Контентные модели"
   ]
  },
  {
   "cell_type": "markdown",
   "metadata": {
    "slideshow": {
     "slide_type": "subslide"
    }
   },
   "source": [
    "#### Идея\n",
    "Поселе никак не использовались признаки пользователей и товаров\n",
    "* Пользователь - паттерны захода на сайт, геолокация..\n",
    "* Товары - производитель, текстовое описание, категория"
   ]
  },
  {
   "cell_type": "markdown",
   "metadata": {
    "slideshow": {
     "slide_type": "fragment"
    }
   },
   "source": [
    "* Составляем для каждой пары (пользователь, товар) признаковое описание - обучаемся\n",
    "* Составляем \"профиль\" пользователя\n",
    "    1. Придумываем признаки для товаров\n",
    "    2. Усредняем значения признаков для оцененных пользователем товаров\n",
    "    3. Находим товары, наиболее близкие к предпочтениям"
   ]
  },
  {
   "cell_type": "markdown",
   "metadata": {
    "slideshow": {
     "slide_type": "slide"
    }
   },
   "source": [
    "# Модели со скрытыми факторами"
   ]
  },
  {
   "cell_type": "markdown",
   "metadata": {
    "collapsed": true,
    "slideshow": {
     "slide_type": "subslide"
    }
   },
   "source": [
    "Для каждого пользователя и товара построим векторы $p_u\\in \\mathbb{R}^{k}$ и $q_i \\in \\mathbb{R}^{k}$ так, чтобы\n",
    "$$ R_{ui} \\approx p_u^\\top q_i $$\n",
    "\n",
    "* $p_u$ иногда получается интерпретировать как заинтересованность пользователя в некоторой категории товаров\n",
    "* $q_i$ иногда получается интерпретировать как принадлежность товара к определенной категории\n",
    "\n",
    "Кроме того, в полученном пространстве, можно считать похожесть пользователей и товаров"
   ]
  },
  {
   "cell_type": "markdown",
   "metadata": {
    "slideshow": {
     "slide_type": "subslide"
    }
   },
   "source": [
    "<center><img src='images/matrix_factorization.png' width=600></center>"
   ]
  },
  {
   "cell_type": "markdown",
   "metadata": {
    "slideshow": {
     "slide_type": "subslide"
    }
   },
   "source": [
    "## SVD разложение\n",
    "<center><img src='images/svd.png' width=600></center>"
   ]
  },
  {
   "cell_type": "markdown",
   "metadata": {
    "slideshow": {
     "slide_type": "subslide"
    }
   },
   "source": [
    "* Надо чем-то заполнить пропуски\n",
    "    * Нулями\n",
    "    * Базовыми предсказаниями\n",
    "* Как вариант \n",
    "    * $R' = R-B$ и заполнить $0$\n",
    "* Таким образом:\n",
    "    * $P = U\\sqrt{\\Sigma}$\n",
    "    * $Q = \\sqrt{\\Sigma}V^\\top$\n",
    "    * $\\hat{R} = P^\\top Q$\n",
    "* А как делать предсказания для новых пользователей?"
   ]
  },
  {
   "cell_type": "markdown",
   "metadata": {
    "slideshow": {
     "slide_type": "subslide"
    }
   },
   "source": [
    "##  Latent Factor Model\n",
    "* Будем оптимизировать следующий функционал\n",
    "$$ \\sum\\limits_{u,i}(R_{ui} - \\bar{R}_u - \\bar{R}_i - \\langle p_u, q_i \\rangle)^2 + \\lambda \\sum_u\\| p_u \\|^2 + \\mu\\sum_i\\| q_i \\|^2 \\rightarrow \\min\\limits_{P, Q} $$\n",
    "* С помощью градиентного спуска (на каждом шаге случайно выбирая пару $(u,i)$:\n",
    "$$ p_{uk} = p_{uk} + 2\\alpha \\left(q_{ik}(R_{ui} - \\bar{R}_u - \\bar{R}_i - \\langle p_u, q_i \\rangle) - \\lambda p_{uk}\\right)$$\n",
    "$$ q_{ik} = q_{ik} + 2\\alpha \\left(p_{uk}(R_{ui} - \\bar{R}_u - \\bar{R}_i - \\langle p_u, q_i \\rangle) - \\mu q_{ik}\\right)$$"
   ]
  },
  {
   "cell_type": "markdown",
   "metadata": {
    "slideshow": {
     "slide_type": "slide"
    }
   },
   "source": [
    "# Оценка качества"
   ]
  },
  {
   "cell_type": "markdown",
   "metadata": {
    "slideshow": {
     "slide_type": "subslide"
    }
   },
   "source": [
    "* Качество рейтингов\n",
    "    * MAE, MSE\n",
    "* Качество событий\n",
    "    * F-score, ROC-AUC, PR-AUC\n",
    "    * precision@k, recall@k\n",
    "* Качество ранжирования\n",
    "    * $DCG@k(u) = \\sum\\limits_{p=1}^k \\frac{val(i,p)}{\\log{(p+1)}}$\n",
    "    * $nDCG@k(u) = \\frac{DCG@k(u)}{\\max{(DCG@k(u))}}$"
   ]
  },
  {
   "cell_type": "markdown",
   "metadata": {
    "slideshow": {
     "slide_type": "fragment"
    }
   },
   "source": [
    "* Ваши идеи?"
   ]
  },
  {
   "cell_type": "markdown",
   "metadata": {
    "slideshow": {
     "slide_type": "slide"
    }
   },
   "source": [
    "# Важные факторы"
   ]
  },
  {
   "cell_type": "markdown",
   "metadata": {
    "slideshow": {
     "slide_type": "subslide"
    }
   },
   "source": [
    "* Холодный старт\n",
    "    * Возникает для новых товаров и пользователей\n",
    "* Неактивные пользователи\n",
    "* Масштабируемость\n",
    "    * Много юзеров и товаров\n",
    "* Возможное низкое разнообразие\n",
    "* Накручивание рейтинга"
   ]
  },
  {
   "cell_type": "markdown",
   "metadata": {
    "slideshow": {
     "slide_type": "subslide"
    }
   },
   "source": [
    "## Вопросы?\n",
    "\n",
    "## Оставьте, пожалуйста, свой отзыв"
   ]
  },
  {
   "cell_type": "code",
   "execution_count": null,
   "metadata": {},
   "outputs": [],
   "source": []
  },
  {
   "cell_type": "code",
   "execution_count": null,
   "metadata": {},
   "outputs": [],
   "source": []
  }
 ],
 "metadata": {
  "anaconda-cloud": {},
  "celltoolbar": "Slideshow",
  "kernelspec": {
   "display_name": "Python 2",
   "language": "python",
   "name": "python2"
  },
  "language_info": {
   "codemirror_mode": {
    "name": "ipython",
    "version": 2
   },
   "file_extension": ".py",
   "mimetype": "text/x-python",
   "name": "python",
   "nbconvert_exporter": "python",
   "pygments_lexer": "ipython2",
   "version": "2.7.12"
  },
  "livereveal": {
   "theme": "serif",
   "transition": "concave",
   "width": "1024px"
  },
  "nav_menu": {},
  "toc": {
   "colors": {
    "hover_highlight": "#DAA520",
    "navigate_num": "#000000",
    "navigate_text": "#333333",
    "running_highlight": "#FF0000",
    "selected_highlight": "#FFD700",
    "sidebar_border": "#EEEEEE",
    "wrapper_background": "#FFFFFF"
   },
   "moveMenuLeft": true,
   "nav_menu": {
    "height": "512px",
    "width": "252px"
   },
   "navigate_menu": true,
   "number_sections": false,
   "sideBar": true,
   "threshold": 4,
   "toc_cell": false,
   "toc_section_display": "none",
   "toc_window_display": false,
   "widenNotebook": false
  },
  "toc_position": {
   "height": "973px",
   "left": "0px",
   "right": "1708px",
   "top": "109px",
   "width": "212px"
  }
 },
 "nbformat": 4,
 "nbformat_minor": 2
}
