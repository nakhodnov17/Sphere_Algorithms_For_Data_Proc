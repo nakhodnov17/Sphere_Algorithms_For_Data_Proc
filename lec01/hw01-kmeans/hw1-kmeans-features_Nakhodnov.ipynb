{
 "cells": [
  {
   "cell_type": "markdown",
   "metadata": {},
   "source": [
    "# Алгоритмы интеллектуальной обработки больших объемов данных\n",
    "## Домашнее задание №1 - Метод k-средних, предобработка признаков\n"
   ]
  },
  {
   "cell_type": "markdown",
   "metadata": {},
   "source": [
    "# <hr\\>\n",
    "**Общая информация**\n",
    "\n",
    "**Срок сдачи:** до 7 октября 2017, 06:00   \n",
    "**Штраф за опоздание:** -2 балла после 06:00 7 октября, -4 балла после 06:00 14 октября, -6 баллов после 06:00 21 октября\n",
    "\n",
    "При отправлении ДЗ указывайте фамилию в названии файла   \n",
    "\n",
    "\n",
    "Присылать ДЗ необходимо в виде ссылки на свой github репозиторий в slack @alkhamush\n",
    "Необходимо в slack создать таск в приватный чат:   \n",
    "/todo Фамилия Имя *ссылка на гитхаб* @alkhamush   \n",
    "Пример:   \n",
    "/todo Ксения Стройкова https://github.com/stroykova/spheremailru/stroykova_hw1.ipynb @alkhamush   \n",
    "\n",
    "Используйте данный Ipython Notebook при оформлении домашнего задания.\n",
    "<hr\\>"
   ]
  },
  {
   "cell_type": "markdown",
   "metadata": {},
   "source": [
    "# Первое задание - указать фамилию в имени файла"
   ]
  },
  {
   "cell_type": "code",
   "execution_count": 1,
   "metadata": {},
   "outputs": [],
   "source": [
    "import sys\n",
    "import pandas as pd\n",
    "import numpy as np\n",
    "import matplotlib.pyplot as plt\n",
    "import matplotlib.cm as cm\n",
    "import seaborn\n",
    "seaborn.set()\n",
    "%matplotlib inline\n",
    "\n",
    "plt.style.use('ggplot')\n",
    "plt.rcParams['figure.figsize'] = (12,5)"
   ]
  },
  {
   "cell_type": "markdown",
   "metadata": {},
   "source": [
    "# Пролог: Модуль sklearn\n",
    "На наших практических занятиях мы будем использовать [sklearn](http://scikit-learn.org/stable/index.html) (scikit-learn) - наиболее популярный модуль для работы с методами машинного обучения и анализа данных.\n",
    "\n",
    "Этот модуль регулярно обновляется, расширяется и сопровождается примерами использования тех или иных методов. Помимо самих алгоритмов (например k-средних или линейной регрессии) в нем есть множество вспомогательных функций по работе с данными."
   ]
  },
  {
   "cell_type": "markdown",
   "metadata": {},
   "source": [
    "# Туториал: Работа с различными типами признаков"
   ]
  },
  {
   "cell_type": "markdown",
   "metadata": {},
   "source": [
    "Вспомним какие типы признаков могут встретится при описании объектов исследования и как их представить в доступной для обработки компьтером форме"
   ]
  },
  {
   "cell_type": "markdown",
   "metadata": {},
   "source": [
    "Типы признаков мы будем рассматривать на примере довольно популярного набора данных [titanic](https://www.kaggle.com/c/titanic/download/train.csv) - информации о выживаемости пассажиров после известной трагедии корабля Titanic."
   ]
  },
  {
   "cell_type": "raw",
   "metadata": {},
   "source": [
    "ARIABLE DESCRIPTIONS:\n",
    "survival        Survival\n",
    "                (0 = No; 1 = Yes)\n",
    "pclass          Passenger Class\n",
    "                (1 = 1st; 2 = 2nd; 3 = 3rd)\n",
    "name            Name\n",
    "sex             Sex\n",
    "age             Age\n",
    "sibsp           Number of Siblings/Spouses Aboard\n",
    "parch           Number of Parents/Children Aboard\n",
    "ticket          Ticket Number\n",
    "fare            Passenger Fare\n",
    "cabin           Cabin\n",
    "embarked        Port of Embarkation\n",
    "                (C = Cherbourg; Q = Queenstown; S = Southampton)"
   ]
  },
  {
   "cell_type": "code",
   "execution_count": 2,
   "metadata": {},
   "outputs": [
    {
     "name": "stdout",
     "output_type": "stream",
     "text": [
      "     PassengerId  Survived  Pclass  \\\n",
      "1              2         1       1   \n",
      "3              4         1       1   \n",
      "6              7         0       1   \n",
      "10            11         1       3   \n",
      "11            12         1       1   \n",
      "21            22         1       2   \n",
      "23            24         1       1   \n",
      "27            28         0       1   \n",
      "52            53         1       1   \n",
      "54            55         0       1   \n",
      "62            63         0       1   \n",
      "66            67         1       2   \n",
      "75            76         0       3   \n",
      "88            89         1       1   \n",
      "92            93         0       1   \n",
      "96            97         0       1   \n",
      "97            98         1       1   \n",
      "102          103         0       1   \n",
      "110          111         0       1   \n",
      "118          119         0       1   \n",
      "123          124         1       2   \n",
      "124          125         0       1   \n",
      "136          137         1       1   \n",
      "137          138         0       1   \n",
      "139          140         0       1   \n",
      "148          149         0       2   \n",
      "151          152         1       1   \n",
      "170          171         0       1   \n",
      "174          175         0       1   \n",
      "177          178         0       1   \n",
      "..           ...       ...     ...   \n",
      "737          738         1       1   \n",
      "741          742         0       1   \n",
      "742          743         1       1   \n",
      "745          746         0       1   \n",
      "748          749         0       1   \n",
      "751          752         1       3   \n",
      "759          760         1       1   \n",
      "763          764         1       1   \n",
      "765          766         1       1   \n",
      "772          773         0       2   \n",
      "779          780         1       1   \n",
      "781          782         1       1   \n",
      "782          783         0       1   \n",
      "789          790         0       1   \n",
      "796          797         1       1   \n",
      "802          803         1       1   \n",
      "806          807         0       1   \n",
      "809          810         1       1   \n",
      "820          821         1       1   \n",
      "823          824         1       3   \n",
      "835          836         1       1   \n",
      "853          854         1       1   \n",
      "857          858         1       1   \n",
      "862          863         1       1   \n",
      "867          868         0       1   \n",
      "871          872         1       1   \n",
      "872          873         0       1   \n",
      "879          880         1       1   \n",
      "887          888         1       1   \n",
      "889          890         1       1   \n",
      "\n",
      "                                                  Name     Sex   Age  SibSp  \\\n",
      "1    Cumings, Mrs. John Bradley (Florence Briggs Th...  female  38.0      1   \n",
      "3         Futrelle, Mrs. Jacques Heath (Lily May Peel)  female  35.0      1   \n",
      "6                              McCarthy, Mr. Timothy J    male  54.0      0   \n",
      "10                     Sandstrom, Miss. Marguerite Rut  female   4.0      1   \n",
      "11                            Bonnell, Miss. Elizabeth  female  58.0      0   \n",
      "21                               Beesley, Mr. Lawrence    male  34.0      0   \n",
      "23                        Sloper, Mr. William Thompson    male  28.0      0   \n",
      "27                      Fortune, Mr. Charles Alexander    male  19.0      3   \n",
      "52            Harper, Mrs. Henry Sleeper (Myna Haxtun)  female  49.0      1   \n",
      "54                      Ostby, Mr. Engelhart Cornelius    male  65.0      0   \n",
      "62                         Harris, Mr. Henry Birkhardt    male  45.0      1   \n",
      "66                        Nye, Mrs. (Elizabeth Ramell)  female  29.0      0   \n",
      "75                             Moen, Mr. Sigurd Hansen    male  25.0      0   \n",
      "88                          Fortune, Miss. Mabel Helen  female  23.0      3   \n",
      "92                         Chaffee, Mr. Herbert Fuller    male  46.0      1   \n",
      "96                           Goldschmidt, Mr. George B    male  71.0      0   \n",
      "97                     Greenfield, Mr. William Bertram    male  23.0      0   \n",
      "102                          White, Mr. Richard Frasar    male  21.0      0   \n",
      "110                     Porter, Mr. Walter Chamberlain    male  47.0      0   \n",
      "118                           Baxter, Mr. Quigg Edmond    male  24.0      0   \n",
      "123                                Webber, Miss. Susan  female  32.5      0   \n",
      "124                        White, Mr. Percival Wayland    male  54.0      0   \n",
      "136                       Newsom, Miss. Helen Monypeny  female  19.0      0   \n",
      "137                        Futrelle, Mr. Jacques Heath    male  37.0      1   \n",
      "139                                 Giglio, Mr. Victor    male  24.0      0   \n",
      "148           Navratil, Mr. Michel (\"Louis M Hoffman\")    male  36.5      0   \n",
      "151                  Pears, Mrs. Thomas (Edith Wearne)  female  22.0      1   \n",
      "170                          Van der hoef, Mr. Wyckoff    male  61.0      0   \n",
      "174                            Smith, Mr. James Clinch    male  56.0      0   \n",
      "177                         Isham, Miss. Ann Elizabeth  female  50.0      0   \n",
      "..                                                 ...     ...   ...    ...   \n",
      "737                             Lesurer, Mr. Gustave J    male  35.0      0   \n",
      "741                      Cavendish, Mr. Tyrell William    male  36.0      1   \n",
      "742              Ryerson, Miss. Susan Parker \"Suzette\"  female  21.0      2   \n",
      "745                       Crosby, Capt. Edward Gifford    male  70.0      1   \n",
      "748                          Marvin, Mr. Daniel Warner    male  19.0      1   \n",
      "751                                Moor, Master. Meier    male   6.0      0   \n",
      "759  Rothes, the Countess. of (Lucy Noel Martha Dye...  female  33.0      0   \n",
      "763          Carter, Mrs. William Ernest (Lucile Polk)  female  36.0      1   \n",
      "765               Hogeboom, Mrs. John C (Anna Andrews)  female  51.0      1   \n",
      "772                                  Mack, Mrs. (Mary)  female  57.0      0   \n",
      "779  Robert, Mrs. Edward Scott (Elisabeth Walton Mc...  female  43.0      0   \n",
      "781          Dick, Mrs. Albert Adrian (Vera Gillespie)  female  17.0      1   \n",
      "782                             Long, Mr. Milton Clyde    male  29.0      0   \n",
      "789                           Guggenheim, Mr. Benjamin    male  46.0      0   \n",
      "796                        Leader, Dr. Alice (Farnham)  female  49.0      0   \n",
      "802                Carter, Master. William Thornton II    male  11.0      1   \n",
      "806                             Andrews, Mr. Thomas Jr    male  39.0      0   \n",
      "809     Chambers, Mrs. Norman Campbell (Bertha Griggs)  female  33.0      1   \n",
      "820  Hays, Mrs. Charles Melville (Clara Jennings Gr...  female  52.0      1   \n",
      "823                                 Moor, Mrs. (Beila)  female  27.0      0   \n",
      "835                        Compton, Miss. Sara Rebecca  female  39.0      1   \n",
      "853                          Lines, Miss. Mary Conover  female  16.0      0   \n",
      "857                             Daly, Mr. Peter Denis     male  51.0      0   \n",
      "862  Swift, Mrs. Frederick Joel (Margaret Welles Ba...  female  48.0      0   \n",
      "867               Roebling, Mr. Washington Augustus II    male  31.0      0   \n",
      "871   Beckwith, Mrs. Richard Leonard (Sallie Monypeny)  female  47.0      1   \n",
      "872                           Carlsson, Mr. Frans Olof    male  33.0      0   \n",
      "879      Potter, Mrs. Thomas Jr (Lily Alexenia Wilson)  female  56.0      0   \n",
      "887                       Graham, Miss. Margaret Edith  female  19.0      0   \n",
      "889                              Behr, Mr. Karl Howell    male  26.0      0   \n",
      "\n",
      "     Parch       Ticket      Fare            Cabin Embarked  \n",
      "1        0     PC 17599   71.2833              C85        C  \n",
      "3        0       113803   53.1000             C123        S  \n",
      "6        0        17463   51.8625              E46        S  \n",
      "10       1      PP 9549   16.7000               G6        S  \n",
      "11       0       113783   26.5500             C103        S  \n",
      "21       0       248698   13.0000              D56        S  \n",
      "23       0       113788   35.5000               A6        S  \n",
      "27       2        19950  263.0000      C23 C25 C27        S  \n",
      "52       0     PC 17572   76.7292              D33        C  \n",
      "54       1       113509   61.9792              B30        C  \n",
      "62       0        36973   83.4750              C83        S  \n",
      "66       0   C.A. 29395   10.5000              F33        S  \n",
      "75       0       348123    7.6500            F G73        S  \n",
      "88       2        19950  263.0000      C23 C25 C27        S  \n",
      "92       0  W.E.P. 5734   61.1750              E31        S  \n",
      "96       0     PC 17754   34.6542               A5        C  \n",
      "97       1     PC 17759   63.3583          D10 D12        C  \n",
      "102      1        35281   77.2875              D26        S  \n",
      "110      0       110465   52.0000             C110        S  \n",
      "118      1     PC 17558  247.5208          B58 B60        C  \n",
      "123      0        27267   13.0000             E101        S  \n",
      "124      1        35281   77.2875              D26        S  \n",
      "136      2        11752   26.2833              D47        S  \n",
      "137      0       113803   53.1000             C123        S  \n",
      "139      0     PC 17593   79.2000              B86        C  \n",
      "148      2       230080   26.0000               F2        S  \n",
      "151      0       113776   66.6000               C2        S  \n",
      "170      0       111240   33.5000              B19        S  \n",
      "174      0        17764   30.6958               A7        C  \n",
      "177      0     PC 17595   28.7125              C49        C  \n",
      "..     ...          ...       ...              ...      ...  \n",
      "737      0     PC 17755  512.3292             B101        C  \n",
      "741      0        19877   78.8500              C46        S  \n",
      "742      2     PC 17608  262.3750  B57 B59 B63 B66        C  \n",
      "745      1    WE/P 5735   71.0000              B22        S  \n",
      "748      0       113773   53.1000              D30        S  \n",
      "751      1       392096   12.4750             E121        S  \n",
      "759      0       110152   86.5000              B77        S  \n",
      "763      2       113760  120.0000          B96 B98        S  \n",
      "765      0        13502   77.9583              D11        S  \n",
      "772      0  S.O./P.P. 3   10.5000              E77        S  \n",
      "779      1        24160  211.3375               B3        S  \n",
      "781      0        17474   57.0000              B20        S  \n",
      "782      0       113501   30.0000               D6        S  \n",
      "789      0     PC 17593   79.2000          B82 B84        C  \n",
      "796      0        17465   25.9292              D17        S  \n",
      "802      2       113760  120.0000          B96 B98        S  \n",
      "806      0       112050    0.0000              A36        S  \n",
      "809      0       113806   53.1000               E8        S  \n",
      "820      1        12749   93.5000              B69        S  \n",
      "823      1       392096   12.4750             E121        S  \n",
      "835      1     PC 17756   83.1583              E49        C  \n",
      "853      1     PC 17592   39.4000              D28        S  \n",
      "857      0       113055   26.5500              E17        S  \n",
      "862      0        17466   25.9292              D17        S  \n",
      "867      0     PC 17590   50.4958              A24        S  \n",
      "871      1        11751   52.5542              D35        S  \n",
      "872      0          695    5.0000      B51 B53 B55        S  \n",
      "879      1        11767   83.1583              C50        C  \n",
      "887      0       112053   30.0000              B42        S  \n",
      "889      0       111369   30.0000             C148        C  \n",
      "\n",
      "[183 rows x 12 columns]\n"
     ]
    },
    {
     "data": {
      "text/html": [
       "<div>\n",
       "<style>\n",
       "    .dataframe thead tr:only-child th {\n",
       "        text-align: right;\n",
       "    }\n",
       "\n",
       "    .dataframe thead th {\n",
       "        text-align: left;\n",
       "    }\n",
       "\n",
       "    .dataframe tbody tr th {\n",
       "        vertical-align: top;\n",
       "    }\n",
       "</style>\n",
       "<table border=\"1\" class=\"dataframe\">\n",
       "  <thead>\n",
       "    <tr style=\"text-align: right;\">\n",
       "      <th></th>\n",
       "      <th>PassengerId</th>\n",
       "      <th>Survived</th>\n",
       "      <th>Pclass</th>\n",
       "      <th>Name</th>\n",
       "      <th>Sex</th>\n",
       "      <th>Age</th>\n",
       "      <th>SibSp</th>\n",
       "      <th>Parch</th>\n",
       "      <th>Ticket</th>\n",
       "      <th>Fare</th>\n",
       "      <th>Cabin</th>\n",
       "      <th>Embarked</th>\n",
       "    </tr>\n",
       "  </thead>\n",
       "  <tbody>\n",
       "    <tr>\n",
       "      <th>1</th>\n",
       "      <td>2</td>\n",
       "      <td>1</td>\n",
       "      <td>1</td>\n",
       "      <td>Cumings, Mrs. John Bradley (Florence Briggs Th...</td>\n",
       "      <td>female</td>\n",
       "      <td>38.0</td>\n",
       "      <td>1</td>\n",
       "      <td>0</td>\n",
       "      <td>PC 17599</td>\n",
       "      <td>71.2833</td>\n",
       "      <td>C85</td>\n",
       "      <td>C</td>\n",
       "    </tr>\n",
       "    <tr>\n",
       "      <th>3</th>\n",
       "      <td>4</td>\n",
       "      <td>1</td>\n",
       "      <td>1</td>\n",
       "      <td>Futrelle, Mrs. Jacques Heath (Lily May Peel)</td>\n",
       "      <td>female</td>\n",
       "      <td>35.0</td>\n",
       "      <td>1</td>\n",
       "      <td>0</td>\n",
       "      <td>113803</td>\n",
       "      <td>53.1000</td>\n",
       "      <td>C123</td>\n",
       "      <td>S</td>\n",
       "    </tr>\n",
       "    <tr>\n",
       "      <th>6</th>\n",
       "      <td>7</td>\n",
       "      <td>0</td>\n",
       "      <td>1</td>\n",
       "      <td>McCarthy, Mr. Timothy J</td>\n",
       "      <td>male</td>\n",
       "      <td>54.0</td>\n",
       "      <td>0</td>\n",
       "      <td>0</td>\n",
       "      <td>17463</td>\n",
       "      <td>51.8625</td>\n",
       "      <td>E46</td>\n",
       "      <td>S</td>\n",
       "    </tr>\n",
       "    <tr>\n",
       "      <th>10</th>\n",
       "      <td>11</td>\n",
       "      <td>1</td>\n",
       "      <td>3</td>\n",
       "      <td>Sandstrom, Miss. Marguerite Rut</td>\n",
       "      <td>female</td>\n",
       "      <td>4.0</td>\n",
       "      <td>1</td>\n",
       "      <td>1</td>\n",
       "      <td>PP 9549</td>\n",
       "      <td>16.7000</td>\n",
       "      <td>G6</td>\n",
       "      <td>S</td>\n",
       "    </tr>\n",
       "    <tr>\n",
       "      <th>11</th>\n",
       "      <td>12</td>\n",
       "      <td>1</td>\n",
       "      <td>1</td>\n",
       "      <td>Bonnell, Miss. Elizabeth</td>\n",
       "      <td>female</td>\n",
       "      <td>58.0</td>\n",
       "      <td>0</td>\n",
       "      <td>0</td>\n",
       "      <td>113783</td>\n",
       "      <td>26.5500</td>\n",
       "      <td>C103</td>\n",
       "      <td>S</td>\n",
       "    </tr>\n",
       "  </tbody>\n",
       "</table>\n",
       "</div>"
      ],
      "text/plain": [
       "    PassengerId  Survived  Pclass  \\\n",
       "1             2         1       1   \n",
       "3             4         1       1   \n",
       "6             7         0       1   \n",
       "10           11         1       3   \n",
       "11           12         1       1   \n",
       "\n",
       "                                                 Name     Sex   Age  SibSp  \\\n",
       "1   Cumings, Mrs. John Bradley (Florence Briggs Th...  female  38.0      1   \n",
       "3        Futrelle, Mrs. Jacques Heath (Lily May Peel)  female  35.0      1   \n",
       "6                             McCarthy, Mr. Timothy J    male  54.0      0   \n",
       "10                    Sandstrom, Miss. Marguerite Rut  female   4.0      1   \n",
       "11                           Bonnell, Miss. Elizabeth  female  58.0      0   \n",
       "\n",
       "    Parch    Ticket     Fare Cabin Embarked  \n",
       "1       0  PC 17599  71.2833   C85        C  \n",
       "3       0    113803  53.1000  C123        S  \n",
       "6       0     17463  51.8625   E46        S  \n",
       "10      1   PP 9549  16.7000    G6        S  \n",
       "11      0    113783  26.5500  C103        S  "
      ]
     },
     "execution_count": 2,
     "metadata": {},
     "output_type": "execute_result"
    }
   ],
   "source": [
    "df_titanic = pd.read_csv('train.csv', sep=',').dropna()\n",
    "print df_titanic\n",
    "df_titanic.head()"
   ]
  },
  {
   "cell_type": "markdown",
   "metadata": {},
   "source": [
    "## Бинарные признаки\n",
    "Это признаки с двумя возможными значениями\n",
    "* Пол (мужской, женский)\n",
    "* Выжил (да, нет)\n",
    "\n",
    "На вход в алгоритмы обычно подаются в виде значений `{0, 1}` (реже в виде `{-1, 1}`)"
   ]
  },
  {
   "cell_type": "code",
   "execution_count": 3,
   "metadata": {},
   "outputs": [
    {
     "data": {
      "text/plain": [
       "1    123\n",
       "0     60\n",
       "Name: Survived, dtype: int64"
      ]
     },
     "execution_count": 3,
     "metadata": {},
     "output_type": "execute_result"
    }
   ],
   "source": [
    "# Здесь все нормально\n",
    "df_titanic.Survived.value_counts()"
   ]
  },
  {
   "cell_type": "code",
   "execution_count": 4,
   "metadata": {},
   "outputs": [
    {
     "data": {
      "text/plain": [
       "male      95\n",
       "female    88\n",
       "Name: Sex, dtype: int64"
      ]
     },
     "execution_count": 4,
     "metadata": {},
     "output_type": "execute_result"
    }
   ],
   "source": [
    "# Тут стоит выполнить переобознаение\n",
    "df_titanic.Sex.value_counts()"
   ]
  },
  {
   "cell_type": "code",
   "execution_count": 5,
   "metadata": {},
   "outputs": [
    {
     "data": {
      "text/plain": [
       "0    95\n",
       "1    88\n",
       "Name: Sex, dtype: int64"
      ]
     },
     "execution_count": 5,
     "metadata": {},
     "output_type": "execute_result"
    }
   ],
   "source": [
    "# Например так\n",
    "df_titanic.Sex = df_titanic.Sex.replace({'male': 0, 'female': 1})\n",
    "df_titanic.Sex.value_counts()"
   ]
  },
  {
   "cell_type": "markdown",
   "metadata": {},
   "source": [
    "## Вещественные признаки\n",
    "\n",
    "* Возраст\n",
    "* Сумма, потраченная на билет\n",
    "* Количество родственников на борту\n",
    "\n",
    "Как правило остаются в том же виде или выполняется **нормализация** признаков, т.е. переход к одинаковой шкале, например:\n",
    "\n",
    "* $\\tilde{x} = \\frac{x - \\text{mean}(x)}{\\text{std}(x)}$\n",
    "* $\\tilde{x} = \\frac{x - \\text{min}(x)}{\\text{max}(x) - \\text{min}(x)}$"
   ]
  },
  {
   "cell_type": "markdown",
   "metadata": {},
   "source": [
    "## Категориальные признаки\n",
    "\n",
    "Принимают значения из *неупорядоченного* множества\n",
    "\n",
    "* Порт погрузки (C = Cherbourg; Q = Queenstown; S = Southampton)\n",
    "* Точка отправления (St Louis, MO; Montreal, PQ; .. }\n",
    "* Точка назначения (Chesterville, ON; Roseville, IL; .. }\n",
    "\n",
    "Обычно такие признаки кодируют с помощью так называемого One Hot Encoding: </br>\n",
    "для каждой категории создается бинарная маска-столбец, в которой стоит `1` если значение признака равно значению соответствующей категории категории.\n",
    "\n",
    "Например, для признака \"порт погрзки\" создается бинарная макска из трех стобцов для каждого из портов: С, Q, S<br/>\n",
    "Если пассажир заходил на кораблю в порту Southampton, то его признаковое описание будет соответственно: `[0, 0, 1]`"
   ]
  },
  {
   "cell_type": "code",
   "execution_count": 6,
   "metadata": {},
   "outputs": [
    {
     "data": {
      "text/plain": [
       "1     C\n",
       "3     S\n",
       "6     S\n",
       "10    S\n",
       "11    S\n",
       "Name: Embarked, dtype: object"
      ]
     },
     "execution_count": 6,
     "metadata": {},
     "output_type": "execute_result"
    }
   ],
   "source": [
    "df_titanic.Embarked.head()"
   ]
  },
  {
   "cell_type": "code",
   "execution_count": 7,
   "metadata": {},
   "outputs": [
    {
     "data": {
      "text/html": [
       "<div>\n",
       "<style>\n",
       "    .dataframe thead tr:only-child th {\n",
       "        text-align: right;\n",
       "    }\n",
       "\n",
       "    .dataframe thead th {\n",
       "        text-align: left;\n",
       "    }\n",
       "\n",
       "    .dataframe tbody tr th {\n",
       "        vertical-align: top;\n",
       "    }\n",
       "</style>\n",
       "<table border=\"1\" class=\"dataframe\">\n",
       "  <thead>\n",
       "    <tr style=\"text-align: right;\">\n",
       "      <th></th>\n",
       "      <th>Embarked=C</th>\n",
       "      <th>Embarked=Q</th>\n",
       "      <th>Embarked=S</th>\n",
       "    </tr>\n",
       "  </thead>\n",
       "  <tbody>\n",
       "    <tr>\n",
       "      <th>1</th>\n",
       "      <td>1</td>\n",
       "      <td>0</td>\n",
       "      <td>0</td>\n",
       "    </tr>\n",
       "    <tr>\n",
       "      <th>3</th>\n",
       "      <td>0</td>\n",
       "      <td>0</td>\n",
       "      <td>1</td>\n",
       "    </tr>\n",
       "    <tr>\n",
       "      <th>6</th>\n",
       "      <td>0</td>\n",
       "      <td>0</td>\n",
       "      <td>1</td>\n",
       "    </tr>\n",
       "    <tr>\n",
       "      <th>10</th>\n",
       "      <td>0</td>\n",
       "      <td>0</td>\n",
       "      <td>1</td>\n",
       "    </tr>\n",
       "    <tr>\n",
       "      <th>11</th>\n",
       "      <td>0</td>\n",
       "      <td>0</td>\n",
       "      <td>1</td>\n",
       "    </tr>\n",
       "  </tbody>\n",
       "</table>\n",
       "</div>"
      ],
      "text/plain": [
       "    Embarked=C  Embarked=Q  Embarked=S\n",
       "1            1           0           0\n",
       "3            0           0           1\n",
       "6            0           0           1\n",
       "10           0           0           1\n",
       "11           0           0           1"
      ]
     },
     "execution_count": 7,
     "metadata": {},
     "output_type": "execute_result"
    }
   ],
   "source": [
    "# Сделать в python это можно несколькими способами:\n",
    "\n",
    "# 1: Через pandas (не очень рекомендуется)\n",
    "emb = pd.get_dummies(df_titanic.Embarked, prefix='Embarked', prefix_sep='=')\n",
    "emb.head()"
   ]
  },
  {
   "cell_type": "code",
   "execution_count": 8,
   "metadata": {},
   "outputs": [
    {
     "data": {
      "text/plain": [
       "array([[ 1.,  0.,  0.],\n",
       "       [ 0.,  0.,  1.],\n",
       "       [ 0.,  0.,  1.],\n",
       "       [ 0.,  0.,  1.],\n",
       "       [ 0.,  0.,  1.]])"
      ]
     },
     "execution_count": 8,
     "metadata": {},
     "output_type": "execute_result"
    }
   ],
   "source": [
    "# 2: Функционал sklearn\n",
    "from sklearn.preprocessing import OneHotEncoder\n",
    "\n",
    "encoder = OneHotEncoder(sparse=False)\n",
    "\n",
    "emb = df_titanic.loc[:, ['Embarked']].replace({'C': 0, 'Q': 1, 'S': 2}).values\n",
    "emb_enc = encoder.fit_transform(emb)\n",
    "emb_enc[:5]"
   ]
  },
  {
   "cell_type": "markdown",
   "metadata": {},
   "source": [
    "Про другием способы работы с категориальными переменными можно прочитать вот [тут](https://alexanderdyakonov.wordpress.com/2016/08/03/python-%D0%BA%D0%B0%D1%82%D0%B5%D0%B3%D0%BE%D1%80%D0%B8%D0%B0%D0%BB%D1%8C%D0%BD%D1%8B%D0%B5-%D0%BF%D1%80%D0%B8%D0%B7%D0%BD%D0%B0%D0%BA%D0%B8/)"
   ]
  },
  {
   "cell_type": "markdown",
   "metadata": {},
   "source": [
    "## Порядковый признаки"
   ]
  },
  {
   "cell_type": "markdown",
   "metadata": {},
   "source": [
    "Принимают значения из *упорядоченного* множества\n",
    "\n",
    "* Класс каюты (1 > 2 > 3)\n",
    "\n",
    "В зависимости от метода остаются можно оставить в исходном виде или применить OneHotEncoding."
   ]
  },
  {
   "cell_type": "markdown",
   "metadata": {},
   "source": [
    "## Текстовые признаки - Bag of words"
   ]
  },
  {
   "cell_type": "markdown",
   "metadata": {},
   "source": [
    "Для демонстрации возьмем текст стихотворения Блока:\n",
    "\n",
    "Ночь, улица, фонарь, аптека,<br/>\n",
    "Бессмысленный и тусклый свет.<br/>\n",
    "Живи еще хоть четверть века -<br/>\n",
    "Все будет так. Исхода нет.<br/>\n",
    "\n",
    "Умрешь - начнешь опять сначала<br/>\n",
    "И повторится все, как встарь:<br/>\n",
    "Ночь, ледяная рябь канала,<br/>\n",
    "Аптека, улица, фонарь.<br/>\n",
    "\n",
    "Пусть каждая строчка - это будет условный документ. Переведем эти документы в числовое представление по методу мешка слов (Bag Of Words)"
   ]
  },
  {
   "cell_type": "code",
   "execution_count": 9,
   "metadata": {},
   "outputs": [],
   "source": [
    "from sklearn.feature_extraction.text import CountVectorizer\n",
    "from sklearn.feature_extraction.text import TfidfVectorizer\n",
    "\n",
    "corpus = \\\n",
    "[u'Ночь, улица, фонарь, аптека,',\n",
    " u'Бессмысленный и тусклый свет.',\n",
    " u'Живи еще хоть четверть века -',\n",
    " u'Все будет так. Исхода нет.',\n",
    " u'Умрешь - начнешь опять сначала',\n",
    " u'И повторится все, как встарь:',\n",
    " u'Ночь, ледяная рябь канала,',\n",
    " u'Аптека, улица, фонарь.']"
   ]
  },
  {
   "cell_type": "code",
   "execution_count": 10,
   "metadata": {},
   "outputs": [
    {
     "data": {
      "text/plain": [
       "(8, 27)"
      ]
     },
     "execution_count": 10,
     "metadata": {},
     "output_type": "execute_result"
    }
   ],
   "source": [
    "vect = CountVectorizer()\n",
    "\n",
    "bow = vect.fit_transform(corpus)\n",
    "bow = bow.toarray()\n",
    "bow.shape"
   ]
  },
  {
   "cell_type": "markdown",
   "metadata": {},
   "source": [
    "Получили матрицу размера $8 \\times 27$, так как у нас 8 строчек и выделилось 27 униальных слов. Элемент матрицы показывает сколько раз слово встречалось в соответствующем документе."
   ]
  },
  {
   "cell_type": "code",
   "execution_count": 11,
   "metadata": {},
   "outputs": [
    {
     "data": {
      "text/plain": [
       "array([[1, 0, 0, 0, 0, 0, 0, 0, 0, 0, 0, 0, 0, 0, 1, 0, 0, 0, 0, 0, 0, 0,\n",
       "        1, 0, 1, 0, 0],\n",
       "       [0, 1, 0, 0, 0, 0, 0, 0, 0, 0, 0, 0, 0, 0, 0, 0, 0, 0, 1, 0, 0, 1,\n",
       "        0, 0, 0, 0, 0],\n",
       "       [0, 0, 0, 1, 0, 0, 1, 1, 0, 0, 0, 0, 0, 0, 0, 0, 0, 0, 0, 0, 0, 0,\n",
       "        0, 0, 0, 1, 1],\n",
       "       [0, 0, 1, 0, 1, 0, 0, 0, 1, 0, 0, 0, 0, 1, 0, 0, 0, 0, 0, 0, 1, 0,\n",
       "        0, 0, 0, 0, 0],\n",
       "       [0, 0, 0, 0, 0, 0, 0, 0, 0, 0, 0, 0, 1, 0, 0, 1, 0, 0, 0, 1, 0, 0,\n",
       "        0, 1, 0, 0, 0],\n",
       "       [0, 0, 0, 0, 1, 1, 0, 0, 0, 1, 0, 0, 0, 0, 0, 0, 1, 0, 0, 0, 0, 0,\n",
       "        0, 0, 0, 0, 0],\n",
       "       [0, 0, 0, 0, 0, 0, 0, 0, 0, 0, 1, 1, 0, 0, 1, 0, 0, 1, 0, 0, 0, 0,\n",
       "        0, 0, 0, 0, 0],\n",
       "       [1, 0, 0, 0, 0, 0, 0, 0, 0, 0, 0, 0, 0, 0, 0, 0, 0, 0, 0, 0, 0, 0,\n",
       "        1, 0, 1, 0, 0]])"
      ]
     },
     "execution_count": 11,
     "metadata": {},
     "output_type": "execute_result"
    }
   ],
   "source": [
    "bow"
   ]
  },
  {
   "cell_type": "code",
   "execution_count": 12,
   "metadata": {},
   "outputs": [
    {
     "name": "stdout",
     "output_type": "stream",
     "text": [
      "столбец 0: аптека\n",
      "столбец 1: бессмысленный\n",
      "столбец 2: будет\n",
      "столбец 3: века\n",
      "столбец 4: все\n",
      "столбец 5: встарь\n",
      "столбец 6: еще\n",
      "столбец 7: живи\n",
      "столбец 8: исхода\n",
      "столбец 9: как\n",
      "столбец 10: канала\n",
      "столбец 11: ледяная\n",
      "столбец 12: начнешь\n",
      "столбец 13: нет\n",
      "столбец 14: ночь\n",
      "столбец 15: опять\n",
      "столбец 16: повторится\n",
      "столбец 17: рябь\n",
      "столбец 18: свет\n",
      "столбец 19: сначала\n",
      "столбец 20: так\n",
      "столбец 21: тусклый\n",
      "столбец 22: улица\n",
      "столбец 23: умрешь\n",
      "столбец 24: фонарь\n",
      "столбец 25: хоть\n",
      "столбец 26: четверть\n"
     ]
    }
   ],
   "source": [
    "# Посмотрим какие слова стоят по столбцам\n",
    "for i, w in enumerate(vect.get_feature_names()):\n",
    "    print u'столбец %d: %s' % (i, w)"
   ]
  },
  {
   "cell_type": "markdown",
   "metadata": {},
   "source": [
    "# Туториал: Имплементация собственного метода"
   ]
  },
  {
   "cell_type": "markdown",
   "metadata": {},
   "source": [
    "Для решения задач вида \"имплементируйте метод X\" крайне желательно (но необязательно) реализовывать методы с помощью интерфейса sklearn. Ниже вы увидите пример очень простого **классификатора**. Используйте эти наработи для выполнения задания."
   ]
  },
  {
   "cell_type": "markdown",
   "metadata": {},
   "source": [
    "Загрузите [датасет](https://archive.ics.uci.edu/ml/machine-learning-databases/wine-quality/winequality-red.csv) с информацией о характеристиках вина и его качестве. (В метод `pd.read_csv()` можно подать веб-ссылку на данные и пандас их скачает и преобразует в `DataFrame`)."
   ]
  },
  {
   "cell_type": "code",
   "execution_count": 13,
   "metadata": {},
   "outputs": [],
   "source": [
    "df_wine = pd.read_csv('https://archive.ics.uci.edu/ml/machine-learning-databases/wine-quality/winequality-red.csv', sep=';')"
   ]
  },
  {
   "cell_type": "code",
   "execution_count": 14,
   "metadata": {},
   "outputs": [
    {
     "data": {
      "text/html": [
       "<div>\n",
       "<style>\n",
       "    .dataframe thead tr:only-child th {\n",
       "        text-align: right;\n",
       "    }\n",
       "\n",
       "    .dataframe thead th {\n",
       "        text-align: left;\n",
       "    }\n",
       "\n",
       "    .dataframe tbody tr th {\n",
       "        vertical-align: top;\n",
       "    }\n",
       "</style>\n",
       "<table border=\"1\" class=\"dataframe\">\n",
       "  <thead>\n",
       "    <tr style=\"text-align: right;\">\n",
       "      <th></th>\n",
       "      <th>fixed acidity</th>\n",
       "      <th>volatile acidity</th>\n",
       "      <th>citric acid</th>\n",
       "      <th>residual sugar</th>\n",
       "      <th>chlorides</th>\n",
       "      <th>free sulfur dioxide</th>\n",
       "      <th>total sulfur dioxide</th>\n",
       "      <th>density</th>\n",
       "      <th>pH</th>\n",
       "      <th>sulphates</th>\n",
       "      <th>alcohol</th>\n",
       "      <th>quality</th>\n",
       "    </tr>\n",
       "  </thead>\n",
       "  <tbody>\n",
       "    <tr>\n",
       "      <th>0</th>\n",
       "      <td>7.4</td>\n",
       "      <td>0.70</td>\n",
       "      <td>0.00</td>\n",
       "      <td>1.9</td>\n",
       "      <td>0.076</td>\n",
       "      <td>11.0</td>\n",
       "      <td>34.0</td>\n",
       "      <td>0.9978</td>\n",
       "      <td>3.51</td>\n",
       "      <td>0.56</td>\n",
       "      <td>9.4</td>\n",
       "      <td>5</td>\n",
       "    </tr>\n",
       "    <tr>\n",
       "      <th>1</th>\n",
       "      <td>7.8</td>\n",
       "      <td>0.88</td>\n",
       "      <td>0.00</td>\n",
       "      <td>2.6</td>\n",
       "      <td>0.098</td>\n",
       "      <td>25.0</td>\n",
       "      <td>67.0</td>\n",
       "      <td>0.9968</td>\n",
       "      <td>3.20</td>\n",
       "      <td>0.68</td>\n",
       "      <td>9.8</td>\n",
       "      <td>5</td>\n",
       "    </tr>\n",
       "    <tr>\n",
       "      <th>2</th>\n",
       "      <td>7.8</td>\n",
       "      <td>0.76</td>\n",
       "      <td>0.04</td>\n",
       "      <td>2.3</td>\n",
       "      <td>0.092</td>\n",
       "      <td>15.0</td>\n",
       "      <td>54.0</td>\n",
       "      <td>0.9970</td>\n",
       "      <td>3.26</td>\n",
       "      <td>0.65</td>\n",
       "      <td>9.8</td>\n",
       "      <td>5</td>\n",
       "    </tr>\n",
       "    <tr>\n",
       "      <th>3</th>\n",
       "      <td>11.2</td>\n",
       "      <td>0.28</td>\n",
       "      <td>0.56</td>\n",
       "      <td>1.9</td>\n",
       "      <td>0.075</td>\n",
       "      <td>17.0</td>\n",
       "      <td>60.0</td>\n",
       "      <td>0.9980</td>\n",
       "      <td>3.16</td>\n",
       "      <td>0.58</td>\n",
       "      <td>9.8</td>\n",
       "      <td>6</td>\n",
       "    </tr>\n",
       "    <tr>\n",
       "      <th>4</th>\n",
       "      <td>7.4</td>\n",
       "      <td>0.70</td>\n",
       "      <td>0.00</td>\n",
       "      <td>1.9</td>\n",
       "      <td>0.076</td>\n",
       "      <td>11.0</td>\n",
       "      <td>34.0</td>\n",
       "      <td>0.9978</td>\n",
       "      <td>3.51</td>\n",
       "      <td>0.56</td>\n",
       "      <td>9.4</td>\n",
       "      <td>5</td>\n",
       "    </tr>\n",
       "  </tbody>\n",
       "</table>\n",
       "</div>"
      ],
      "text/plain": [
       "   fixed acidity  volatile acidity  citric acid  residual sugar  chlorides  \\\n",
       "0            7.4              0.70         0.00             1.9      0.076   \n",
       "1            7.8              0.88         0.00             2.6      0.098   \n",
       "2            7.8              0.76         0.04             2.3      0.092   \n",
       "3           11.2              0.28         0.56             1.9      0.075   \n",
       "4            7.4              0.70         0.00             1.9      0.076   \n",
       "\n",
       "   free sulfur dioxide  total sulfur dioxide  density    pH  sulphates  \\\n",
       "0                 11.0                  34.0   0.9978  3.51       0.56   \n",
       "1                 25.0                  67.0   0.9968  3.20       0.68   \n",
       "2                 15.0                  54.0   0.9970  3.26       0.65   \n",
       "3                 17.0                  60.0   0.9980  3.16       0.58   \n",
       "4                 11.0                  34.0   0.9978  3.51       0.56   \n",
       "\n",
       "   alcohol  quality  \n",
       "0      9.4        5  \n",
       "1      9.8        5  \n",
       "2      9.8        5  \n",
       "3      9.8        6  \n",
       "4      9.4        5  "
      ]
     },
     "execution_count": 14,
     "metadata": {},
     "output_type": "execute_result"
    }
   ],
   "source": [
    "df_wine.head()"
   ]
  },
  {
   "cell_type": "markdown",
   "metadata": {},
   "source": [
    "Наша задача состоит в предсказании целевого признака `quality` по остальным признакам. `quality` - это вещественная переменная (оценка качества от 0 до 10). Упростим себе задачу - создадим новый столбец `quality_cat` по следующим правилам:\n",
    "\n",
    "* `quality_cat = 1` если `quality > 5` \n",
    "* `quality_cat = 0` - иначе \n",
    "\n",
    "Таким образом, `quality_cat` характерует \"плохое\" и \"хорошее\" вино."
   ]
  },
  {
   "cell_type": "code",
   "execution_count": 15,
   "metadata": {},
   "outputs": [],
   "source": [
    "def prepocess_wine(df):\n",
    "    df.loc[:, 'quality_cat'] = (df.loc[:, 'quality'] > 5).astype(int)\n",
    "    df = df.drop('quality', axis=1)\n",
    "    \n",
    "    return df"
   ]
  },
  {
   "cell_type": "code",
   "execution_count": 16,
   "metadata": {},
   "outputs": [
    {
     "data": {
      "text/html": [
       "<div>\n",
       "<style>\n",
       "    .dataframe thead tr:only-child th {\n",
       "        text-align: right;\n",
       "    }\n",
       "\n",
       "    .dataframe thead th {\n",
       "        text-align: left;\n",
       "    }\n",
       "\n",
       "    .dataframe tbody tr th {\n",
       "        vertical-align: top;\n",
       "    }\n",
       "</style>\n",
       "<table border=\"1\" class=\"dataframe\">\n",
       "  <thead>\n",
       "    <tr style=\"text-align: right;\">\n",
       "      <th></th>\n",
       "      <th>fixed acidity</th>\n",
       "      <th>volatile acidity</th>\n",
       "      <th>citric acid</th>\n",
       "      <th>residual sugar</th>\n",
       "      <th>chlorides</th>\n",
       "      <th>free sulfur dioxide</th>\n",
       "      <th>total sulfur dioxide</th>\n",
       "      <th>density</th>\n",
       "      <th>pH</th>\n",
       "      <th>sulphates</th>\n",
       "      <th>alcohol</th>\n",
       "      <th>quality_cat</th>\n",
       "    </tr>\n",
       "  </thead>\n",
       "  <tbody>\n",
       "    <tr>\n",
       "      <th>0</th>\n",
       "      <td>7.4</td>\n",
       "      <td>0.70</td>\n",
       "      <td>0.00</td>\n",
       "      <td>1.9</td>\n",
       "      <td>0.076</td>\n",
       "      <td>11.0</td>\n",
       "      <td>34.0</td>\n",
       "      <td>0.9978</td>\n",
       "      <td>3.51</td>\n",
       "      <td>0.56</td>\n",
       "      <td>9.4</td>\n",
       "      <td>0</td>\n",
       "    </tr>\n",
       "    <tr>\n",
       "      <th>1</th>\n",
       "      <td>7.8</td>\n",
       "      <td>0.88</td>\n",
       "      <td>0.00</td>\n",
       "      <td>2.6</td>\n",
       "      <td>0.098</td>\n",
       "      <td>25.0</td>\n",
       "      <td>67.0</td>\n",
       "      <td>0.9968</td>\n",
       "      <td>3.20</td>\n",
       "      <td>0.68</td>\n",
       "      <td>9.8</td>\n",
       "      <td>0</td>\n",
       "    </tr>\n",
       "    <tr>\n",
       "      <th>2</th>\n",
       "      <td>7.8</td>\n",
       "      <td>0.76</td>\n",
       "      <td>0.04</td>\n",
       "      <td>2.3</td>\n",
       "      <td>0.092</td>\n",
       "      <td>15.0</td>\n",
       "      <td>54.0</td>\n",
       "      <td>0.9970</td>\n",
       "      <td>3.26</td>\n",
       "      <td>0.65</td>\n",
       "      <td>9.8</td>\n",
       "      <td>0</td>\n",
       "    </tr>\n",
       "    <tr>\n",
       "      <th>3</th>\n",
       "      <td>11.2</td>\n",
       "      <td>0.28</td>\n",
       "      <td>0.56</td>\n",
       "      <td>1.9</td>\n",
       "      <td>0.075</td>\n",
       "      <td>17.0</td>\n",
       "      <td>60.0</td>\n",
       "      <td>0.9980</td>\n",
       "      <td>3.16</td>\n",
       "      <td>0.58</td>\n",
       "      <td>9.8</td>\n",
       "      <td>1</td>\n",
       "    </tr>\n",
       "    <tr>\n",
       "      <th>4</th>\n",
       "      <td>7.4</td>\n",
       "      <td>0.70</td>\n",
       "      <td>0.00</td>\n",
       "      <td>1.9</td>\n",
       "      <td>0.076</td>\n",
       "      <td>11.0</td>\n",
       "      <td>34.0</td>\n",
       "      <td>0.9978</td>\n",
       "      <td>3.51</td>\n",
       "      <td>0.56</td>\n",
       "      <td>9.4</td>\n",
       "      <td>0</td>\n",
       "    </tr>\n",
       "  </tbody>\n",
       "</table>\n",
       "</div>"
      ],
      "text/plain": [
       "   fixed acidity  volatile acidity  citric acid  residual sugar  chlorides  \\\n",
       "0            7.4              0.70         0.00             1.9      0.076   \n",
       "1            7.8              0.88         0.00             2.6      0.098   \n",
       "2            7.8              0.76         0.04             2.3      0.092   \n",
       "3           11.2              0.28         0.56             1.9      0.075   \n",
       "4            7.4              0.70         0.00             1.9      0.076   \n",
       "\n",
       "   free sulfur dioxide  total sulfur dioxide  density    pH  sulphates  \\\n",
       "0                 11.0                  34.0   0.9978  3.51       0.56   \n",
       "1                 25.0                  67.0   0.9968  3.20       0.68   \n",
       "2                 15.0                  54.0   0.9970  3.26       0.65   \n",
       "3                 17.0                  60.0   0.9980  3.16       0.58   \n",
       "4                 11.0                  34.0   0.9978  3.51       0.56   \n",
       "\n",
       "   alcohol  quality_cat  \n",
       "0      9.4            0  \n",
       "1      9.8            0  \n",
       "2      9.8            0  \n",
       "3      9.8            1  \n",
       "4      9.4            0  "
      ]
     },
     "execution_count": 16,
     "metadata": {},
     "output_type": "execute_result"
    }
   ],
   "source": [
    "df_wine = df_wine.pipe(prepocess_wine)\n",
    "df_wine.head()"
   ]
  },
  {
   "cell_type": "markdown",
   "metadata": {},
   "source": [
    "Нарисуем распределение хорошего и плохого вина по признаку `alcohol`."
   ]
  },
  {
   "cell_type": "code",
   "execution_count": 17,
   "metadata": {},
   "outputs": [
    {
     "data": {
      "text/plain": [
       "<matplotlib.legend.Legend at 0x7f75164da410>"
      ]
     },
     "execution_count": 17,
     "metadata": {},
     "output_type": "execute_result"
    },
    {
     "data": {
      "image/png": "[encoded data removed]",
      "text/plain": [
       "<matplotlib.figure.Figure at 0x7f75164da450>"
      ]
     },
     "metadata": {},
     "output_type": "display_data"
    }
   ],
   "source": [
    "_, ax = plt.subplots(1,1)\n",
    "df_wine.query('quality_cat == 1').hist('alcohol', alpha=0.3, bins=20, label='good', ax=ax)\n",
    "df_wine.query('quality_cat == 0').hist('alcohol', alpha=0.3, bins=20, label='bad', ax=ax)\n",
    "ax.set_xlabel('alcohol')\n",
    "ax.set_ylabel('count')\n",
    "plt.legend()"
   ]
  },
  {
   "cell_type": "markdown",
   "metadata": {},
   "source": [
    "Визуально кажется, что можно найти некоторое пороговое значение признака `alcohol` $\\theta$, чтобы хорошо дискриминировать между плохими и хорошим вином:\n",
    "* Если `alcohol >` $\\theta$ - то предсказываем, что вино хорошее\n",
    "* Если `alcohol <=` $\\theta$ - то предсказываем, что вино плохое\n",
    "\n",
    "Обучаеть классификатор будем очень просто: перебирать значения признака alchol и считать **ошибку** классификации. То значение, где ошибка минимальна и будет оптимальным.\n",
    "\n",
    "Разделим целевой признак от остальных признаков"
   ]
  },
  {
   "cell_type": "code",
   "execution_count": 18,
   "metadata": {},
   "outputs": [],
   "source": [
    "X, y = df_wine.iloc[:, :-1].values, df_wine.iloc[:, -1].values"
   ]
  },
  {
   "cell_type": "markdown",
   "metadata": {},
   "source": [
    "Далее вы увидете пример реализации этого простого классификатора."
   ]
  },
  {
   "cell_type": "code",
   "execution_count": 2,
   "metadata": {},
   "outputs": [],
   "source": [
    "from sklearn.base import BaseEstimator, ClassifierMixin\n",
    "\n",
    "class SimpleClassifier(BaseEstimator, ClassifierMixin): \n",
    "    \n",
    "    def __init__(self):\n",
    "        \"\"\"\n",
    "        Инициализация метода\n",
    "        \"\"\"\n",
    "        \n",
    "        self.threshold = 0\n",
    "\n",
    "    def fit(self, X, y=None):\n",
    "        \"\"\"\n",
    "        Выполняет процедуру обучения классификатора. В данном случае - перебор занчения признака alcohol.\n",
    "        Договоримся, что признак alcohol будет в последнем столбце матрицы X\n",
    "        \"\"\"\n",
    "        \n",
    "        alcohol = X[:,-1]\n",
    "        n = float(y.shape[0])\n",
    "        \n",
    "        # Задаем пространство поиска\n",
    "        alco_range = np.arange(alcohol.min(), alcohol.max(), 0.1)\n",
    "        \n",
    "        min_error_rate = 1\n",
    "                \n",
    "        #  Начинаем поиск\n",
    "        for theta in alco_range:\n",
    "            prediction = alcohol > theta\n",
    "            \n",
    "            error_rate = sum(prediction != y)/n\n",
    "            \n",
    "            if error_rate < min_error_rate:\n",
    "                min_error_rate = error_rate\n",
    "                self.threshold = theta  \n",
    "        \n",
    "        return self\n",
    "\n",
    "    def predict(self, X, y=None):\n",
    "        \"\"\"\n",
    "        Процедура предсказания класса по обученному порогу\n",
    "        \"\"\"\n",
    "        \n",
    "        return (X[:,-1] > self.threshold).astype(int)"
   ]
  },
  {
   "cell_type": "markdown",
   "metadata": {},
   "source": [
    "Обучаем модель"
   ]
  },
  {
   "cell_type": "code",
   "execution_count": 20,
   "metadata": {},
   "outputs": [
    {
     "name": "stdout",
     "output_type": "stream",
     "text": [
      "Оптимальный порог: 10.000000\n"
     ]
    }
   ],
   "source": [
    "model = SimpleClassifier()\n",
    "model.fit(X, y)\n",
    "\n",
    "print 'Оптимальный порог: %f' % model.threshold"
   ]
  },
  {
   "cell_type": "markdown",
   "metadata": {},
   "source": [
    "Получаем предсказание модели (на обучающей выборке)"
   ]
  },
  {
   "cell_type": "code",
   "execution_count": 21,
   "metadata": {},
   "outputs": [],
   "source": [
    "y_hat = model.predict(X)"
   ]
  },
  {
   "cell_type": "markdown",
   "metadata": {},
   "source": [
    "Оценим долю ошибок на обучающей выборке"
   ]
  },
  {
   "cell_type": "code",
   "execution_count": 22,
   "metadata": {},
   "outputs": [
    {
     "name": "stdout",
     "output_type": "stream",
     "text": [
      "Доля ошибок на обучающей выборке: 0.295184\n"
     ]
    }
   ],
   "source": [
    "error_rate = sum(y_hat != y)/float(y.shape[0])\n",
    "print 'Доля ошибок на обучающей выборке: %f' % error_rate"
   ]
  },
  {
   "cell_type": "markdown",
   "metadata": {},
   "source": [
    "## Проверка метода на контрольной выборке\n",
    "\n",
    "Мы обучили наш метод на данных о красном виде. \n",
    "\n",
    "Посмотрим, выполняется ли так же хорошо закономерность между качеством и уровнем алкоголя в белом вине."
   ]
  },
  {
   "cell_type": "code",
   "execution_count": 23,
   "metadata": {},
   "outputs": [
    {
     "data": {
      "text/html": [
       "<div>\n",
       "<style>\n",
       "    .dataframe thead tr:only-child th {\n",
       "        text-align: right;\n",
       "    }\n",
       "\n",
       "    .dataframe thead th {\n",
       "        text-align: left;\n",
       "    }\n",
       "\n",
       "    .dataframe tbody tr th {\n",
       "        vertical-align: top;\n",
       "    }\n",
       "</style>\n",
       "<table border=\"1\" class=\"dataframe\">\n",
       "  <thead>\n",
       "    <tr style=\"text-align: right;\">\n",
       "      <th></th>\n",
       "      <th>fixed acidity</th>\n",
       "      <th>volatile acidity</th>\n",
       "      <th>citric acid</th>\n",
       "      <th>residual sugar</th>\n",
       "      <th>chlorides</th>\n",
       "      <th>free sulfur dioxide</th>\n",
       "      <th>total sulfur dioxide</th>\n",
       "      <th>density</th>\n",
       "      <th>pH</th>\n",
       "      <th>sulphates</th>\n",
       "      <th>alcohol</th>\n",
       "      <th>quality_cat</th>\n",
       "    </tr>\n",
       "  </thead>\n",
       "  <tbody>\n",
       "    <tr>\n",
       "      <th>0</th>\n",
       "      <td>7.0</td>\n",
       "      <td>0.27</td>\n",
       "      <td>0.36</td>\n",
       "      <td>20.7</td>\n",
       "      <td>0.045</td>\n",
       "      <td>45.0</td>\n",
       "      <td>170.0</td>\n",
       "      <td>1.0010</td>\n",
       "      <td>3.00</td>\n",
       "      <td>0.45</td>\n",
       "      <td>8.8</td>\n",
       "      <td>1</td>\n",
       "    </tr>\n",
       "    <tr>\n",
       "      <th>1</th>\n",
       "      <td>6.3</td>\n",
       "      <td>0.30</td>\n",
       "      <td>0.34</td>\n",
       "      <td>1.6</td>\n",
       "      <td>0.049</td>\n",
       "      <td>14.0</td>\n",
       "      <td>132.0</td>\n",
       "      <td>0.9940</td>\n",
       "      <td>3.30</td>\n",
       "      <td>0.49</td>\n",
       "      <td>9.5</td>\n",
       "      <td>1</td>\n",
       "    </tr>\n",
       "    <tr>\n",
       "      <th>2</th>\n",
       "      <td>8.1</td>\n",
       "      <td>0.28</td>\n",
       "      <td>0.40</td>\n",
       "      <td>6.9</td>\n",
       "      <td>0.050</td>\n",
       "      <td>30.0</td>\n",
       "      <td>97.0</td>\n",
       "      <td>0.9951</td>\n",
       "      <td>3.26</td>\n",
       "      <td>0.44</td>\n",
       "      <td>10.1</td>\n",
       "      <td>1</td>\n",
       "    </tr>\n",
       "    <tr>\n",
       "      <th>3</th>\n",
       "      <td>7.2</td>\n",
       "      <td>0.23</td>\n",
       "      <td>0.32</td>\n",
       "      <td>8.5</td>\n",
       "      <td>0.058</td>\n",
       "      <td>47.0</td>\n",
       "      <td>186.0</td>\n",
       "      <td>0.9956</td>\n",
       "      <td>3.19</td>\n",
       "      <td>0.40</td>\n",
       "      <td>9.9</td>\n",
       "      <td>1</td>\n",
       "    </tr>\n",
       "    <tr>\n",
       "      <th>4</th>\n",
       "      <td>7.2</td>\n",
       "      <td>0.23</td>\n",
       "      <td>0.32</td>\n",
       "      <td>8.5</td>\n",
       "      <td>0.058</td>\n",
       "      <td>47.0</td>\n",
       "      <td>186.0</td>\n",
       "      <td>0.9956</td>\n",
       "      <td>3.19</td>\n",
       "      <td>0.40</td>\n",
       "      <td>9.9</td>\n",
       "      <td>1</td>\n",
       "    </tr>\n",
       "  </tbody>\n",
       "</table>\n",
       "</div>"
      ],
      "text/plain": [
       "   fixed acidity  volatile acidity  citric acid  residual sugar  chlorides  \\\n",
       "0            7.0              0.27         0.36            20.7      0.045   \n",
       "1            6.3              0.30         0.34             1.6      0.049   \n",
       "2            8.1              0.28         0.40             6.9      0.050   \n",
       "3            7.2              0.23         0.32             8.5      0.058   \n",
       "4            7.2              0.23         0.32             8.5      0.058   \n",
       "\n",
       "   free sulfur dioxide  total sulfur dioxide  density    pH  sulphates  \\\n",
       "0                 45.0                 170.0   1.0010  3.00       0.45   \n",
       "1                 14.0                 132.0   0.9940  3.30       0.49   \n",
       "2                 30.0                  97.0   0.9951  3.26       0.44   \n",
       "3                 47.0                 186.0   0.9956  3.19       0.40   \n",
       "4                 47.0                 186.0   0.9956  3.19       0.40   \n",
       "\n",
       "   alcohol  quality_cat  \n",
       "0      8.8            1  \n",
       "1      9.5            1  \n",
       "2     10.1            1  \n",
       "3      9.9            1  \n",
       "4      9.9            1  "
      ]
     },
     "execution_count": 23,
     "metadata": {},
     "output_type": "execute_result"
    }
   ],
   "source": [
    "df_wine_test = pd.read_csv('https://archive.ics.uci.edu/ml/machine-learning-databases/wine-quality/winequality-white.csv',\n",
    "                           sep=';')\n",
    "\n",
    "df_wine_test = df_wine_test.pipe(prepocess_wine)\n",
    "df_wine_test.head()"
   ]
  },
  {
   "cell_type": "code",
   "execution_count": 24,
   "metadata": {},
   "outputs": [],
   "source": [
    "X_test, y_test = df_wine_test.iloc[:, :-1].values, df_wine_test.iloc[:, -1].values\n",
    "y_hat = model.predict(X_test)"
   ]
  },
  {
   "cell_type": "code",
   "execution_count": 25,
   "metadata": {},
   "outputs": [
    {
     "name": "stdout",
     "output_type": "stream",
     "text": [
      "Доля ошибок на контрольной выборке: 0.312577\n"
     ]
    }
   ],
   "source": [
    "error_rate = sum(y_hat != y_test)/float(y_test.shape[0])\n",
    "print 'Доля ошибок на контрольной выборке: %f' % error_rate"
   ]
  },
  {
   "cell_type": "markdown",
   "metadata": {},
   "source": [
    "Получилось неплохо и это лишь наивный алгоритм на одном признаке! Ну а выводы делайте сами =)"
   ]
  },
  {
   "cell_type": "markdown",
   "metadata": {},
   "source": [
    "# Имплементация K-means\n",
    "\n",
    "Пользуясь наработками выше, имплементируйте метод k-means.  \n",
    "При инициализации необходимо задавать количество кластеров, функцию расстояния между кластерами (для оригинального k-means - евклидово расстояние) и начальное состояние генератора случайных чисел.\n",
    "\n",
    "После обучения, среди атрибутов класса `Kmeans` должны появится\n",
    "* Метки кластеров для объектов\n",
    "* Координаты центройдов кластеров\n",
    "\n",
    "k-means - это алгоритм **кластеризации**, а не классификации, а посему метод `.predict()` в нем фактически не нужен, но он может возвращать метки ближайшего кластера для объектов."
   ]
  },
  {
   "cell_type": "markdown",
   "metadata": {},
   "source": [
    "###### Задание 1 (2 баллов)\n",
    "Имплементируйте метод k-means\n",
    "\n",
    "Теория для выполнения задания 2 и 3 остаётся на самостоятельное изучение. Теории немного и она совсем простая.\n",
    "\n",
    "###### Задание 2 (2 балла)\n",
    "Имплементируйте класс MiniBatchKMeans, который является классом наследником Kmeans.\n",
    "\n",
    "###### Задание 3 (2 балла)\n",
    "Превратите k-means в k-means++. Для этого нужно реализовать метод в классе Kmeans, который будет инициализировать более \"хорошие\" значения центроидов. Чтобы использовался метод k-means++, в параметр init необходимо передать строковое значение 'k-means' (по умолчанию 'random').\n",
    "\n",
    "###### Задание 4 (2 балла)\n",
    "В пункте \"Проверка корректности метода\" нужно нарисовать графики, которые показывают зависимость времени выполнения алгоритма от количества сэмплов. Графики должны быть  нарисованы для различных комбинаций реализаций алгоритма (k-means, k-means++, k-means с MiniBatchKMeans, k-means++ с MiniBatchKMeans). Для этого рекомендуется использовать инструмент %timeit. График достаточно построить на 5-10 точках.\n",
    "\n",
    "###### Задание 5 (2 балла)\n",
    "В пункте \"Применение K-means на реальных данных\" нужно сравнить различные реализации k-means (k-means, k-means++, k-means с MiniBatchKMeans, k-means++ с MiniBatchKMeans). После чего написать вывод, в котором должно быть объяснение того, почему один алгоритм оказался лучше остальных или почему не было выявлено лучшего алгоритма."
   ]
  },
  {
   "cell_type": "code",
   "execution_count": 3,
   "metadata": {},
   "outputs": [],
   "source": [
    "import math\n",
    "from sklearn.base import ClusterMixin\n",
    "import random\n",
    "\n",
    "class Kmeans(BaseEstimator, ClusterMixin): \n",
    "    \n",
    "    def __init__(self, k=2, metric='euclidean', max_iter=1000,\n",
    "                 random_state=None, init='random', epsilon=0.00001):\n",
    "        \"\"\"\n",
    "        Инициализация метода\n",
    "        :k - количество кластеров\n",
    "        :metric - функция расстояния между объектами\n",
    "        :max_iter - максиальное количество итераций\n",
    "        :random_state - seed для инициализации генератора случайных чисел\n",
    "        \"\"\"\n",
    "        \n",
    "        self.k = k\n",
    "        self.random_state = random_state\n",
    "        self.metric = metric\n",
    "        self.max_iter = max_iter\n",
    "        self.init = init\n",
    "        self.dev = sys.float_info.max\n",
    "        self.epsilon = epsilon\n",
    "        return None\n",
    "\n",
    "    def init_centroids(self, X):\n",
    "        # Инициализируем массив с центроидами кластеров\n",
    "        if self.init == 'random':\n",
    "            self.centroids = X[np.random.permutation(xrange(0, X.shape[0]))[:self.k]]\n",
    "        elif self.init == 'k-means':\n",
    "            nearest = np.empty(self.k, dtype=np.int64)\n",
    "            chosen = np.empty(self.k, dtype=np.int64)\n",
    "            self.centroids = np.empty((self.k, X.shape[1]), dtype=np.float64)\n",
    "            \n",
    "            #выбрали начальный центроид\n",
    "            chosen[0] = np.random.choice(xrange(0, X.shape[0]))\n",
    "            self.centroids[0] = X[chosen[0]]\n",
    "            #выбираем оставшиеся self.k - 1 центроиды\n",
    "            for ind in xrange(1, self.k):\n",
    "                dist = np.empty(X.shape[0])\n",
    "                #для каждого элемента считаем расстояние до ближайшего среднего\n",
    "                dist = ((self.centroids[:ind, np.newaxis, :] - X)**2).sum(2).min(0)\n",
    "                #выбираем новый центроид пропорционально расстоянию до ближайшего среднего\n",
    "                cummul_sum = dist.cumsum()\n",
    "                cummul_sum /= cummul_sum.max()\n",
    "                new_c = 0\n",
    "                #выбираем случайную величину, а затем и объект, соответствующий интервалу, в который она попала\n",
    "                p = random.uniform(0, 1)\n",
    "                new_c = cummul_sum[cummul_sum > p].argmin()\n",
    "                # Проверяем, что выбранный, новый центроид не принадлежит множеству уже выбранных\n",
    "                for j in xrange(0, ind):\n",
    "                    if chosen[j] == new_c:\n",
    "                        if new_c == X.shape[0] - 1:\n",
    "                            new_c -= 1\n",
    "                        else:\n",
    "                            new_c += 1\n",
    "                chosen[ind] = new_c\n",
    "                self.centroids[ind] = X[new_c]\n",
    "        \n",
    "        \n",
    "    def fit(self, X, y=None):\n",
    "        \"\"\"\n",
    "        Процедура обучения k-means\n",
    "        \"\"\"\n",
    "        \n",
    "        # Инициализация генератора случайных чисел\n",
    "        np.random.seed(self.random_state)\n",
    "        \n",
    "        # Массив с метками кластеров для каждого объекта из X\n",
    "        self.labels = np.empty(X.shape[0], dtype=np.int64)\n",
    "        \n",
    "        # Инициализируем центроиды\n",
    "        self.init_centroids(X)\n",
    "        \n",
    "        for i in xrange(1, self.max_iter):\n",
    "            # Пересчитали принадлежность\n",
    "            self.labels = self.predict(X)\n",
    "            # Пересчитали центроиды\n",
    "            for x in xrange(0, self.k):\n",
    "                tmp_lab = self.labels == x\n",
    "                if X[tmp_lab].shape[0] != 0:\n",
    "                    self.centroids[x] = X[self.labels == x].mean(0)\n",
    "            # Посчитали cумму отклонений\n",
    "            new_dev = 0;\n",
    "            for x in xrange(0, self.k):\n",
    "                tmp_lab = self.labels == x\n",
    "                if(X[tmp_lab].shape[0]):\n",
    "                    new_dev += np.apply_along_axis(np.linalg.norm, 0, (X[tmp_lab] - self.centroids[x])).sum()\n",
    "            if abs(self.dev - new_dev) < self.epsilon:\n",
    "                break;\n",
    "            self.dev = new_dev\n",
    "        return self\n",
    "\n",
    "    def predict(self, X, y=None):\n",
    "        \"\"\"\n",
    "        Процедура предсказания кластера\n",
    "        \n",
    "        Возвращает метку ближайшего кластера для каждого объекта\n",
    "        \"\"\"\n",
    "        return ((self.centroids[:, np.newaxis, :] - X)**2).sum(2).argmin(0)\n",
    "\n",
    "class MiniBatchKMeans(Kmeans):\n",
    "    def __init__(self, batch_size, k=2, metric='euclidean',\n",
    "                 max_iter=1000, random_state=None, init='random', epsilon=0.0001):\n",
    "        \n",
    "        Kmeans.__init__(self, k, metric, max_iter, random_state, init, epsilon)\n",
    "        self.batch_size = batch_size\n",
    "        \n",
    "        return None\n",
    "    \n",
    "    def fit(self, X, y=None):\n",
    "        self.init_centroids(X)\n",
    "        self.labels = np.full(X.shape[0], -1, dtype=np.int64)\n",
    "        v = np.zeros(self.centroids.shape[0])\n",
    "        # Вычисляем центроиды\n",
    "        for ind in xrange(0, self.max_iter):\n",
    "            # Выбрали подмножество размера self.batch_size\n",
    "            M = X[np.random.permutation(xrange(0, X.shape[0]))[ : self.batch_size]]\n",
    "            # Пересчитали принадлежность\n",
    "            self.labels = self.predict(M)\n",
    "            # Пересчитываем центроиды\n",
    "            for m_iter, m in enumerate(M):\n",
    "                v[self.labels[m_iter]] += 1\n",
    "                grad_stp = 1.0 / v[self.labels[m_iter]]\n",
    "                self.centroids[self.labels[m_iter]] = (1 - grad_stp)*self.centroids[self.labels[m_iter]] + grad_stp*m\n",
    "            # По определённым ранее центроидам посчитали принадлежность\n",
    "            self.labels = self.predict(X)\n",
    "            # Посчитали cумму отклонений\n",
    "            new_dev = 0;\n",
    "            for x in xrange(0, self.centroids.shape[0]):\n",
    "                tmp_lab = (self.labels == x)\n",
    "                if(X[tmp_lab].shape[0]):\n",
    "                    new_dev += np.apply_along_axis(np.linalg.norm, 0, (X[tmp_lab] - self.centroids[x])).sum()\n",
    "            # При достижении тербуемой точности - выходим\n",
    "            if abs(self.dev - new_dev) < self.epsilon:\n",
    "                break\n",
    "            self.dev = new_dev\n",
    "            \n",
    "        return self\n",
    "        "
   ]
  },
  {
   "cell_type": "markdown",
   "metadata": {},
   "source": [
    "### Проверка корректности метода\n",
    "\n",
    "Перед тем как применять алгоритм на реальных данных, нужно испытать его на простых \"игрушечных\" данных.\n",
    "\n",
    "Если алгоритм реализован правильно, то метод должен идеально разбивать на 3 кластера данные ниже. Проверьте это.\n",
    "\n",
    "ВНИМАНИЕ! Проверка должна быть осуществлена на всех реализациях, иначе реализация не будет зачтена!"
   ]
  },
  {
   "cell_type": "code",
   "execution_count": 4,
   "metadata": {},
   "outputs": [],
   "source": [
    "from sklearn.datasets import make_blobs"
   ]
  },
  {
   "cell_type": "code",
   "execution_count": 5,
   "metadata": {},
   "outputs": [],
   "source": [
    "X_toy, y_toy = make_blobs(n_samples=100, n_features=2, centers=3, cluster_std=1, \n",
    "           center_box=(-10.0, 10.0), shuffle=False, random_state=1234)"
   ]
  },
  {
   "cell_type": "code",
   "execution_count": 6,
   "metadata": {},
   "outputs": [
    {
     "data": {
      "text/plain": [
       "<matplotlib.collections.PathCollection at 0x7fc65ab9f490>"
      ]
     },
     "execution_count": 6,
     "metadata": {},
     "output_type": "execute_result"
    },
    {
     "data": {
      "image/png": "[encoded data removed]",
      "text/plain": [
       "<matplotlib.figure.Figure at 0x7fc65de5bd50>"
      ]
     },
     "metadata": {},
     "output_type": "display_data"
    }
   ],
   "source": [
    "plt.scatter(X_toy[:,0], X_toy[:, 1], c=y_toy)"
   ]
  },
  {
   "cell_type": "markdown",
   "metadata": {},
   "source": [
    "Проверьте Вашу имплементацию на простых данных (без этого пункта задание не считается выполненным).   \n",
    "КОММЕНТАРИИ НЕ СТИРАТЬ!"
   ]
  },
  {
   "cell_type": "code",
   "execution_count": 7,
   "metadata": {},
   "outputs": [
    {
     "data": {
      "text/plain": [
       "<matplotlib.collections.PathCollection at 0x7fc65ab3a990>"
      ]
     },
     "execution_count": 7,
     "metadata": {},
     "output_type": "execute_result"
    },
    {
     "data": {
      "image/png": "[encoded data removed]",
      "text/plain": [
       "<matplotlib.figure.Figure at 0x7fc65d094b90>"
      ]
     },
     "metadata": {},
     "output_type": "display_data"
    }
   ],
   "source": [
    "## Работоспособность KMeans\n",
    "T_kmeans = Kmeans(k=3, epsilon=0.001)\n",
    "T_kmeans.fit(X_toy)\n",
    "plt.scatter(X_toy[:,0], X_toy[:, 1], c=T_kmeans.predict(X_toy))"
   ]
  },
  {
   "cell_type": "code",
   "execution_count": 8,
   "metadata": {},
   "outputs": [
    {
     "data": {
      "text/plain": [
       "<matplotlib.collections.PathCollection at 0x7fc65a8a22d0>"
      ]
     },
     "execution_count": 8,
     "metadata": {},
     "output_type": "execute_result"
    },
    {
     "data": {
      "image/png": "[encoded data removed]",
      "text/plain": [
       "<matplotlib.figure.Figure at 0x7fc65ac230d0>"
      ]
     },
     "metadata": {},
     "output_type": "display_data"
    }
   ],
   "source": [
    "## Работоспособность KMeans++\n",
    "T_kmeans_pl = Kmeans(k=3, init='k-means', epsilon=0.001)\n",
    "T_kmeans_pl.fit(X_toy)\n",
    "plt.scatter(X_toy[:,0], X_toy[:, 1], c=T_kmeans_pl.predict(X_toy))"
   ]
  },
  {
   "cell_type": "code",
   "execution_count": 10,
   "metadata": {},
   "outputs": [
    {
     "data": {
      "text/plain": [
       "<matplotlib.collections.PathCollection at 0x7fc65a73c810>"
      ]
     },
     "execution_count": 10,
     "metadata": {},
     "output_type": "execute_result"
    },
    {
     "data": {
      "image/png": "[encoded data removed]",
      "text/plain": [
       "<matplotlib.figure.Figure at 0x7fc65a876a90>"
      ]
     },
     "metadata": {},
     "output_type": "display_data"
    }
   ],
   "source": [
    "## Работоспособность KMeans с MiniBatchKMeans\n",
    "T_minibatch = MiniBatchKMeans(batch_size=20, k=3, max_iter=100, epsilon=0.001)\n",
    "T_minibatch.fit(X_toy)\n",
    "plt.scatter(X_toy[:,0], X_toy[:, 1], c=T_minibatch.predict(X_toy))"
   ]
  },
  {
   "cell_type": "code",
   "execution_count": 12,
   "metadata": {},
   "outputs": [
    {
     "data": {
      "text/plain": [
       "<matplotlib.collections.PathCollection at 0x7fc65a554e90>"
      ]
     },
     "execution_count": 12,
     "metadata": {},
     "output_type": "execute_result"
    },
    {
     "data": {
      "image/png": "[encoded data removed]",
      "text/plain": [
       "<matplotlib.figure.Figure at 0x7fc65a706b10>"
      ]
     },
     "metadata": {},
     "output_type": "display_data"
    }
   ],
   "source": [
    "## Работоспособность KMeans++ с MiniBatchKMeans\n",
    "T_minibatch_pl = MiniBatchKMeans(batch_size=30, k=3, init='k-means', max_iter=100, epsilon=0.001)\n",
    "T_minibatch_pl.fit(X_toy)\n",
    "plt.scatter(X_toy[:,0], X_toy[:, 1], c=T_minibatch_pl.predict(X_toy))"
   ]
  },
  {
   "cell_type": "code",
   "execution_count": 24,
   "metadata": {},
   "outputs": [],
   "source": [
    "## Время выполнения алгоритма KMeans\n",
    "a_kmeans = np.empty((0, ))\n",
    "for i in xrange(100, 1000, 50):\n",
    "    X, y = make_blobs(n_samples=i, n_features=2, centers=3, cluster_std=1, \n",
    "                      center_box=(-10.0, 10.0), shuffle=False, random_state=1234)\n",
    "    result = %timeit -o -q -n 1 -r 1 T_kmeans.fit(X)\n",
    "    a_kmeans = np.append(a_kmeans, result.best)"
   ]
  },
  {
   "cell_type": "code",
   "execution_count": 27,
   "metadata": {},
   "outputs": [
    {
     "name": "stdout",
     "output_type": "stream",
     "text": [
      "Coeff:  0.00216529834381\n"
     ]
    },
    {
     "data": {
      "image/png": "[encoded data removed]",
      "text/plain": [
       "<matplotlib.figure.Figure at 0x7fc659fa55d0>"
      ]
     },
     "metadata": {},
     "output_type": "display_data"
    }
   ],
   "source": [
    "time_lab_kmeans = np.array([x for x in xrange(100, 1000, 50)])\n",
    "m, b = np.polyfit(time_lab_kmeans, a_kmeans, 1)\n",
    "plt.plot(time_lab_kmeans, m * time_lab_kmeans + b, '-')\n",
    "plt.scatter([x for x in xrange(100, 1000, 50)], a_kmeans)\n",
    "print 'Coeff: ', (m * time_lab_kmeans[0] + b - m * time_lab_kmeans[1] - b) / (time_lab_kmeans[0] - time_lab_kmeans[1]) * 1000"
   ]
  },
  {
   "cell_type": "code",
   "execution_count": 15,
   "metadata": {},
   "outputs": [],
   "source": [
    "## Время выполнения алгоритма KMeans++\n",
    "a_kmeansps = np.empty(0)\n",
    "for i in xrange(100, 1000, 50):\n",
    "    X, y = make_blobs(n_samples=i, n_features=2, centers=3, cluster_std=1, \n",
    "                      center_box=(-10.0, 10.0), shuffle=False, random_state=1234)\n",
    "    result = %timeit -o -q -n 1 -r 1 T_kmeans_pl.fit(X)\n",
    "    a_kmeansps = np.append(a_kmeansps, result.best)"
   ]
  },
  {
   "cell_type": "code",
   "execution_count": 28,
   "metadata": {},
   "outputs": [
    {
     "name": "stdout",
     "output_type": "stream",
     "text": [
      "Coeff:  0.00910373664124\n"
     ]
    },
    {
     "data": {
      "image/png": "[encoded data removed]",
      "text/plain": [
       "<matplotlib.figure.Figure at 0x7fc659fa5610>"
      ]
     },
     "metadata": {},
     "output_type": "display_data"
    }
   ],
   "source": [
    "time_lab_kmeanspl = np.array([x for x in xrange(100, 1000, 50)])\n",
    "m, b = np.polyfit(time_lab_kmeanspl, a_kmeansps, 1)\n",
    "plt.plot(time_lab_kmeanspl, m * time_lab_kmeanspl + b, '-')\n",
    "plt.scatter([x for x in xrange(100, 1000, 50)], a_kmeansps)\n",
    "print 'Coeff: ', (m * time_lab_kmeanspl[0] + b - m * time_lab_kmeanspl[1] - b) / (time_lab_kmeanspl[0] - time_lab_kmeanspl[1]) * 1000"
   ]
  },
  {
   "cell_type": "code",
   "execution_count": 29,
   "metadata": {},
   "outputs": [],
   "source": [
    "## Время выполнения алгоритма KMeans с MiniBatchKMeans\n",
    "a_minib = np.empty(0)\n",
    "for i in xrange(100, 1000, 50):\n",
    "    X, y = make_blobs(n_samples=i, n_features=2, centers=3, cluster_std=1, \n",
    "                      center_box=(-10.0, 10.0), shuffle=False, random_state=1234)\n",
    "    result = %timeit -o -q -n 1 -r 1 T_minibatch.fit(X)\n",
    "    a_minib = np.append(a_minib, result.best)"
   ]
  },
  {
   "cell_type": "code",
   "execution_count": 30,
   "metadata": {},
   "outputs": [
    {
     "name": "stdout",
     "output_type": "stream",
     "text": [
      "Coeff:  0.0128176190167\n"
     ]
    },
    {
     "data": {
      "image/png": "[encoded data removed]",
      "text/plain": [
       "<matplotlib.figure.Figure at 0x7fc659eee790>"
      ]
     },
     "metadata": {},
     "output_type": "display_data"
    }
   ],
   "source": [
    "time_lab_minib = np.array([x for x in xrange(100, 1000, 50)])\n",
    "m, b = np.polyfit(time_lab_minib, a_minib, 1)\n",
    "plt.plot(time_lab_minib, m * time_lab_minib + b, '-')\n",
    "plt.scatter([x for x in xrange(100, 1000, 50)], a_minib)\n",
    "print 'Coeff: ', (m * time_lab_minib[0] + b - m * time_lab_minib[1] - b) / (time_lab_minib[0] - time_lab_minib[1]) * 1000"
   ]
  },
  {
   "cell_type": "code",
   "execution_count": 31,
   "metadata": {},
   "outputs": [],
   "source": [
    "## Время выполнения алгоритма  KMeans++ с MiniBatchKMeans\n",
    "a_minibpl = np.empty(0)\n",
    "for i in xrange(100, 1000, 50):\n",
    "    X, y = make_blobs(n_samples=i, n_features=2, centers=3, cluster_std=1, \n",
    "                      center_box=(-10.0, 10.0), shuffle=False, random_state=1234)\n",
    "    result = %timeit -o -q -n 1 -r 1 T_minibatch_pl.fit(X)\n",
    "    a_minibpl = np.append(a_minibpl, result.best)"
   ]
  },
  {
   "cell_type": "code",
   "execution_count": 32,
   "metadata": {},
   "outputs": [
    {
     "name": "stdout",
     "output_type": "stream",
     "text": [
      "Coeff:  0.0445309265971\n"
     ]
    },
    {
     "data": {
      "image/png": "[encoded data removed]",
      "text/plain": [
       "<matplotlib.figure.Figure at 0x7fc65a5e3210>"
      ]
     },
     "metadata": {},
     "output_type": "display_data"
    }
   ],
   "source": [
    "time_lab_minibpl = np.array([x for x in xrange(100, 1000, 50)])\n",
    "m, b = np.polyfit(time_lab_minibpl, a_minibpl, 1)\n",
    "plt.plot(time_lab_minibpl, m * time_lab_minibpl + b, '-')\n",
    "plt.scatter([x for x in xrange(100, 1000, 50)], a_minibpl)\n",
    "print 'Coeff: ', (m * time_lab_minibpl[0] + b - m * time_lab_minibpl[1] - b) / (time_lab_minibpl[0] - time_lab_minibpl[1]) * 1000"
   ]
  },
  {
   "cell_type": "markdown",
   "metadata": {},
   "source": [
    "# Применение K-means на реальных данных"
   ]
  },
  {
   "cell_type": "markdown",
   "metadata": {},
   "source": [
    "Загрузите [данные](https://github.com/brenden17/sklearnlab/blob/master/facebook/snsdata.csv) в которых содержится описание интересов профилей учеников старшей школы США.  (без этого пункта задание не считается выполненным).   \n",
    "ВНИМАНИЕ! Проверка должна быть осуществлена на всех реализациях, иначе реализация не будет зачтена!"
   ]
  },
  {
   "cell_type": "code",
   "execution_count": 33,
   "metadata": {},
   "outputs": [],
   "source": [
    "df_sns = pd.read_csv('snsdata.csv', sep=',')"
   ]
  },
  {
   "cell_type": "markdown",
   "metadata": {},
   "source": [
    "Данные устроены так: \n",
    "* Год выпуска\n",
    "* Пол\n",
    "* Возраст\n",
    "* Количество друзей\n",
    "* 36 ключевых слов, которые встречаются в профилe facebook (интересы, сообщества, встречи)"
   ]
  },
  {
   "cell_type": "markdown",
   "metadata": {},
   "source": [
    "* Удалите все признаки кроме 36 ключевых слов.\n",
    "* Нормализуйте данные - из каждого столбца вычтите его среднее значение и поделите на стандартное отклонение.\n",
    "* Используйте метод k-means чтобы выделить 9 кластеров\n",
    "* Попробуйте проинтерпретировать каждый кластер проанализировав полученные центройды (Некоторые кластеры могут быть очень большие и очень маленькие - плохо интерпретируются)   \n",
    "КОММЕНТАРИИ НЕ СТИРАТЬ!"
   ]
  },
  {
   "cell_type": "code",
   "execution_count": 34,
   "metadata": {},
   "outputs": [],
   "source": [
    "df_sns.dropna(axis=0, inplace=True)\n",
    "sns_val = df_sns.drop(['gradyear', 'gender', 'age', 'friends'], axis=1).values\n",
    "sns_val_norm = (sns_val - sns_val.mean(axis=0)) / sns_val.std(axis=0)"
   ]
  },
  {
   "cell_type": "code",
   "execution_count": 35,
   "metadata": {},
   "outputs": [
    {
     "data": {
      "text/plain": [
       "Kmeans(epsilon=1e-05, init='random', k=9, max_iter=40, metric='euclidean',\n",
       "    random_state=None)"
      ]
     },
     "execution_count": 35,
     "metadata": {},
     "output_type": "execute_result"
    }
   ],
   "source": [
    "## KMeans\n",
    "sns_kmeans = Kmeans(k=9, max_iter=40)\n",
    "sns_kmeans.fit(sns_val_norm)"
   ]
  },
  {
   "cell_type": "code",
   "execution_count": 36,
   "metadata": {},
   "outputs": [],
   "source": [
    "df_sns['class'] = sns_kmeans.labels"
   ]
  },
  {
   "cell_type": "code",
   "execution_count": 37,
   "metadata": {},
   "outputs": [
    {
     "data": {
      "text/html": [
       "<div>\n",
       "<style>\n",
       "    .dataframe thead tr:only-child th {\n",
       "        text-align: right;\n",
       "    }\n",
       "\n",
       "    .dataframe thead th {\n",
       "        text-align: left;\n",
       "    }\n",
       "\n",
       "    .dataframe tbody tr th {\n",
       "        vertical-align: top;\n",
       "    }\n",
       "</style>\n",
       "<table border=\"1\" class=\"dataframe\">\n",
       "  <thead>\n",
       "    <tr>\n",
       "      <th>class</th>\n",
       "      <th colspan=\"2\" halign=\"left\">0</th>\n",
       "      <th colspan=\"2\" halign=\"left\">1</th>\n",
       "      <th colspan=\"2\" halign=\"left\">2</th>\n",
       "      <th colspan=\"2\" halign=\"left\">3</th>\n",
       "      <th colspan=\"2\" halign=\"left\">4</th>\n",
       "      <th colspan=\"2\" halign=\"left\">5</th>\n",
       "      <th colspan=\"2\" halign=\"left\">6</th>\n",
       "      <th colspan=\"2\" halign=\"left\">7</th>\n",
       "      <th colspan=\"2\" halign=\"left\">8</th>\n",
       "    </tr>\n",
       "    <tr>\n",
       "      <th>gender</th>\n",
       "      <th>F</th>\n",
       "      <th>M</th>\n",
       "      <th>F</th>\n",
       "      <th>M</th>\n",
       "      <th>F</th>\n",
       "      <th>M</th>\n",
       "      <th>F</th>\n",
       "      <th>M</th>\n",
       "      <th>F</th>\n",
       "      <th>M</th>\n",
       "      <th>F</th>\n",
       "      <th>M</th>\n",
       "      <th>F</th>\n",
       "      <th>M</th>\n",
       "      <th>F</th>\n",
       "      <th>M</th>\n",
       "      <th>F</th>\n",
       "      <th>M</th>\n",
       "    </tr>\n",
       "  </thead>\n",
       "  <tbody>\n",
       "    <tr>\n",
       "      <th>age</th>\n",
       "      <td>918</td>\n",
       "      <td>46</td>\n",
       "      <td>401</td>\n",
       "      <td>125</td>\n",
       "      <td>12091</td>\n",
       "      <td>3442</td>\n",
       "      <td>2394</td>\n",
       "      <td>237</td>\n",
       "      <td>143</td>\n",
       "      <td>50</td>\n",
       "      <td>591</td>\n",
       "      <td>117</td>\n",
       "      <td>798</td>\n",
       "      <td>54</td>\n",
       "      <td>1357</td>\n",
       "      <td>557</td>\n",
       "      <td>618</td>\n",
       "      <td>66</td>\n",
       "    </tr>\n",
       "  </tbody>\n",
       "</table>\n",
       "</div>"
      ],
      "text/plain": [
       "class     0        1           2           3         4        5         6      \\\n",
       "gender    F   M    F    M      F     M     F    M    F   M    F    M    F   M   \n",
       "age     918  46  401  125  12091  3442  2394  237  143  50  591  117  798  54   \n",
       "\n",
       "class      7         8      \n",
       "gender     F    M    F   M  \n",
       "age     1357  557  618  66  "
      ]
     },
     "execution_count": 37,
     "metadata": {},
     "output_type": "execute_result"
    }
   ],
   "source": [
    "df_sns[['class', 'gender', 'age']].groupby(['class', 'gender']).aggregate('count').transpose()"
   ]
  },
  {
   "cell_type": "code",
   "execution_count": 38,
   "metadata": {},
   "outputs": [
    {
     "name": "stdout",
     "output_type": "stream",
     "text": [
      "0 964\n",
      "1 526\n",
      "2 15533\n",
      "3 2631\n",
      "4 193\n",
      "5 708\n",
      "6 852\n",
      "7 1914\n",
      "8 684\n",
      "hair        0.416902\n",
      "shopping    0.520816\n",
      "cute        0.539069\n",
      "dance       2.140717\n",
      "dress       2.938782\n",
      "Name: 0, dtype: float64\n",
      "football    0.068471\n",
      "rock        0.189671\n",
      "music       0.519621\n",
      "band        4.267668\n",
      "marching    4.858686\n",
      "Name: 1, dtype: float64\n",
      "tennis   -0.095344\n",
      "bible    -0.095083\n",
      "drunk    -0.088513\n",
      "soccer   -0.078096\n",
      "blonde   -0.028431\n",
      "Name: 2, dtype: float64\n",
      "bible       0.607364\n",
      "jesus       0.770662\n",
      "god         0.778561\n",
      "shopping    0.896302\n",
      "church      1.049440\n",
      "Name: 3, dtype: float64\n",
      "football    0.169765\n",
      "church      0.199119\n",
      "soccer      0.245650\n",
      "sports      0.314967\n",
      "tennis      8.790526\n",
      "Name: 4, dtype: float64\n",
      "drunk     2.024811\n",
      "sex       2.158345\n",
      "hair      2.643869\n",
      "drugs     3.037932\n",
      "kissed    3.170894\n",
      "Name: 5, dtype: float64\n",
      "clothes    0.227600\n",
      "mall       0.283317\n",
      "cute       0.571457\n",
      "sexy       2.346486\n",
      "hot        3.019625\n",
      "Name: 6, dtype: float64\n",
      "sports        1.069254\n",
      "softball      1.169072\n",
      "football      1.282572\n",
      "basketball    1.300975\n",
      "baseball      1.305623\n",
      "Name: 7, dtype: float64\n",
      "clothes        0.541292\n",
      "mall           0.602812\n",
      "shopping       0.747025\n",
      "abercrombie    3.972545\n",
      "hollister      4.107215\n",
      "Name: 8, dtype: float64\n"
     ]
    }
   ],
   "source": [
    "for i in range(0, 9):\n",
    "    print i, (sns_kmeans.labels == i).sum()\n",
    "F_kmeans = df_sns.drop(['gradyear', 'gender', 'age', 'friends', 'class'], axis=1)\n",
    "F_kmeans = pd.DataFrame(columns=F_kmeans.columns, data=sns_kmeans.centroids).transpose()\n",
    "for i in range(0, 9):\n",
    "    print (F_kmeans.loc[:,i]).sort_values()[-5:]"
   ]
  },
  {
   "cell_type": "code",
   "execution_count": 39,
   "metadata": {},
   "outputs": [
    {
     "data": {
      "text/plain": [
       "Kmeans(epsilon=1e-05, init='k-means', k=9, max_iter=4, metric='euclidean',\n",
       "    random_state=None)"
      ]
     },
     "execution_count": 39,
     "metadata": {},
     "output_type": "execute_result"
    }
   ],
   "source": [
    "## KMeans++\n",
    "sns_kmeanspl = Kmeans(k=9, max_iter=4, init='k-means')\n",
    "sns_kmeanspl.fit(sns_val_norm)"
   ]
  },
  {
   "cell_type": "code",
   "execution_count": 40,
   "metadata": {},
   "outputs": [],
   "source": [
    "df_sns['class'] = sns_kmeanspl.labels"
   ]
  },
  {
   "cell_type": "code",
   "execution_count": 41,
   "metadata": {},
   "outputs": [
    {
     "data": {
      "text/html": [
       "<div>\n",
       "<style>\n",
       "    .dataframe thead tr:only-child th {\n",
       "        text-align: right;\n",
       "    }\n",
       "\n",
       "    .dataframe thead th {\n",
       "        text-align: left;\n",
       "    }\n",
       "\n",
       "    .dataframe tbody tr th {\n",
       "        vertical-align: top;\n",
       "    }\n",
       "</style>\n",
       "<table border=\"1\" class=\"dataframe\">\n",
       "  <thead>\n",
       "    <tr>\n",
       "      <th>class</th>\n",
       "      <th colspan=\"2\" halign=\"left\">0</th>\n",
       "      <th colspan=\"2\" halign=\"left\">1</th>\n",
       "      <th colspan=\"2\" halign=\"left\">2</th>\n",
       "      <th colspan=\"2\" halign=\"left\">3</th>\n",
       "      <th colspan=\"2\" halign=\"left\">4</th>\n",
       "      <th colspan=\"2\" halign=\"left\">5</th>\n",
       "      <th colspan=\"2\" halign=\"left\">6</th>\n",
       "      <th colspan=\"2\" halign=\"left\">7</th>\n",
       "      <th colspan=\"2\" halign=\"left\">8</th>\n",
       "    </tr>\n",
       "    <tr>\n",
       "      <th>gender</th>\n",
       "      <th>F</th>\n",
       "      <th>M</th>\n",
       "      <th>F</th>\n",
       "      <th>M</th>\n",
       "      <th>F</th>\n",
       "      <th>M</th>\n",
       "      <th>F</th>\n",
       "      <th>M</th>\n",
       "      <th>F</th>\n",
       "      <th>M</th>\n",
       "      <th>F</th>\n",
       "      <th>M</th>\n",
       "      <th>F</th>\n",
       "      <th>M</th>\n",
       "      <th>F</th>\n",
       "      <th>M</th>\n",
       "      <th>F</th>\n",
       "      <th>M</th>\n",
       "    </tr>\n",
       "  </thead>\n",
       "  <tbody>\n",
       "    <tr>\n",
       "      <th>age</th>\n",
       "      <td>980</td>\n",
       "      <td>86</td>\n",
       "      <td>1624</td>\n",
       "      <td>143</td>\n",
       "      <td>409</td>\n",
       "      <td>21</td>\n",
       "      <td>1152</td>\n",
       "      <td>542</td>\n",
       "      <td>2472</td>\n",
       "      <td>229</td>\n",
       "      <td>161</td>\n",
       "      <td>42</td>\n",
       "      <td>1178</td>\n",
       "      <td>99</td>\n",
       "      <td>10931</td>\n",
       "      <td>3434</td>\n",
       "      <td>404</td>\n",
       "      <td>98</td>\n",
       "    </tr>\n",
       "  </tbody>\n",
       "</table>\n",
       "</div>"
      ],
      "text/plain": [
       "class     0         1         2         3          4         5         6      \\\n",
       "gender    F   M     F    M    F   M     F    M     F    M    F   M     F   M   \n",
       "age     980  86  1624  143  409  21  1152  542  2472  229  161  42  1178  99   \n",
       "\n",
       "class       7          8      \n",
       "gender      F     M    F   M  \n",
       "age     10931  3434  404  98  "
      ]
     },
     "execution_count": 41,
     "metadata": {},
     "output_type": "execute_result"
    }
   ],
   "source": [
    "df_sns[['class', 'gender', 'age']].groupby(['class', 'gender']).aggregate('count').transpose()"
   ]
  },
  {
   "cell_type": "code",
   "execution_count": 42,
   "metadata": {},
   "outputs": [
    {
     "name": "stdout",
     "output_type": "stream",
     "text": [
      "0 1066\n",
      "1 1767\n",
      "2 430\n",
      "3 1694\n",
      "4 2701\n",
      "5 203\n",
      "6 1277\n",
      "7 14365\n",
      "8 502\n",
      "mall            0.501022\n",
      "cheerleading    0.521922\n",
      "shopping        0.867014\n",
      "abercrombie     2.824202\n",
      "hollister       3.204480\n",
      "Name: 0, dtype: float64\n",
      "hot             0.181978\n",
      "church          0.240544\n",
      "shopping        0.384546\n",
      "cheerleading    0.431710\n",
      "dance           2.176025\n",
      "Name: 1, dtype: float64\n",
      "clothes    1.552720\n",
      "drugs      1.632205\n",
      "hair       2.301933\n",
      "kissed     2.766442\n",
      "dress      4.287756\n",
      "Name: 2, dtype: float64\n",
      "music       0.479229\n",
      "die         0.489642\n",
      "football    1.090891\n",
      "band        1.110908\n",
      "death       1.462975\n",
      "Name: 3, dtype: float64\n",
      "hot         0.351856\n",
      "mall        0.461318\n",
      "shopping    0.502132\n",
      "rock        0.853435\n",
      "cute        1.293027\n",
      "Name: 4, dtype: float64\n",
      "rock         0.353871\n",
      "hollister    0.416511\n",
      "music        0.536391\n",
      "band         4.885176\n",
      "marching     7.840422\n",
      "Name: 5, dtype: float64\n",
      "drugs       0.935916\n",
      "kissed      0.946456\n",
      "hair        1.012835\n",
      "sexy        1.526765\n",
      "softball    2.042710\n",
      "Name: 6, dtype: float64\n",
      "baseball   -0.086182\n",
      "bible      -0.083818\n",
      "soccer     -0.071158\n",
      "tennis     -0.058167\n",
      "blonde     -0.029391\n",
      "Name: 7, dtype: float64\n",
      "death     0.300194\n",
      "church    2.045756\n",
      "god       2.995568\n",
      "bible     3.244789\n",
      "jesus     3.555158\n",
      "Name: 8, dtype: float64\n"
     ]
    }
   ],
   "source": [
    "for i in range(0, 9):\n",
    "    print i, (sns_kmeanspl.labels == i).sum()\n",
    "F_kmeanspl = df_sns.drop(['gradyear', 'gender', 'age', 'friends', 'class'], axis=1)\n",
    "F_kmeanspl = pd.DataFrame(columns=F_kmeanspl.columns, data=sns_kmeanspl.centroids).transpose()\n",
    "for i in range(0, 9):\n",
    "    print (F_kmeanspl.loc[:,i]).sort_values()[-5:]"
   ]
  },
  {
   "cell_type": "code",
   "execution_count": 43,
   "metadata": {},
   "outputs": [
    {
     "data": {
      "text/plain": [
       "MiniBatchKMeans(batch_size=600, epsilon=0.0001, init='random', k=9,\n",
       "        max_iter=60, metric='euclidean', random_state=None)"
      ]
     },
     "execution_count": 43,
     "metadata": {},
     "output_type": "execute_result"
    }
   ],
   "source": [
    "## KMeans с MiniBatchKMeans\n",
    "sns_minib = MiniBatchKMeans(batch_size=600, k=9, max_iter=60)\n",
    "sns_minib.fit(sns_val_norm)"
   ]
  },
  {
   "cell_type": "code",
   "execution_count": 44,
   "metadata": {},
   "outputs": [],
   "source": [
    "df_sns['class'] = sns_minib.labels"
   ]
  },
  {
   "cell_type": "code",
   "execution_count": 45,
   "metadata": {},
   "outputs": [
    {
     "data": {
      "text/html": [
       "<div>\n",
       "<style>\n",
       "    .dataframe thead tr:only-child th {\n",
       "        text-align: right;\n",
       "    }\n",
       "\n",
       "    .dataframe thead th {\n",
       "        text-align: left;\n",
       "    }\n",
       "\n",
       "    .dataframe tbody tr th {\n",
       "        vertical-align: top;\n",
       "    }\n",
       "</style>\n",
       "<table border=\"1\" class=\"dataframe\">\n",
       "  <thead>\n",
       "    <tr>\n",
       "      <th>class</th>\n",
       "      <th colspan=\"2\" halign=\"left\">0</th>\n",
       "      <th colspan=\"2\" halign=\"left\">1</th>\n",
       "      <th colspan=\"2\" halign=\"left\">2</th>\n",
       "      <th colspan=\"2\" halign=\"left\">3</th>\n",
       "      <th colspan=\"2\" halign=\"left\">4</th>\n",
       "      <th colspan=\"2\" halign=\"left\">5</th>\n",
       "      <th colspan=\"2\" halign=\"left\">6</th>\n",
       "      <th colspan=\"2\" halign=\"left\">7</th>\n",
       "      <th colspan=\"2\" halign=\"left\">8</th>\n",
       "    </tr>\n",
       "    <tr>\n",
       "      <th>gender</th>\n",
       "      <th>F</th>\n",
       "      <th>M</th>\n",
       "      <th>F</th>\n",
       "      <th>M</th>\n",
       "      <th>F</th>\n",
       "      <th>M</th>\n",
       "      <th>F</th>\n",
       "      <th>M</th>\n",
       "      <th>F</th>\n",
       "      <th>M</th>\n",
       "      <th>F</th>\n",
       "      <th>M</th>\n",
       "      <th>F</th>\n",
       "      <th>M</th>\n",
       "      <th>F</th>\n",
       "      <th>M</th>\n",
       "      <th>F</th>\n",
       "      <th>M</th>\n",
       "    </tr>\n",
       "  </thead>\n",
       "  <tbody>\n",
       "    <tr>\n",
       "      <th>age</th>\n",
       "      <td>1271</td>\n",
       "      <td>75</td>\n",
       "      <td>1497</td>\n",
       "      <td>487</td>\n",
       "      <td>11678</td>\n",
       "      <td>3131</td>\n",
       "      <td>593</td>\n",
       "      <td>28</td>\n",
       "      <td>265</td>\n",
       "      <td>68</td>\n",
       "      <td>442</td>\n",
       "      <td>99</td>\n",
       "      <td>1829</td>\n",
       "      <td>97</td>\n",
       "      <td>980</td>\n",
       "      <td>607</td>\n",
       "      <td>756</td>\n",
       "      <td>102</td>\n",
       "    </tr>\n",
       "  </tbody>\n",
       "</table>\n",
       "</div>"
      ],
      "text/plain": [
       "class      0         1           2          3        4        5         6      \\\n",
       "gender     F   M     F    M      F     M    F   M    F   M    F   M     F   M   \n",
       "age     1271  75  1497  487  11678  3131  593  28  265  68  442  99  1829  97   \n",
       "\n",
       "class     7         8       \n",
       "gender    F    M    F    M  \n",
       "age     980  607  756  102  "
      ]
     },
     "execution_count": 45,
     "metadata": {},
     "output_type": "execute_result"
    }
   ],
   "source": [
    "df_sns[['class', 'gender', 'age']].groupby(['class', 'gender']).aggregate('count').transpose()"
   ]
  },
  {
   "cell_type": "code",
   "execution_count": 46,
   "metadata": {},
   "outputs": [
    {
     "name": "stdout",
     "output_type": "stream",
     "text": [
      "0 1346\n",
      "1 1984\n",
      "2 14809\n",
      "3 621\n",
      "4 333\n",
      "5 541\n",
      "6 1926\n",
      "7 1587\n",
      "8 858\n",
      "kissed      0.570721\n",
      "shopping    0.845950\n",
      "dress       0.857569\n",
      "hair        0.995878\n",
      "clothes     2.615405\n",
      "Name: 0, dtype: float64\n",
      "dance       0.076500\n",
      "rock        0.608192\n",
      "marching    0.991167\n",
      "music       1.045690\n",
      "band        1.205508\n",
      "Name: 1, dtype: float64\n",
      "drunk    -0.094311\n",
      "bible    -0.087641\n",
      "sexy     -0.065270\n",
      "tennis   -0.040821\n",
      "blonde   -0.027558\n",
      "Name: 2, dtype: float64\n",
      "shopping      0.401073\n",
      "softball      0.470796\n",
      "basketball    0.558374\n",
      "church        1.673009\n",
      "volleyball    4.058800\n",
      "Name: 3, dtype: float64\n",
      "death     0.405881\n",
      "church    1.247712\n",
      "god       3.469476\n",
      "jesus     4.349445\n",
      "bible     4.544499\n",
      "Name: 4, dtype: float64\n",
      "sports        0.113645\n",
      "swimming      0.162452\n",
      "basketball    0.210051\n",
      "shopping      0.236296\n",
      "soccer        5.035986\n",
      "Name: 5, dtype: float64\n",
      "cheerleading    0.872610\n",
      "shopping        0.889675\n",
      "hollister       1.082461\n",
      "abercrombie     1.150620\n",
      "mall            1.230979\n",
      "Name: 6, dtype: float64\n",
      "baseball      0.529900\n",
      "football      0.892660\n",
      "die           1.079957\n",
      "basketball    1.141429\n",
      "sports        1.864502\n",
      "Name: 7, dtype: float64\n",
      "rock      1.627303\n",
      "hair      1.850569\n",
      "kissed    1.854646\n",
      "hot       1.888615\n",
      "drugs     2.045967\n",
      "Name: 8, dtype: float64\n"
     ]
    }
   ],
   "source": [
    "for i in range(0, 9):\n",
    "    print i, (sns_minib.labels == i).sum()\n",
    "F_minib = df_sns.drop(['gradyear', 'gender', 'age', 'friends', 'class'], axis=1)\n",
    "F_minib = pd.DataFrame(columns=F_minib.columns, data=sns_minib.centroids).transpose()\n",
    "for i in range(0, 9):\n",
    "    print (F_minib.loc[:,i]).sort_values()[-5:]"
   ]
  },
  {
   "cell_type": "code",
   "execution_count": 47,
   "metadata": {},
   "outputs": [
    {
     "data": {
      "text/plain": [
       "MiniBatchKMeans(batch_size=600, epsilon=0.0001, init='k-means', k=9,\n",
       "        max_iter=60, metric='euclidean', random_state=None)"
      ]
     },
     "execution_count": 47,
     "metadata": {},
     "output_type": "execute_result"
    }
   ],
   "source": [
    "## KMeans++ с MiniBatchKMeans\n",
    "sns_minibpl = MiniBatchKMeans(batch_size=600, k=9, max_iter=60, init='k-means')\n",
    "sns_minibpl.fit(sns_val_norm)"
   ]
  },
  {
   "cell_type": "code",
   "execution_count": 48,
   "metadata": {},
   "outputs": [],
   "source": [
    "df_sns['class'] = sns_minibpl.labels"
   ]
  },
  {
   "cell_type": "code",
   "execution_count": 49,
   "metadata": {},
   "outputs": [
    {
     "data": {
      "text/html": [
       "<div>\n",
       "<style>\n",
       "    .dataframe thead tr:only-child th {\n",
       "        text-align: right;\n",
       "    }\n",
       "\n",
       "    .dataframe thead th {\n",
       "        text-align: left;\n",
       "    }\n",
       "\n",
       "    .dataframe tbody tr th {\n",
       "        vertical-align: top;\n",
       "    }\n",
       "</style>\n",
       "<table border=\"1\" class=\"dataframe\">\n",
       "  <thead>\n",
       "    <tr>\n",
       "      <th>class</th>\n",
       "      <th colspan=\"2\" halign=\"left\">0</th>\n",
       "      <th colspan=\"2\" halign=\"left\">1</th>\n",
       "      <th colspan=\"2\" halign=\"left\">2</th>\n",
       "      <th colspan=\"2\" halign=\"left\">3</th>\n",
       "      <th colspan=\"2\" halign=\"left\">4</th>\n",
       "      <th colspan=\"2\" halign=\"left\">5</th>\n",
       "      <th colspan=\"2\" halign=\"left\">6</th>\n",
       "      <th colspan=\"2\" halign=\"left\">7</th>\n",
       "      <th colspan=\"2\" halign=\"left\">8</th>\n",
       "    </tr>\n",
       "    <tr>\n",
       "      <th>gender</th>\n",
       "      <th>F</th>\n",
       "      <th>M</th>\n",
       "      <th>F</th>\n",
       "      <th>M</th>\n",
       "      <th>F</th>\n",
       "      <th>M</th>\n",
       "      <th>F</th>\n",
       "      <th>M</th>\n",
       "      <th>F</th>\n",
       "      <th>M</th>\n",
       "      <th>F</th>\n",
       "      <th>M</th>\n",
       "      <th>F</th>\n",
       "      <th>M</th>\n",
       "      <th>F</th>\n",
       "      <th>M</th>\n",
       "      <th>F</th>\n",
       "      <th>M</th>\n",
       "    </tr>\n",
       "  </thead>\n",
       "  <tbody>\n",
       "    <tr>\n",
       "      <th>age</th>\n",
       "      <td>61</td>\n",
       "      <td>21</td>\n",
       "      <td>1925</td>\n",
       "      <td>150</td>\n",
       "      <td>331</td>\n",
       "      <td>33</td>\n",
       "      <td>626</td>\n",
       "      <td>310</td>\n",
       "      <td>2603</td>\n",
       "      <td>153</td>\n",
       "      <td>634</td>\n",
       "      <td>69</td>\n",
       "      <td>1079</td>\n",
       "      <td>139</td>\n",
       "      <td>11598</td>\n",
       "      <td>3709</td>\n",
       "      <td>454</td>\n",
       "      <td>110</td>\n",
       "    </tr>\n",
       "  </tbody>\n",
       "</table>\n",
       "</div>"
      ],
      "text/plain": [
       "class    0         1         2        3          4         5         6       \\\n",
       "gender   F   M     F    M    F   M    F    M     F    M    F   M     F    M   \n",
       "age     61  21  1925  150  331  33  626  310  2603  153  634  69  1079  139   \n",
       "\n",
       "class       7          8       \n",
       "gender      F     M    F    M  \n",
       "age     11598  3709  454  110  "
      ]
     },
     "execution_count": 49,
     "metadata": {},
     "output_type": "execute_result"
    }
   ],
   "source": [
    "df_sns[['class', 'gender', 'age']].groupby(['class', 'gender']).aggregate('count').transpose()"
   ]
  },
  {
   "cell_type": "code",
   "execution_count": 50,
   "metadata": {},
   "outputs": [
    {
     "name": "stdout",
     "output_type": "stream",
     "text": [
      "0 82\n",
      "1 2075\n",
      "2 364\n",
      "3 936\n",
      "4 2756\n",
      "5 703\n",
      "6 1218\n",
      "7 15307\n",
      "8 564\n",
      "music      0.510743\n",
      "church     1.286243\n",
      "jesus      2.947370\n",
      "god        3.472428\n",
      "bible     13.450149\n",
      "Name: 0, dtype: float64\n",
      "shopping      0.340720\n",
      "drunk         0.476640\n",
      "dress         0.712168\n",
      "volleyball    0.782247\n",
      "dance         1.540735\n",
      "Name: 1, dtype: float64\n",
      "dress     2.500099\n",
      "drugs     2.571993\n",
      "hair      2.870199\n",
      "sex       3.465580\n",
      "kissed    4.643572\n",
      "Name: 2, dtype: float64\n",
      "music       0.219480\n",
      "baseball    0.934607\n",
      "football    0.963642\n",
      "band        2.546547\n",
      "marching    2.670859\n",
      "Name: 3, dtype: float64\n",
      "swimming    0.559578\n",
      "mall        0.584106\n",
      "rock        0.702579\n",
      "shopping    0.705647\n",
      "cute        1.382429\n",
      "Name: 4, dtype: float64\n",
      "clothes        0.591890\n",
      "mall           0.625129\n",
      "shopping       0.720731\n",
      "abercrombie    3.894438\n",
      "hollister      4.000078\n",
      "Name: 5, dtype: float64\n",
      "sports      0.913407\n",
      "kissed      0.951270\n",
      "drugs       1.053202\n",
      "hair        1.243224\n",
      "softball    2.020203\n",
      "Name: 6, dtype: float64\n",
      "baseball   -0.096162\n",
      "soccer     -0.092896\n",
      "bible      -0.074419\n",
      "tennis     -0.040632\n",
      "blonde     -0.028610\n",
      "Name: 7, dtype: float64\n",
      "death     0.462954\n",
      "bible     0.831987\n",
      "church    2.168031\n",
      "god       2.875863\n",
      "jesus     3.473205\n",
      "Name: 8, dtype: float64\n"
     ]
    }
   ],
   "source": [
    "for i in range(0, 9):\n",
    "    print i, (sns_minibpl.labels == i).sum()\n",
    "F_minibpl = df_sns.drop(['gradyear', 'gender', 'age', 'friends', 'class'], axis=1)\n",
    "F_minibpl = pd.DataFrame(columns=F_minibpl.columns, data=sns_minibpl.centroids).transpose()\n",
    "for i in range(0, 9):\n",
    "    print (F_minibpl.loc[:,i]).sort_values()[-5:]"
   ]
  },
  {
   "cell_type": "markdown",
   "metadata": {},
   "source": [
    "## Вывод\n",
    "Чтобы проанализировать центроиды, я вывожу по 5 самых значимых признаков для каждого класса. В результате, можно заметить, что все модификации алгоритма kmeans уверенно выделяют следующие кластеры:\n",
    "1. Интересующиеся модной одеждой (shopping, hollister, abercrombie)\n",
    "2. Музыканты, музыкальные группы (band, marching, music, dance)\n",
    "3. Верующие (god, church, jesus, bible)\n",
    "4. Спортсмены  \n",
    "    Обычно, выдяляются 2-3 группы со спортсменами различного рода (soccer, football, swimming, ...)\n",
    "5. \"Обычные\" люди  \n",
    "    Эта группа всегда самая многочисленная (~15000 человек) и характерезуется отсутствием явно выделяющихся признаков\n",
    "6. Иногда проявляется кластер с \"депресивыми\" (die, death, drugs)\n",
    "7. Оставшиеся кластеры сложно различить друг от друга\n",
    "Я считаю, что выявить лидера не возможно, т.к. разбиение на кластеры происходит примерно одинакого, а также с учётом того, что от запуска к запуску результаты немного меняются явного фаворита нет. Однако, нужно учитывать, что модификации MiniBatchKmeans получают преимущество засчёт более высокой скорости работы."
   ]
  }
 ],
 "metadata": {
  "anaconda-cloud": {},
  "kernelspec": {
   "display_name": "Python 2",
   "language": "python",
   "name": "python2"
  },
  "language_info": {
   "codemirror_mode": {
    "name": "ipython",
    "version": 2
   },
   "file_extension": ".py",
   "mimetype": "text/x-python",
   "name": "python",
   "nbconvert_exporter": "python",
   "pygments_lexer": "ipython2",
   "version": "2.7.14"
  },
  "nav_menu": {},
  "toc": {
   "navigate_menu": true,
   "number_sections": false,
   "sideBar": true,
   "threshold": 6,
   "toc_cell": false,
   "toc_section_display": "block",
   "toc_window_display": true
  }
 },
 "nbformat": 4,
 "nbformat_minor": 2
}
