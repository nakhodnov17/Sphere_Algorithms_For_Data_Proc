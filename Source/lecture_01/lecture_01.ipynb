{
 "cells": [
  {
   "cell_type": "markdown",
   "metadata": {
    "slideshow": {
     "slide_type": "slide"
    }
   },
   "source": [
    "<img src=\"images/header.png\">\n",
    "\n",
    "# Алгоритмы интеллектуальной обработки больших объемов данных\n",
    "\n",
    "## Лекция 1. Введение в анализ данных"
   ]
  },
  {
   "cell_type": "code",
   "execution_count": 1,
   "metadata": {
    "collapsed": true,
    "slideshow": {
     "slide_type": "skip"
    }
   },
   "outputs": [],
   "source": [
    "import warnings\n",
    "warnings.filterwarnings('ignore')"
   ]
  },
  {
   "cell_type": "markdown",
   "metadata": {
    "slideshow": {
     "slide_type": "slide"
    }
   },
   "source": [
    "### Преподаватели\n",
    "\n",
    "* Стройкова Ксения\n",
    "\n",
    "   +7 926 594 08 14  \n",
    "   k.stroykova@corp.mail.ru  \n",
    "   slack: @stroykova  \n",
    "   Июнь 2014 - н.вр.: Программист-исследователь в отделе анализа данных Mail.Ru\n",
    "  \n",
    "  \n",
    "* Шестаков Андрей  \n",
    "\n",
    "   +7 916 252 97 01  \n",
    "   andrey.shestakov@corp.mail.ru  \n",
    "   slack: @shestakoff  \n",
    "   Январь 2013 - Июль 2016: Аналитик в компании Forecsys  \n",
    "   Июль 2016 - н.вр.: Программист-исследователь в отделе анализа данных Mail.Ru \n",
    "  \n",
    "  \n",
    "* Хамуш Анис  \n",
    "\n",
    "   +7 917 526 80 21   \n",
    "   a.khamush@corp.mail.ru  \n",
    "   slack: @alkhamush   \n",
    "   Июнь 2014 - н.вр.: Программист-исследователь в отделе анализа данных Mail.Ru  \n",
    "\n",
    "   "
   ]
  },
  {
   "cell_type": "markdown",
   "metadata": {
    "slideshow": {
     "slide_type": "slide"
    }
   },
   "source": [
    "### Программа курса\n",
    "https://sphere.mail.ru/curriculum/program/discipline/113/\n",
    "    \n",
    "### Чат\n",
    "http://spheremailru.slack.com\n",
    "\\#_dm1"
   ]
  },
  {
   "cell_type": "markdown",
   "metadata": {
    "slideshow": {
     "slide_type": "slide"
    }
   },
   "source": [
    "## Сегодня на лекции\n",
    "\n",
    "* Структура курса и организационные вопросы\n",
    "* Что такое Data Mining\n",
    "* Унификация процесса Data Mining\n",
    "* Exploratory data analysis\n",
    "* k-means"
   ]
  },
  {
   "cell_type": "markdown",
   "metadata": {
    "slideshow": {
     "slide_type": "slide"
    }
   },
   "source": [
    "### Структура курса\n",
    "1. Задачи Data Mining **HW1**\n",
    "2. Алгоритмы кластеризации\n",
    "3. Задача кластеризации и EM-алгоритм **HW2**\n",
    "4. Отбор признаков и снижение размерности\n",
    "5. Задача классификации\n",
    "6. Решающие деревья **HW3**\n",
    "7. Итоговое занятие **K1**\n",
    "8. Naive Bayes и работа с текстом \n",
    "9. Методы выявления аномалий в данных \n",
    "10. Линейные модели **HW4**\n",
    "11. Метод опорных векторов **HW5**\n",
    "12. Введение в рекомендательные системы\n",
    "13. Итоговое занятие **K2**\n",
    "14. **Защита семестрового проекта**"
   ]
  },
  {
   "cell_type": "markdown",
   "metadata": {
    "slideshow": {
     "slide_type": "subslide"
    }
   },
   "source": [
    "### Домашние задания\n",
    "1 - 10 баллов, прислать  \n",
    "2 - 15 баллов, сдать преподавателю на коллоквиуме  \n",
    "3 - 10 баллов, прислать  \n",
    "4 - 15 баллов, сдать преподавателю на коллоквиуме   \n",
    "5 - 10 баллов, прислать  \n",
    "\n",
    "\n",
    "<img style=\"float: left;\" src=\"images/hw.png\">"
   ]
  },
  {
   "cell_type": "markdown",
   "metadata": {
    "slideshow": {
     "slide_type": "subslide"
    }
   },
   "source": [
    "Присылать ДЗ необходимо в виде ссылки на свой github репозиторий в slack @alkhamush\n",
    "\n",
    "Необходимо в slack создать таск в приватный чат: \n",
    "\n",
    "/todo Фамилия Имя https://github.com/ @alkhamush\n",
    "\n",
    "\n",
    "Дедлайн наступает в оговоренную дату в 06:00. Оценивается по времени последнего коммита в файл с домашним заданием.\n",
    "Ссылку можно прислать напрямую на проверяемую версию (это может быть полезно при наличии коммитов после дедлайна)."
   ]
  },
  {
   "cell_type": "markdown",
   "metadata": {
    "slideshow": {
     "slide_type": "subslide"
    }
   },
   "source": [
    "### Теория\n",
    "\n",
    "* К-1, К-2 : максимум 10 баллов за каждый\n",
    "* Защита проекта: максимум 20 баллов\n",
    "* Мини-тесты: максимум 10 баллов"
   ]
  },
  {
   "cell_type": "markdown",
   "metadata": {
    "slideshow": {
     "slide_type": "slide"
    }
   },
   "source": [
    "### Проект\n",
    "\n",
    "Применение машинного обучения на открытых данных.\n",
    "\n",
    "1. Выбрать бизнес-цель, которую можно решить с помощью машинного обучения\n",
    "2. Собрать данные\n",
    "3. Построить модель\n",
    "4. Использовать модель для достижения бизнес-цели\n",
    "\n",
    "Требования:\n",
    "* Данные в открытом доступе (любой имеет возможность ими воспользоваться)\n",
    "* В данных нет явного ответа на вопрос, который легко получить эвристикой\n",
    "* Модель решает задачу\n",
    "\n",
    "Работа в группах по 3 человека\n",
    "\n",
    "Первый дедлайн - следующая лекция. Нужно разбиться на группы и предложить 5 бизнес-идей, где применимо машинное обучение. Список группы и описание идей присылать в slack в виде таска /todo ссылка\\_на\\_документ @alkhamush"
   ]
  },
  {
   "cell_type": "markdown",
   "metadata": {
    "slideshow": {
     "slide_type": "subslide"
    }
   },
   "source": [
    "### Оценки\n",
    "\n",
    "0-49 - 2  \n",
    "50-79 - 3  \n",
    "80-94 - 4  \n",
    "95-100 - 5  "
   ]
  },
  {
   "cell_type": "markdown",
   "metadata": {
    "slideshow": {
     "slide_type": "subslide"
    }
   },
   "source": [
    "### Правила\n",
    "+ Можно задавать вопросы по ходу лекции\n",
    "+ Можно входить и выходить, не мешая коллегам\n",
    "+ Нельзя нарушать порядок в аудитории\n",
    "+ Нельзя разговаривать по телефону\n",
    "\n",
    "Общение с преподавателем на “Вы”"
   ]
  },
  {
   "cell_type": "markdown",
   "metadata": {
    "slideshow": {
     "slide_type": "subslide"
    }
   },
   "source": [
    "### Нужно отметиться на лекции\n",
    "\n",
    "https://sphere.mail.ru/"
   ]
  },
  {
   "cell_type": "markdown",
   "metadata": {
    "slideshow": {
     "slide_type": "slide"
    }
   },
   "source": [
    "## В нашем курсе рассмотрим следующие темы:\n",
    "\n",
    "Что такое машинное обучение? Какие проблемы с помощью него решаются? Какие главные концепции приняты в машинном обучении?  \n",
    "• Основные этапы в типичном проекте с машинным обучением  \n",
    "• Обучение подгонкой модели к данным  \n",
    "• Оптимизация функции стоимости  \n",
    "• Обработка, очистка, подготовка данных  \n",
    "• Подбор фич  \n",
    "• Выбор модели и настройка гиперпараметров кросс-валидацией  \n",
    "• Основные проблемы в машинном обучении  \n",
    "• Уменьшение размерности данных и борьба с проклятием размерности  \n",
    "• основные алгоритмы машинного обучения: линейная и полиномиальная регрессия,\n",
    "логистическая регрессия, k-ближайших соседей, машина опорных векторов, решающие деревья и другие."
   ]
  },
  {
   "cell_type": "markdown",
   "metadata": {
    "slideshow": {
     "slide_type": "slide"
    }
   },
   "source": [
    "## Что такое DataMining\n",
    "\n",
    "<img src=\"images/joke1.jpg\">"
   ]
  },
  {
   "cell_type": "markdown",
   "metadata": {
    "slideshow": {
     "slide_type": "slide"
    }
   },
   "source": [
    "<img src=\"images/rules.png\">"
   ]
  },
  {
   "cell_type": "markdown",
   "metadata": {
    "slideshow": {
     "slide_type": "slide"
    }
   },
   "source": [
    "<img src=\"images/ml.png\">"
   ]
  },
  {
   "cell_type": "markdown",
   "metadata": {
    "slideshow": {
     "slide_type": "slide"
    }
   },
   "source": [
    "<img src=\"images/bigdata.jpg\">\n",
    "\n",
    "https://www.progress.com/blogs/ride-the-big-data-wave"
   ]
  },
  {
   "cell_type": "markdown",
   "metadata": {
    "slideshow": {
     "slide_type": "slide"
    }
   },
   "source": [
    "https://trends.google.com/trends/explore?date=today%205-y&q=python%20machine%20learning,R%20machine%20learning,Java%20machine%20learning"
   ]
  },
  {
   "cell_type": "markdown",
   "metadata": {
    "slideshow": {
     "slide_type": "slide"
    }
   },
   "source": [
    "https://trends.google.com/trends/explore?date=today%205-y&q=machine%20learning,data%20science,big%20data,data%20engineering"
   ]
  },
  {
   "cell_type": "markdown",
   "metadata": {
    "slideshow": {
     "slide_type": "subslide"
    }
   },
   "source": [
    "### Data Mining как KDD\n",
    "\n",
    "Knowledge Discovery in Databases (KDD) – это процесс получения точных,\n",
    "неизвестных, потенциально полезных и интерпретируемых\n",
    "закономерностей из данных.\n",
    "\n",
    "http://www.csd.uwo.ca/faculty/ling/cs435/fayyad.pdf"
   ]
  },
  {
   "cell_type": "markdown",
   "metadata": {
    "slideshow": {
     "slide_type": "subslide"
    }
   },
   "source": [
    "### Data Mining в KDD\n",
    "\n",
    "Этапы KDD"
   ]
  },
  {
   "cell_type": "markdown",
   "metadata": {
    "slideshow": {
     "slide_type": "notes"
    }
   },
   "source": [
    "First is developing an understanding of the\n",
    "application domain and the relevant prior\n",
    "knowledge and identifying the goal of the\n",
    "KDD process from the customer’s viewpoint."
   ]
  },
  {
   "cell_type": "markdown",
   "metadata": {
    "slideshow": {
     "slide_type": "fragment"
    }
   },
   "source": [
    "  * selection\n"
   ]
  },
  {
   "cell_type": "markdown",
   "metadata": {
    "slideshow": {
     "slide_type": "notes"
    }
   },
   "source": [
    "Second is creating a target data set: selecting\n",
    "a data set, or focusing on a subset of variables\n",
    "or data samples, on which discovery is\n",
    "to be performed"
   ]
  },
  {
   "cell_type": "markdown",
   "metadata": {
    "slideshow": {
     "slide_type": "fragment"
    }
   },
   "source": [
    "  * preprocessing\n"
   ]
  },
  {
   "cell_type": "markdown",
   "metadata": {
    "slideshow": {
     "slide_type": "notes"
    }
   },
   "source": [
    "Third is data cleaning and preprocessing.\n",
    "Basic operations include removing noise if\n",
    "appropriate, collecting the necessary information\n",
    "to model or account for noise, deciding\n",
    "on strategies for handling missing data fields,\n",
    "and accounting for time-sequence information\n",
    "and known changes."
   ]
  },
  {
   "cell_type": "markdown",
   "metadata": {
    "slideshow": {
     "slide_type": "fragment"
    }
   },
   "source": [
    "  * transformation\n"
   ]
  },
  {
   "cell_type": "markdown",
   "metadata": {
    "slideshow": {
     "slide_type": "notes"
    }
   },
   "source": [
    "Fourth is data reduction and projection:\n",
    "finding useful features to represent the data\n",
    "depending on the goal of the task. With dimensionality\n",
    "reduction or transformation\n",
    "methods, the effective number of variables\n",
    "under consideration can be reduced, or invariant\n",
    "representations for the data can be\n",
    "found.\n",
    "Fifth is matching the goals of the KDD process\n",
    "(step 1) to a particular data-mining\n",
    "method. For example, summarization, classification,\n",
    "regression, clustering, and so on,\n",
    "are described later as well as in Fayyad, Piatetsky-Shapiro,\n",
    "and Smyth (1996)."
   ]
  },
  {
   "cell_type": "markdown",
   "metadata": {
    "slideshow": {
     "slide_type": "fragment"
    }
   },
   "source": [
    "  * data mining\n"
   ]
  },
  {
   "cell_type": "markdown",
   "metadata": {
    "slideshow": {
     "slide_type": "notes"
    }
   },
   "source": [
    "Sixth is exploratory analysis and model\n",
    "and hypothesis selection: choosing the datamining\n",
    "algorithm(s) and selecting method(s)\n",
    "to be used for searching for data patterns.\n",
    "This process includes deciding which models\n",
    "and parameters might be appropriate (for example,\n",
    "models of categorical data are different\n",
    "than models of vectors over the reals) and\n",
    "matching a particular data-mining method\n",
    "with the overall criteria of the KDD process\n",
    "(for example, the end user might be more interested\n",
    "in understanding the model than its\n",
    "predictive capabilities).\n",
    "Seventh is data mining: searching for patterns\n",
    "of interest in a particular representational\n",
    "form or a set of such representations,\n",
    "including classification rules or trees, regression,\n",
    "and clustering. The user can significantly\n",
    "aid the data-mining method by correctly\n",
    "performing the preceding steps"
   ]
  },
  {
   "cell_type": "markdown",
   "metadata": {
    "slideshow": {
     "slide_type": "fragment"
    }
   },
   "source": [
    "  * interpretation, evaluation"
   ]
  },
  {
   "cell_type": "markdown",
   "metadata": {
    "slideshow": {
     "slide_type": "notes"
    }
   },
   "source": [
    "Eighth is interpreting mined patterns, possibly\n",
    "returning to any of steps 1 through 7 for\n",
    "further iteration. This step can also involve\n",
    "visualization of the extracted patterns and\n",
    "models or visualization of the data given the\n",
    "extracted models.\n",
    "Ninth is acting on the discovered knowledge:\n",
    "using the knowledge directly, incorporating\n",
    "the knowledge into another system for\n",
    "further action, or simply documenting it and\n",
    "reporting it to interested parties. This process\n",
    "also includes checking for and resolving potential\n",
    "conflicts with previously believed (or\n",
    "extracted) knowledge"
   ]
  },
  {
   "cell_type": "markdown",
   "metadata": {
    "slideshow": {
     "slide_type": "subslide"
    }
   },
   "source": [
    "### Data Mining как моделирование\n",
    "\n",
    "**Data Mining** – процесс построения модели, хорошо описывающей\n",
    "закономерности, которые порождают данные."
   ]
  },
  {
   "cell_type": "markdown",
   "metadata": {
    "slideshow": {
     "slide_type": "fragment"
    }
   },
   "source": [
    "Говорят, что программа обучается на опыте $E$ относительно класса задач $T$ в смысле меры качества $L$, если при решении задачи $T$ качество, измеряемое мерой $L$, возрастает при демонстрации нового опыта $E$.\n",
    "\n",
    "[Базовые принципы машинного обучения на примере линейной регрессии](https://habrahabr.ru/company/ods/blog/322076/ \"Базовые принципы машинного обучения на примере линейной регрессии\")  \n",
    "[Machine Learning](http://www.cs.cmu.edu/~tom/mlbook.html \"Machine Learning\")"
   ]
  },
  {
   "cell_type": "markdown",
   "metadata": {
    "slideshow": {
     "slide_type": "subslide"
    }
   },
   "source": [
    "### Data Mining область на пересечении дисциплин\n",
    "\n",
    "<img src=\"images/data-mining-venn.png\">"
   ]
  },
  {
   "cell_type": "markdown",
   "metadata": {
    "slideshow": {
     "slide_type": "subslide"
    }
   },
   "source": [
    "### Data Mining – область тысячи имен\n",
    "\n",
    "1960-е Data Fishing, Data Dredging  \n",
    "1980-е Knowledge Discovery in Databases  \n",
    "1990-е Data Mining, Database mining TM  \n",
    "2000-е Data Analytics, Data Science 34  "
   ]
  },
  {
   "cell_type": "markdown",
   "metadata": {
    "slideshow": {
     "slide_type": "subslide"
    }
   },
   "source": [
    "\"Data Scientist\" is a Data Analyst who lives in California.  \n",
    "https://twitter.com/nivertech/status/180109930139893761  "
   ]
  },
  {
   "cell_type": "markdown",
   "metadata": {
    "slideshow": {
     "slide_type": "subslide"
    }
   },
   "source": [
    "Data Scientist (n.): Person who is better at statistics than any software engineer and better at software engineering than any statistician.  \n",
    "https://twitter.com/josh_wills/status/198093512149958656 (J. Wills, Data Scientist at Cloudera Inc.)  "
   ]
  },
  {
   "cell_type": "markdown",
   "metadata": {
    "slideshow": {
     "slide_type": "subslide"
    }
   },
   "source": [
    "Data-  \n",
    "✖ -architecture  \n",
    "✖ -acquisition  \n",
    "✔ -analysis  \n",
    "✖ -archiving  "
   ]
  },
  {
   "cell_type": "markdown",
   "metadata": {
    "slideshow": {
     "slide_type": "subslide"
    }
   },
   "source": [
    "Некоторые важные события в истории Data Mining  \n",
    "[**1989**](http://www.kdnuggets.com/meetings/kdd89/) IJCAI-89 Workshop on Knowledge Discovery in Databases.  \n",
    "**1995** ACM [SIGKDD](http://www.kdd.org/conferences) Conference on Knowledge Discovery and Data Mining  \n",
    "**2001** Leo Breiman’s “Statistical Modeling: The Two Cultures”  \n",
    "**2003** Программа Total Information Awareness  \n",
    "**2005** Doug Cutting и Mike Cafarella разработали пакет обработки данных Hadoop  \n",
    "**2007** Первый релиз библиотки scikit-learn  \n",
    "**2010** Заработал сайт Kaggle – платформа для проведения соревнований по Data Science  \n",
    "**2012** Harvard Business Review публикует статью Data Scientist: The Sexiest Job of the 21st Century  \n",
    "**2013** Первая встреча сообщества [Moscow Data Science](http://www.meetup.com/Moscow-Data-Science/) в московском офисе Mail.Ru Group  \n",
    "**2015** Зарегистрирован [slack](http://ods.ai/) сообщества [Open Data Science](https://habrahabr.ru/company/ods/)"
   ]
  },
  {
   "cell_type": "markdown",
   "metadata": {
    "slideshow": {
     "slide_type": "slide"
    }
   },
   "source": [
    "## Unsupervised learning \\ Обучение без учителя\n"
   ]
  },
  {
   "cell_type": "markdown",
   "metadata": {
    "slideshow": {
     "slide_type": "slide"
    }
   },
   "source": [
    "### Кластеризация\n",
    "\n",
    "В данных, возможно, есть какая-либо структура. Но нет знания о том, есть ли она и какой формы."
   ]
  },
  {
   "cell_type": "code",
   "execution_count": 2,
   "metadata": {
    "slideshow": {
     "slide_type": "subslide"
    }
   },
   "outputs": [
    {
     "data": {
      "image/png": "[encoded data removed]",
      "text/plain": [
       "<matplotlib.figure.Figure at 0x7f8434118d90>"
      ]
     },
     "metadata": {},
     "output_type": "display_data"
    }
   ],
   "source": [
    "# http://scikit-learn.org/stable/auto_examples/cluster/plot_cluster_comparison.html\n",
    "%matplotlib inline\n",
    "\n",
    "\n",
    "import numpy as np\n",
    "import matplotlib.pyplot as plt\n",
    "\n",
    "from sklearn import datasets\n",
    "from sklearn.preprocessing import StandardScaler\n",
    "\n",
    "np.random.seed(0)\n",
    "\n",
    "n_samples = 1500\n",
    "noisy_circles = datasets.make_circles(n_samples=n_samples, factor=.5,\n",
    "                                      noise=.05)\n",
    "noisy_moons = datasets.make_moons(n_samples=n_samples, noise=.05)\n",
    "blobs = datasets.make_blobs(n_samples=n_samples, random_state=8)\n",
    "no_structure = np.random.rand(n_samples, 2), None\n",
    "\n",
    "plt.figure(figsize=(2 + 3, 9.5))\n",
    "\n",
    "datasets = [noisy_circles, noisy_moons, blobs, no_structure]\n",
    "for i_dataset, dataset in enumerate(datasets):\n",
    "    X, y = dataset\n",
    "    # normalize dataset for easier parameter selection\n",
    "    X = StandardScaler().fit_transform(X)\n",
    "\n",
    "    # plot\n",
    "    plt.subplot(4, 1, i_dataset + 1)\n",
    "    plt.scatter(X[:, 0], X[:, 1], s=10)\n",
    "    plt.xlim(-2, 2)\n",
    "    plt.ylim(-2, 2)\n",
    "    plt.xticks(())\n",
    "    plt.yticks(())\n",
    "\n",
    "plt.show()"
   ]
  },
  {
   "cell_type": "code",
   "execution_count": 3,
   "metadata": {
    "slideshow": {
     "slide_type": "subslide"
    }
   },
   "outputs": [
    {
     "name": "stdout",
     "output_type": "stream",
     "text": [
      "(1500, 2)\n",
      "(array([[-0.67799938, -0.69875698],\n",
      "       [ 0.93143746,  0.19139133],\n",
      "       [ 0.54829131, -0.00601715],\n",
      "       ..., \n",
      "       [-0.34518816, -0.35804797],\n",
      "       [ 0.01719727, -0.94513802],\n",
      "       [ 0.91377877, -0.59884164]]), array([0, 0, 1, ..., 1, 0, 0]))\n",
      "(1500, 2)\n",
      "(array([[ 0.49627131, -0.34275349],\n",
      "       [-0.16629956,  0.92234209],\n",
      "       [ 0.71895601,  0.66529038],\n",
      "       ..., \n",
      "       [ 1.90950927,  0.02989686],\n",
      "       [ 0.54623069, -0.36003133],\n",
      "       [ 0.04090016,  0.37069297]]), array([1, 0, 0, ..., 1, 1, 1]))\n",
      "(1500, 2)\n",
      "(array([[  5.86749807,   8.17715188],\n",
      "       [  5.61369982,   9.93295527],\n",
      "       [  7.22508428,  10.44886194],\n",
      "       ..., \n",
      "       [  7.73674097,  10.82855388],\n",
      "       [ -4.61701094,  -9.64855983],\n",
      "       [ -3.48640175,  -9.25766922]]), array([0, 0, 0, ..., 0, 2, 2]))\n",
      "(1500, 2)\n",
      "(array([[ 0.59945663,  0.24694133],\n",
      "       [ 0.5173267 ,  0.57255303],\n",
      "       [ 0.55229185,  0.40567924],\n",
      "       ..., \n",
      "       [ 0.8384347 ,  0.52906874],\n",
      "       [ 0.84228843,  0.11517496],\n",
      "       [ 0.91963613,  0.22592146]]), None)\n"
     ]
    }
   ],
   "source": [
    "for i_dataset, dataset in enumerate(datasets):\n",
    "    print dataset[0].shape\n",
    "    print dataset"
   ]
  },
  {
   "cell_type": "markdown",
   "metadata": {
    "slideshow": {
     "slide_type": "slide"
    }
   },
   "source": [
    "### Выделение шума\n",
    "\n",
    "Известны очищенные данные. В новых примерах нужно выделить шум."
   ]
  },
  {
   "cell_type": "code",
   "execution_count": 4,
   "metadata": {
    "slideshow": {
     "slide_type": "subslide"
    }
   },
   "outputs": [
    {
     "data": {
      "image/png": "[encoded data removed]",
      "text/plain": [
       "<matplotlib.figure.Figure at 0x7f84566eedd0>"
      ]
     },
     "metadata": {},
     "output_type": "display_data"
    }
   ],
   "source": [
    "# http://scikit-learn.org/stable/auto_examples/ensemble/plot_isolation_forest.html#sphx-glr-auto-examples-ensemble-plot-isolation-forest-py\n",
    "\n",
    "import numpy as np\n",
    "import matplotlib.pyplot as plt\n",
    "\n",
    "rng = np.random.RandomState(42)\n",
    "\n",
    "# Generate train data\n",
    "X = 0.3 * rng.randn(100, 2)\n",
    "X_train = np.r_[X + 2, X - 2]\n",
    "# Generate some regular novel observations\n",
    "X = 0.3 * rng.randn(20, 2)\n",
    "X_test = np.r_[X + 2, X - 2]\n",
    "# Generate some abnormal novel observations\n",
    "X_outliers = rng.uniform(low=-4, high=4, size=(20, 2))\n",
    "\n",
    "b1 = plt.scatter(X_train[:, 0], X_train[:, 1], c='black')\n",
    "b2 = plt.scatter(X_test[:, 0], X_test[:, 1], c='green')\n",
    "c = plt.scatter(X_outliers[:, 0], X_outliers[:, 1], c='red')\n",
    "plt.axis('tight')\n",
    "plt.xlim((-5, 5))\n",
    "plt.ylim((-5, 5))\n",
    "plt.legend([b1, b2, c],\n",
    "           [\"training observations\",\n",
    "            \"new regular observations\", \"new abnormal observations\"],\n",
    "           loc=\"upper left\")\n",
    "plt.show()"
   ]
  },
  {
   "cell_type": "markdown",
   "metadata": {
    "slideshow": {
     "slide_type": "slide"
    }
   },
   "source": [
    "### Визуализация данных\n",
    "\n",
    "Найти способ отобразить данные в графическом виде и извлечь из этого знания"
   ]
  },
  {
   "cell_type": "code",
   "execution_count": 5,
   "metadata": {
    "slideshow": {
     "slide_type": "subslide"
    }
   },
   "outputs": [
    {
     "name": "stdout",
     "output_type": "stream",
     "text": [
      "Computing t-SNE embedding\n"
     ]
    },
    {
     "data": {
      "image/png": "[encoded data removed]",
      "text/plain": [
       "<matplotlib.figure.Figure at 0x7f842c844b10>"
      ]
     },
     "metadata": {},
     "output_type": "display_data"
    },
    {
     "data": {
      "image/png": "[encoded data removed]",
      "text/plain": [
       "<matplotlib.figure.Figure at 0x7f842c859950>"
      ]
     },
     "metadata": {},
     "output_type": "display_data"
    }
   ],
   "source": [
    "# http://scikit-learn.org/stable/auto_examples/manifold/plot_lle_digits.html#sphx-glr-auto-examples-manifold-plot-lle-digits-py\n",
    "\n",
    "from time import time\n",
    "\n",
    "import numpy as np\n",
    "import matplotlib.pyplot as plt\n",
    "from matplotlib import offsetbox\n",
    "from sklearn import (manifold, datasets, decomposition, ensemble,\n",
    "                     discriminant_analysis, random_projection)\n",
    "\n",
    "digits = datasets.load_digits(n_class=6)\n",
    "X = digits.data\n",
    "y = digits.target\n",
    "n_samples, n_features = X.shape\n",
    "n_neighbors = 30\n",
    "\n",
    "#----------------------------------------------------------------------\n",
    "# Scale and visualize the embedding vectors\n",
    "def plot_embedding(X, title=None):\n",
    "    x_min, x_max = np.min(X, 0), np.max(X, 0)\n",
    "    X = (X - x_min) / (x_max - x_min)\n",
    "\n",
    "    plt.figure()\n",
    "    ax = plt.subplot(111)\n",
    "    for i in range(X.shape[0]):\n",
    "        plt.text(X[i, 0], X[i, 1], str(digits.target[i]),\n",
    "                 color=plt.cm.Set1(y[i] / 10.),\n",
    "                 fontdict={'weight': 'bold', 'size': 9})\n",
    "\n",
    "    if hasattr(offsetbox, 'AnnotationBbox'):\n",
    "        # only print thumbnails with matplotlib > 1.0\n",
    "        shown_images = np.array([[1., 1.]])  # just something big\n",
    "        for i in range(digits.data.shape[0]):\n",
    "            dist = np.sum((X[i] - shown_images) ** 2, 1)\n",
    "            if np.min(dist) < 4e-3:\n",
    "                # don't show points that are too close\n",
    "                continue\n",
    "            shown_images = np.r_[shown_images, [X[i]]]\n",
    "            imagebox = offsetbox.AnnotationBbox(\n",
    "                offsetbox.OffsetImage(digits.images[i], cmap=plt.cm.gray_r),\n",
    "                X[i])\n",
    "            ax.add_artist(imagebox)\n",
    "    plt.xticks([]), plt.yticks([])\n",
    "    if title is not None:\n",
    "        plt.title(title)\n",
    "\n",
    "        \n",
    "# Plot images of the digits\n",
    "n_img_per_row = 20\n",
    "img = np.zeros((10 * n_img_per_row, 10 * n_img_per_row))\n",
    "for i in range(n_img_per_row):\n",
    "    ix = 10 * i + 1\n",
    "    for j in range(n_img_per_row):\n",
    "        iy = 10 * j + 1\n",
    "        img[ix:ix + 8, iy:iy + 8] = X[i * n_img_per_row + j].reshape((8, 8))\n",
    "\n",
    "plt.imshow(img, cmap=plt.cm.binary)\n",
    "plt.xticks([])\n",
    "plt.yticks([])\n",
    "plt.title('A selection from the 64-dimensional digits dataset')\n",
    "\n",
    "\n",
    "# t-SNE embedding of the digits dataset\n",
    "print(\"Computing t-SNE embedding\")\n",
    "tsne = manifold.TSNE(n_components=2, init='pca', random_state=0)\n",
    "t0 = time()\n",
    "X_tsne = tsne.fit_transform(X)\n",
    "\n",
    "plot_embedding(X_tsne,\n",
    "               \"t-SNE embedding of the digits (time %.2fs)\" %\n",
    "               (time() - t0))\n",
    "\n",
    "plt.show()"
   ]
  },
  {
   "cell_type": "code",
   "execution_count": 6,
   "metadata": {
    "slideshow": {
     "slide_type": "subslide"
    }
   },
   "outputs": [
    {
     "name": "stdout",
     "output_type": "stream",
     "text": [
      "(1083, 64)\n",
      "[[  0.   0.   5. ...,   0.   0.   0.]\n",
      " [  0.   0.   0. ...,  10.   0.   0.]\n",
      " [  0.   0.   0. ...,  16.   9.   0.]\n",
      " ..., \n",
      " [  0.   0.   0. ...,   9.   0.   0.]\n",
      " [  0.   0.   0. ...,   4.   0.   0.]\n",
      " [  0.   0.   6. ...,   6.   0.   0.]]\n"
     ]
    }
   ],
   "source": [
    "print X.shape\n",
    "print X"
   ]
  },
  {
   "cell_type": "markdown",
   "metadata": {
    "slideshow": {
     "slide_type": "subslide"
    }
   },
   "source": [
    "<img src=\"images/olivetti_tsne.jpg\">"
   ]
  },
  {
   "cell_type": "markdown",
   "metadata": {
    "collapsed": true,
    "slideshow": {
     "slide_type": "slide"
    }
   },
   "source": [
    "## Supervised learning \\ Обучение с учителем\n",
    "\n",
    "В данных известен ответ, класс или число\n"
   ]
  },
  {
   "cell_type": "markdown",
   "metadata": {
    "collapsed": true,
    "slideshow": {
     "slide_type": "slide"
    }
   },
   "source": [
    "### Классификация\n",
    "В данных известен класс. Для новых данных нужно определить, к каким классам они относятся"
   ]
  },
  {
   "cell_type": "code",
   "execution_count": 7,
   "metadata": {
    "slideshow": {
     "slide_type": "subslide"
    }
   },
   "outputs": [
    {
     "name": "stdout",
     "output_type": "stream",
     "text": [
      "Classification report for classifier SVC(C=1.0, cache_size=200, class_weight=None, coef0=0.0,\n",
      "  decision_function_shape=None, degree=3, gamma=0.001, kernel='rbf',\n",
      "  max_iter=-1, probability=False, random_state=None, shrinking=True,\n",
      "  tol=0.001, verbose=False):\n",
      "             precision    recall  f1-score   support\n",
      "\n",
      "          0       1.00      0.99      0.99        88\n",
      "          1       0.99      0.97      0.98        91\n",
      "          2       0.99      0.99      0.99        86\n",
      "          3       0.98      0.87      0.92        91\n",
      "          4       0.99      0.96      0.97        92\n",
      "          5       0.95      0.97      0.96        91\n",
      "          6       0.99      0.99      0.99        91\n",
      "          7       0.96      0.99      0.97        89\n",
      "          8       0.94      1.00      0.97        88\n",
      "          9       0.93      0.98      0.95        92\n",
      "\n",
      "avg / total       0.97      0.97      0.97       899\n",
      "\n",
      "\n",
      "Confusion matrix:\n",
      "[[87  0  0  0  1  0  0  0  0  0]\n",
      " [ 0 88  1  0  0  0  0  0  1  1]\n",
      " [ 0  0 85  1  0  0  0  0  0  0]\n",
      " [ 0  0  0 79  0  3  0  4  5  0]\n",
      " [ 0  0  0  0 88  0  0  0  0  4]\n",
      " [ 0  0  0  0  0 88  1  0  0  2]\n",
      " [ 0  1  0  0  0  0 90  0  0  0]\n",
      " [ 0  0  0  0  0  1  0 88  0  0]\n",
      " [ 0  0  0  0  0  0  0  0 88  0]\n",
      " [ 0  0  0  1  0  1  0  0  0 90]]\n"
     ]
    },
    {
     "data": {
      "image/png": "[encoded data removed]",
      "text/plain": [
       "<matplotlib.figure.Figure at 0x7f8455eb3490>"
      ]
     },
     "metadata": {},
     "output_type": "display_data"
    }
   ],
   "source": [
    "# Standard scientific Python imports\n",
    "import matplotlib.pyplot as plt\n",
    "\n",
    "# Import datasets, classifiers and performance metrics\n",
    "from sklearn import datasets, svm, metrics\n",
    "\n",
    "# The digits dataset\n",
    "digits = datasets.load_digits()\n",
    "\n",
    "# The data that we are interested in is made of 8x8 images of digits, let's\n",
    "# have a look at the first 4 images, stored in the `images` attribute of the\n",
    "# dataset.  If we were working from image files, we could load them using\n",
    "# matplotlib.pyplot.imread.  Note that each image must have the same size. For these\n",
    "# images, we know which digit they represent: it is given in the 'target' of\n",
    "# the dataset.\n",
    "images_and_labels = list(zip(digits.images, digits.target))\n",
    "for index, (image, label) in enumerate(images_and_labels[:4]):\n",
    "    plt.subplot(2, 4, index + 1)\n",
    "    plt.axis('off')\n",
    "    plt.imshow(image, cmap=plt.cm.gray_r, interpolation='nearest')\n",
    "    plt.title('Training: %i' % label)\n",
    "\n",
    "# To apply a classifier on this data, we need to flatten the image, to\n",
    "# turn the data in a (samples, feature) matrix:\n",
    "n_samples = len(digits.images)\n",
    "data = digits.images.reshape((n_samples, -1))\n",
    "\n",
    "# Create a classifier: a support vector classifier\n",
    "classifier = svm.SVC(gamma=0.001)\n",
    "\n",
    "# We learn the digits on the first half of the digits\n",
    "classifier.fit(data[:n_samples / 2], digits.target[:n_samples / 2])\n",
    "\n",
    "# Now predict the value of the digit on the second half:\n",
    "expected = digits.target[n_samples / 2:]\n",
    "predicted = classifier.predict(data[n_samples / 2:])\n",
    "\n",
    "print(\"Classification report for classifier %s:\\n%s\\n\"\n",
    "      % (classifier, metrics.classification_report(expected, predicted)))\n",
    "print(\"Confusion matrix:\\n%s\" % metrics.confusion_matrix(expected, predicted))\n",
    "\n",
    "images_and_predictions = list(zip(digits.images[n_samples / 2:], predicted))\n",
    "for index, (image, prediction) in enumerate(images_and_predictions[:4]):\n",
    "    plt.subplot(2, 4, index + 5)\n",
    "    plt.axis('off')\n",
    "    plt.imshow(image, cmap=plt.cm.gray_r, interpolation='nearest')\n",
    "    plt.title('Prediction: %i' % prediction)\n",
    "\n",
    "plt.show()"
   ]
  },
  {
   "cell_type": "markdown",
   "metadata": {
    "collapsed": true,
    "slideshow": {
     "slide_type": "slide"
    }
   },
   "source": [
    "### Регрессия\n",
    "В данных известена некоторая числовая величина. Для новых данных нужно определить значение этой величины."
   ]
  },
  {
   "cell_type": "code",
   "execution_count": 8,
   "metadata": {
    "scrolled": true,
    "slideshow": {
     "slide_type": "subslide"
    }
   },
   "outputs": [
    {
     "name": "stdout",
     "output_type": "stream",
     "text": [
      "Boston House Prices dataset\n",
      "\n",
      "Notes\n",
      "------\n",
      "Data Set Characteristics:  \n",
      "\n",
      "    :Number of Instances: 506 \n",
      "\n",
      "    :Number of Attributes: 13 numeric/categorical predictive\n",
      "    \n",
      "    :Median Value (attribute 14) is usually the target\n",
      "\n",
      "    :Attribute Information (in order):\n",
      "        - CRIM     per capita crime rate by town\n",
      "        - ZN       proportion of residential land zoned for lots over 25,000 sq.ft.\n",
      "        - INDUS    proportion of non-retail business acres per town\n",
      "        - CHAS     Charles River dummy variable (= 1 if tract bounds river; 0 otherwise)\n",
      "        - NOX      nitric oxides concentration (parts per 10 million)\n",
      "        - RM       average number of rooms per dwelling\n",
      "        - AGE      proportion of owner-occupied units built prior to 1940\n",
      "        - DIS      weighted distances to five Boston employment centres\n",
      "        - RAD      index of accessibility to radial highways\n",
      "        - TAX      full-value property-tax rate per $10,000\n",
      "        - PTRATIO  pupil-teacher ratio by town\n",
      "        - B        1000(Bk - 0.63)^2 where Bk is the proportion of blacks by town\n",
      "        - LSTAT    % lower status of the population\n",
      "        - MEDV     Median value of owner-occupied homes in $1000's\n",
      "\n",
      "    :Missing Attribute Values: None\n",
      "\n",
      "    :Creator: Harrison, D. and Rubinfeld, D.L.\n",
      "\n",
      "This is a copy of UCI ML housing dataset.\n",
      "http://archive.ics.uci.edu/ml/datasets/Housing\n",
      "\n",
      "\n",
      "This dataset was taken from the StatLib library which is maintained at Carnegie Mellon University.\n",
      "\n",
      "The Boston house-price data of Harrison, D. and Rubinfeld, D.L. 'Hedonic\n",
      "prices and the demand for clean air', J. Environ. Economics & Management,\n",
      "vol.5, 81-102, 1978.   Used in Belsley, Kuh & Welsch, 'Regression diagnostics\n",
      "...', Wiley, 1980.   N.B. Various transformations are used in the table on\n",
      "pages 244-261 of the latter.\n",
      "\n",
      "The Boston house-price data has been used in many machine learning papers that address regression\n",
      "problems.   \n",
      "     \n",
      "**References**\n",
      "\n",
      "   - Belsley, Kuh & Welsch, 'Regression diagnostics: Identifying Influential Data and Sources of Collinearity', Wiley, 1980. 244-261.\n",
      "   - Quinlan,R. (1993). Combining Instance-Based and Model-Based Learning. In Proceedings on the Tenth International Conference of Machine Learning, 236-243, University of Massachusetts, Amherst. Morgan Kaufmann.\n",
      "   - many more! (see http://archive.ics.uci.edu/ml/datasets/Housing)\n",
      "\n",
      "['CRIM' 'ZN' 'INDUS' 'CHAS' 'NOX' 'RM' 'AGE' 'DIS' 'RAD' 'TAX' 'PTRATIO'\n",
      " 'B' 'LSTAT']\n",
      "(506, 13)\n",
      "(506,)\n",
      "[[  6.32000000e-03   1.80000000e+01   2.31000000e+00 ...,   1.53000000e+01\n",
      "    3.96900000e+02   4.98000000e+00]\n",
      " [  2.73100000e-02   0.00000000e+00   7.07000000e+00 ...,   1.78000000e+01\n",
      "    3.96900000e+02   9.14000000e+00]\n",
      " [  2.72900000e-02   0.00000000e+00   7.07000000e+00 ...,   1.78000000e+01\n",
      "    3.92830000e+02   4.03000000e+00]\n",
      " ..., \n",
      " [  6.07600000e-02   0.00000000e+00   1.19300000e+01 ...,   2.10000000e+01\n",
      "    3.96900000e+02   5.64000000e+00]\n",
      " [  1.09590000e-01   0.00000000e+00   1.19300000e+01 ...,   2.10000000e+01\n",
      "    3.93450000e+02   6.48000000e+00]\n",
      " [  4.74100000e-02   0.00000000e+00   1.19300000e+01 ...,   2.10000000e+01\n",
      "    3.96900000e+02   7.88000000e+00]]\n"
     ]
    }
   ],
   "source": [
    "from sklearn.datasets import load_boston\n",
    "boston = load_boston()\n",
    "print boston.DESCR\n",
    "print boston.feature_names\n",
    "print boston.data.shape\n",
    "print boston.target.shape\n",
    "print boston.data"
   ]
  },
  {
   "cell_type": "code",
   "execution_count": 9,
   "metadata": {
    "slideshow": {
     "slide_type": "subslide"
    }
   },
   "outputs": [
    {
     "data": {
      "image/png": "[encoded data removed]",
      "text/plain": [
       "<matplotlib.figure.Figure at 0x7f8455e82250>"
      ]
     },
     "metadata": {},
     "output_type": "display_data"
    }
   ],
   "source": [
    "import numpy as np\n",
    "from sklearn import linear_model\n",
    "import matplotlib.pyplot as plt\n",
    "\n",
    "# Use only one feature\n",
    "X = boston.data[:, np.newaxis, 0]\n",
    "\n",
    "# Split the data into training/testing sets\n",
    "X_train = X[:-100]\n",
    "X_test = X[-100:]\n",
    "\n",
    "# Split the targets into training/testing sets\n",
    "y_train = boston.target[:-100]\n",
    "y_test = boston.target[-100:]\n",
    "\n",
    "# Create linear regression object\n",
    "regr = linear_model.LinearRegression()\n",
    "\n",
    "# Train the model using the training sets\n",
    "regr.fit(X_train, y_train)\n",
    "\n",
    "# Plot outputs\n",
    "plt.scatter(X_test, y_test,  color='black')\n",
    "plt.plot(X_test, regr.predict(X_test), color='blue',\n",
    "         linewidth=3)\n",
    "\n",
    "plt.xticks(())\n",
    "plt.yticks(())\n",
    "\n",
    "plt.show()"
   ]
  },
  {
   "cell_type": "markdown",
   "metadata": {
    "collapsed": true,
    "slideshow": {
     "slide_type": "slide"
    }
   },
   "source": [
    "## Примеры реальных задач"
   ]
  },
  {
   "cell_type": "markdown",
   "metadata": {
    "collapsed": true,
    "slideshow": {
     "slide_type": "slide"
    }
   },
   "source": [
    "### Multimedia Data Mining"
   ]
  },
  {
   "cell_type": "markdown",
   "metadata": {
    "collapsed": true,
    "slideshow": {
     "slide_type": "subslide"
    }
   },
   "source": [
    "### Изображения\n",
    "\n",
    "Кот или собака?\n",
    "\n",
    "https://www.kaggle.com/c/dogs-vs-cats  \n",
    "\n",
    "http://www.robots.ox.ac.uk/~vgg/data/pets/   \n",
    "http://www.robots.ox.ac.uk/~vgg/data/pets/getCategory.php?category=British_Shorthair  \n",
    "\n"
   ]
  },
  {
   "cell_type": "markdown",
   "metadata": {
    "slideshow": {
     "slide_type": "subslide"
    }
   },
   "source": [
    "<img style=\"float: left;\" src=\"images/cat_or_dog.jpg\">  "
   ]
  },
  {
   "cell_type": "markdown",
   "metadata": {
    "slideshow": {
     "slide_type": "subslide"
    }
   },
   "source": [
    "\n",
    "\n",
    "<img style=\"float: left;\" src=\"images/dog_or_muffin.jpg\">"
   ]
  },
  {
   "cell_type": "markdown",
   "metadata": {
    "collapsed": true,
    "slideshow": {
     "slide_type": "subslide"
    }
   },
   "source": [
    "https://code.facebook.com/posts/457605107772545/under-the-hood-building-accessibility-tools-for-the-visually-impaired-on-facebook/"
   ]
  },
  {
   "cell_type": "markdown",
   "metadata": {
    "slideshow": {
     "slide_type": "subslide"
    }
   },
   "source": [
    "### Видеопоток\n",
    "\n",
    "<img style=\"float: left;\" src=\"images/football.jpg\">"
   ]
  },
  {
   "cell_type": "markdown",
   "metadata": {
    "collapsed": true,
    "slideshow": {
     "slide_type": "subslide"
    }
   },
   "source": [
    "### Data Mining в медицине и биологии\n",
    "\n",
    "[Can you improve lung cancer detection?](https://www.kaggle.com/c/data-science-bowl-2017)\n",
    "    \n",
    "[Why AI is Needed - Brendan Frey](https://www.youtube.com/watch?v=dcU93uo1qu0)\n",
    "\n",
    "\n"
   ]
  },
  {
   "cell_type": "markdown",
   "metadata": {
    "collapsed": true,
    "slideshow": {
     "slide_type": "subslide"
    }
   },
   "source": [
    "### Data Mining в физике элементарных частиц\n",
    "[cern](http://opendata.cern.ch/)"
   ]
  },
  {
   "cell_type": "markdown",
   "metadata": {
    "collapsed": true,
    "slideshow": {
     "slide_type": "subslide"
    }
   },
   "source": [
    "### Data Mining в астрономии\n",
    "[For each galaxy, determine the probability that it belongs in a particular class](https://www.kaggle.com/c/galaxy-zoo-the-galaxy-challenge)"
   ]
  },
  {
   "cell_type": "markdown",
   "metadata": {
    "collapsed": true,
    "slideshow": {
     "slide_type": "subslide"
    }
   },
   "source": [
    "### Data Mining в финансовой сфере\n",
    "\n",
    "[Предсказание биржевых цен](https://en.wikipedia.org/wiki/Stock_market_prediction)  \n",
    "Предсказание курса валют  \n",
    "Работа с рисками и банкротством  \n",
    "Кредитный скоринг  \n",
    "Выявление мошенников  "
   ]
  },
  {
   "cell_type": "markdown",
   "metadata": {
    "collapsed": true,
    "slideshow": {
     "slide_type": "subslide"
    }
   },
   "source": [
    "### Data Mining для CRM и целевого маркетинга\n",
    "CRM = Customer Relationship Management  \n",
    "Как определить, кто собирается уйти?  \n",
    "Какие продукты предложить клиенту?  \n",
    "Как найти новых клиентов?  \n",
    "Реклама!  "
   ]
  },
  {
   "cell_type": "markdown",
   "metadata": {
    "slideshow": {
     "slide_type": "subslide"
    }
   },
   "source": [
    "### Еще задачи\n",
    "\n",
    "• Predict whether a patient, hospitalized due to a heart attack, will have a second heart attack. The prediction is to be based on demographic, diet and clinical measurements for that patient.  \n",
    "• Predict the price of a stock in 6 months from now, on the basis of company performance measures and economic data.  \n",
    "• Identify the numbers in a handwritten ZIP code, from a digitized image.  \n",
    "• Estimate the amount of glucose in the blood of a diabetic person, from the infrared absorption spectrum of that person’s blood.  \n",
    "• Identify the risk factors for prostate cancer, based on clinical and demographic variables  \n",
    "\n",
    "Hastie T., Tibshirani R., Friedman J. The Elements of Statistical Learning"
   ]
  },
  {
   "cell_type": "markdown",
   "metadata": {
    "collapsed": true,
    "slideshow": {
     "slide_type": "subslide"
    }
   },
   "source": [
    "### Data Mining для Высшего блага (на самом деле fail)\n",
    "\n",
    "#### Принцип Бонферрони\n",
    "\n",
    "* Наблюдаем $10^9$ человек\n",
    "* Человек в среднем посещает отель раз в 100 дней\n",
    "* Есть $10^5$ отелей на 100 человек каждый\n",
    "* Проверим посещения за 1000 дней. Ищем повторные встречи (встретились дважды)\n",
    "\n",
    "Вероятность для конкретной пары встретиться в отеле в конкретный день:  \n",
    "\n",
    "$$p_1 = \\left(\\frac{1}{100}\\right)^2 \\cdot 10^{-5} = 10^{-9}$$\n",
    "\n",
    "Вероятность того, что пара встретится в два конкретных дня:\n",
    "\n",
    "$$p_2 = 10^{-9} * 10^{-9} = 10^{-18}$$\n",
    "\n",
    "Всего пар дней:\n",
    "\n",
    "$$n_{pd} = C^2_{10^3} \\approx \\frac{(10^3)^2}{2} = 5 \\cdot 10^{5}$$\n",
    "\n",
    "Вероятность того, что пара встретится в два любых дня:\n",
    "\n",
    "$$p_3 = 5 \\cdot 10^{5} \\cdot 10^{-18} = 10^{-13}$$\n",
    "\n",
    "Всего пар людей  \n",
    "\n",
    "$$n_{pp} = C^2_{10^9} \\approx \\frac{(10^9)^2}{2} = 5 \\cdot 10^{17}$$\n",
    "\n",
    "Ожидаемое количество *подозрительных* встреч в отелях\n",
    "\n",
    "$$N = p_3 n_{pp}= 250000 >> 10$$\n"
   ]
  },
  {
   "cell_type": "markdown",
   "metadata": {
    "slideshow": {
     "slide_type": "subslide"
    }
   },
   "source": [
    "### Принцип Бонферрони\n",
    "\n",
    "Вычислить количество рассматриваемых событий при предположении их полной случайности. Если это количество намного превосходит количество событий, о котором идет речь в задаче, полученные результаты нельзя будет считать достоверными."
   ]
  },
  {
   "cell_type": "markdown",
   "metadata": {
    "slideshow": {
     "slide_type": "slide"
    }
   },
   "source": [
    "## Унификация процесса Data Mining \n",
    "## Формальная постановка задачи\n",
    "<img style=\"float: left;\" src=\"images/standards.png\">"
   ]
  },
  {
   "cell_type": "markdown",
   "metadata": {
    "slideshow": {
     "slide_type": "slide"
    }
   },
   "source": [
    "## Давайте подумаем, какие есть этапы"
   ]
  },
  {
   "cell_type": "markdown",
   "metadata": {
    "slideshow": {
     "slide_type": "subslide"
    }
   },
   "source": [
    "### CRISP-DM\n",
    "\n",
    "Cross Industry Standard Process for Data Mining\n",
    "\n",
    "<img style=\"float: left;\" src=\"images/crisp.png\">"
   ]
  },
  {
   "cell_type": "markdown",
   "metadata": {
    "collapsed": true,
    "slideshow": {
     "slide_type": "subslide"
    }
   },
   "source": [
    "### Business understanding\n",
    "\t\t\n",
    "* понимание задачи с точки зрения бизнеса\n",
    "* сбор требований и ограничений\n",
    "* постановка задачи в терминах Data Mining"
   ]
  },
  {
   "cell_type": "markdown",
   "metadata": {
    "slideshow": {
     "slide_type": "subslide"
    }
   },
   "source": [
    "$\\mathcal{D}$ - множество, содержащее все рассматриваемые в задаче объекты\n",
    "\n",
    "$f: \\mathcal{D} \\rightarrow \\mathcal{Y}$ - целевая функция\n",
    "\n",
    "Цель - с использованием данных о конечном множестве объектов из $\\mathcal{D}$ (data set) научиться предсказывать значения целевой функции для любых объектов из $\\mathcal{D}$\n",
    "\n",
    "Задача **с учителем** - для \"известных\" объектов дано значение целевой функции, иначе - задача **без учителя**.\n"
   ]
  },
  {
   "cell_type": "markdown",
   "metadata": {
    "slideshow": {
     "slide_type": "subslide"
    }
   },
   "source": [
    "### Data understanding\n",
    "\t\n",
    "* первичный сбор данных\n",
    "* ознакомление с данными и понимание их специфики"
   ]
  },
  {
   "cell_type": "markdown",
   "metadata": {
    "slideshow": {
     "slide_type": "subslide"
    }
   },
   "source": [
    "### Data preparation\n",
    "* формирование финального набора данных\n"
   ]
  },
  {
   "cell_type": "markdown",
   "metadata": {
    "slideshow": {
     "slide_type": "subslide"
    }
   },
   "source": [
    "$\\mathcal{D}$ - множество, содержащее все рассматриваемые в задаче объекты  \n",
    "$d \\in \\mathcal{D}$ - объект,  $\\phi_j: \\mathcal{D} \\rightarrow F_j$ - признак  \n",
    "\n",
    "#### Виды признаков\n",
    "\n",
    "* Бинарные/Binary $F_j = \\{true, false\\}$\n",
    "* Номинальные/Categorical  $F_j$ - конечное\n",
    "* Порядковые/Ordinal $F_j$ - конечное, упорядоченное\n",
    "* Количественные/Numerical $F_j = \\mathbb{R}$\n",
    "\n",
    "#### Признаковое представление объекта $d$\n",
    "\n",
    "$\\mathbf{x} = (\\phi_1(d), \\ldots, \\phi_m(d)) \\in \\mathcal{X}$\n"
   ]
  },
  {
   "cell_type": "markdown",
   "metadata": {
    "slideshow": {
     "slide_type": "subslide"
    }
   },
   "source": [
    "### Игра в гольф: признаки\n",
    "\n",
    "| Outlook | Temperature | Humidity | Wind | Play |\n",
    "| ------- | ----------- | -------- | ---- | ---- |\n",
    "|Sunny | 85 | 85 | false | no|\n",
    "|Sunny | 80 | 90 | true | no |\n",
    "|Overcast | 83 | 86 | false | yes |\n",
    "|Rainy | 70 | 96 | false | yes |\n",
    "|Rainy | 68 | 80 | false | yes |\n",
    "|Rainy | 65 | 70 | true | no |\n",
    "|Overcast | 64 | 65 | true | yes |\n",
    "|Sunny | 72 | 95 | false | no |\n",
    "|Sunny | 69 | 70 | false | yes |\n",
    "|Rainy | 75 | 80 | false | yes |\n",
    "|Sunny | 75 | 70 | true | yes |\n",
    "|Overcast | 72 | 90 | true | yes |\n",
    "|Overcast | 81 | 75 | false | yes |\n",
    "|Rainy | 71 | 91 | true | no |\n",
    "\n",
    "\n",
    "Игра в гольф  \n",
    "[Induction of Decision Trees / R. Quinlan](http://hunch.net/~coms-4771/quinlan.pdf)"
   ]
  },
  {
   "cell_type": "markdown",
   "metadata": {
    "slideshow": {
     "slide_type": "subslide"
    }
   },
   "source": [
    "## Modelling\n",
    "\n",
    "* перебор различных моделей\n",
    "* настройка параметров моделей\n",
    "\n",
    "### Модель\n",
    "признаковое описание объекта $d$:\n",
    "\n",
    "$$\\mathbf{x} = (\\phi_1(d), \\ldots, \\phi_m(d)) \\in \\mathcal{X}$$\n",
    "\n",
    "значение целевой функции для объекта $d$: $f(d) = y \\in \\mathcal{Y}$\n",
    "\n",
    "\n",
    "**модель** - семейство функций вида\n",
    "$$H = \\{h(\\mathbf{x}, \\theta) \\,:\\, \\mathcal{X} \\times \\Theta \\rightarrow \\mathcal{Y} \\},\\nonumber$$\n",
    "где $\\theta \\in \\Theta$ - неизвестный вектор параметров\n"
   ]
  },
  {
   "cell_type": "markdown",
   "metadata": {
    "slideshow": {
     "slide_type": "subslide"
    }
   },
   "source": [
    "## Обучение модели\n",
    "\n",
    "* дана обучающая выборка (data set) $X = \\{{\\mathbf{x}_1, \\ldots, \\mathbf{x_N}}\\}$\n",
    "* для каждого из объектов обучающей выборки дано значение целевой функции $Y = \\{y_1, \\ldots, y_N\\}$ (если задача с учителем)\n",
    "\n",
    "### Алгоритм обучения\n",
    "Выбор наилучших (с точки зрения выбранной меры) параметров $\\theta^*$ с использованием обучающей выборки\n",
    "\n",
    "$$A(X, Y): (\\mathcal{X} \\times \\mathcal{Y})^N \\rightarrow \\Theta$$\n",
    "\n",
    "$$h^*(\\mathbf{x}) = h(\\mathbf{x}, \\theta^*)$$"
   ]
  },
  {
   "cell_type": "markdown",
   "metadata": {
    "slideshow": {
     "slide_type": "subslide"
    }
   },
   "source": [
    "### Learning = Representation + Evaluation + Optimization  \n",
    "\n",
    "[A Few Useful Things to Know about Machine Learning // Pedro Domingos](https://homes.cs.washington.edu/~pedrod/papers/cacm12.pdf)"
   ]
  },
  {
   "cell_type": "markdown",
   "metadata": {
    "slideshow": {
     "slide_type": "subslide"
    }
   },
   "source": [
    "### Evaluation\n",
    "* тщательная проверка качества модели\n",
    "* подробное рассмотрение шагов, предпринятых при построении\n",
    "* поиск бизнес-требований, которые не удовлетворены\n",
    "\t\t"
   ]
  },
  {
   "cell_type": "markdown",
   "metadata": {
    "slideshow": {
     "slide_type": "subslide"
    }
   },
   "source": [
    "### Deployment\n",
    "* презентация модели клиенту\n",
    "* развертывание и использование модели\n"
   ]
  },
  {
   "cell_type": "markdown",
   "metadata": {
    "slideshow": {
     "slide_type": "subslide"
    }
   },
   "source": [
    "### Другие процессы: [SEMMA](http://timkienthuc.blogspot.ru/2012/04/crm-and-data-mining-day-08.html), [KDD](http://www.rithme.eu/)\n",
    "\n",
    "<img style=\"float: left;\" src=\"images/semma.png\">\n",
    "<img style=\"float: left;\" src=\"images/kdd.png\">"
   ]
  },
  {
   "cell_type": "markdown",
   "metadata": {
    "slideshow": {
     "slide_type": "slide"
    }
   },
   "source": [
    "## Exploratory data analysis\n",
    "\n",
    "<img style=\"float: left;\" src=\"images/piechart.png\">"
   ]
  },
  {
   "cell_type": "markdown",
   "metadata": {
    "slideshow": {
     "slide_type": "subslide"
    }
   },
   "source": [
    "**EDA** направлен на предварительное изучение данных\n",
    "* формирование гипотез относительно структуры данных\n",
    "* выбор необходимых инструментов анализа  \n",
    "\n",
    "\n",
    "Особенность метода состоит в визуализации и поиске важных характеристик и\n",
    "тенденций"
   ]
  },
  {
   "cell_type": "markdown",
   "metadata": {
    "slideshow": {
     "slide_type": "subslide"
    }
   },
   "source": [
    "### Plot\n",
    "<img style=\"float: left;\" src=\"images/plot.png\">"
   ]
  },
  {
   "cell_type": "markdown",
   "metadata": {
    "slideshow": {
     "slide_type": "subslide"
    }
   },
   "source": [
    "### Scatter\n",
    "<img style=\"float: left;\" src=\"images/scatter.png\">"
   ]
  },
  {
   "cell_type": "markdown",
   "metadata": {
    "slideshow": {
     "slide_type": "subslide"
    }
   },
   "source": [
    "### Barplot\n",
    "<img style=\"float: left;\" src=\"images/bar.png\">"
   ]
  },
  {
   "cell_type": "markdown",
   "metadata": {
    "slideshow": {
     "slide_type": "subslide"
    }
   },
   "source": [
    "### Piechart\n",
    "<img style=\"float: left;\" src=\"images/pie.png\">"
   ]
  },
  {
   "cell_type": "markdown",
   "metadata": {
    "slideshow": {
     "slide_type": "subslide"
    }
   },
   "source": [
    "### Heatmap\n",
    "<img style=\"float: left;\" src=\"images/heatmap.png\">"
   ]
  },
  {
   "cell_type": "markdown",
   "metadata": {
    "slideshow": {
     "slide_type": "subslide"
    }
   },
   "source": [
    "### Boxplot\n",
    "<img style=\"float: left;\" src=\"images/box.png\">"
   ]
  },
  {
   "cell_type": "markdown",
   "metadata": {
    "slideshow": {
     "slide_type": "subslide"
    }
   },
   "source": [
    "* Все познается в сравнении\n",
    "* Причинно-следственные связи\n",
    "* Размерность имеет значение (больше - лучше)\n",
    "* Не избегать пояснений\n",
    "* Content is king\n",
    "\n",
    "<img style=\"float: left;\" src=\"images/salaries.png\">\n"
   ]
  },
  {
   "cell_type": "markdown",
   "metadata": {
    "collapsed": true,
    "slideshow": {
     "slide_type": "slide"
    }
   },
   "source": [
    "## k-Means\n",
    "\n",
    "Алгоритм кластеризации, обучение без учителя\n",
    "\n"
   ]
  },
  {
   "cell_type": "markdown",
   "metadata": {
    "slideshow": {
     "slide_type": "fragment"
    }
   },
   "source": [
    "Кластеризация - разделить исходную выборку на несколько групп по признаку схожести объектов внутри группы\n",
    "\n"
   ]
  },
  {
   "cell_type": "code",
   "execution_count": 2,
   "metadata": {
    "slideshow": {
     "slide_type": "subslide"
    }
   },
   "outputs": [
    {
     "data": {
      "image/png": "[encoded data removed]",
      "text/plain": [
       "<matplotlib.figure.Figure at 0x7f8434118d90>"
      ]
     },
     "metadata": {},
     "output_type": "display_data"
    }
   ],
   "source": [
    "# http://scikit-learn.org/stable/auto_examples/cluster/plot_cluster_comparison.html\n",
    "%matplotlib inline\n",
    "\n",
    "\n",
    "import numpy as np\n",
    "import matplotlib.pyplot as plt\n",
    "\n",
    "from sklearn import datasets\n",
    "from sklearn.preprocessing import StandardScaler\n",
    "\n",
    "np.random.seed(0)\n",
    "\n",
    "n_samples = 1500\n",
    "noisy_circles = datasets.make_circles(n_samples=n_samples, factor=.5,\n",
    "                                      noise=.05)\n",
    "noisy_moons = datasets.make_moons(n_samples=n_samples, noise=.05)\n",
    "blobs = datasets.make_blobs(n_samples=n_samples, random_state=8)\n",
    "no_structure = np.random.rand(n_samples, 2), None\n",
    "\n",
    "plt.figure(figsize=(2 + 3, 9.5))\n",
    "\n",
    "datasets = [noisy_circles, noisy_moons, blobs, no_structure]\n",
    "for i_dataset, dataset in enumerate(datasets):\n",
    "    X, y = dataset\n",
    "    # normalize dataset for easier parameter selection\n",
    "    X = StandardScaler().fit_transform(X)\n",
    "\n",
    "    # plot\n",
    "    plt.subplot(4, 1, i_dataset + 1)\n",
    "    plt.scatter(X[:, 0], X[:, 1], s=10)\n",
    "    plt.xlim(-2, 2)\n",
    "    plt.ylim(-2, 2)\n",
    "    plt.xticks(())\n",
    "    plt.yticks(())\n",
    "\n",
    "plt.show()"
   ]
  },
  {
   "cell_type": "markdown",
   "metadata": {
    "slideshow": {
     "slide_type": "fragment"
    }
   },
   "source": [
    "#### Параметры\n",
    "**k** - количество кластеров"
   ]
  },
  {
   "cell_type": "markdown",
   "metadata": {
    "slideshow": {
     "slide_type": "subslide"
    }
   },
   "source": [
    "### Схожесть - расстояние между объектами\n",
    "\n",
    "Будем использовать евклидово расстояние\n",
    "\n",
    "Для точек $p=(p_{1},\\dots ,p_{n})$ и $q=(q_{1},\\dots ,q_{n})$ евклидово расстояние определяется следующим образом: $$d(p,q)={\\sqrt {(p_{1}-q_{1})^{2}+(p_{2}-q_{2})^{2}+\\dots +(p_{n}-q_{n})^{2}}}={\\sqrt {\\sum _{k=1}^{n}(p_{k}-q_{k})^{2}}}$$"
   ]
  },
  {
   "cell_type": "markdown",
   "metadata": {
    "slideshow": {
     "slide_type": "subslide"
    }
   },
   "source": [
    "### Центроид\n",
    "\n",
    "Кластер характеризуется центроидом - \"средней\" точкой внутри кластера. Не обязательно принадлежит выборке."
   ]
  },
  {
   "cell_type": "markdown",
   "metadata": {
    "slideshow": {
     "slide_type": "subslide"
    }
   },
   "source": [
    "### Алгоритм\n",
    "\n",
    "1. Выбрать заданное количество начальных центроидов случайным образом\n",
    "2. Для каждой точки из датасета присвоить кластер, соответствующий ближайшему центроиду\n",
    "$$C_k = {x_n : ||x_n - \\mu_k|| \\leq all ||x_n - \\mu_l||} $$\n",
    "3. Для каждого кластера выбрать новый центроид, посчитав среднее \n",
    "$$\\mu_k = \\frac{1}{C_k} \\sum _{x_n \\in C_k} x_n$$\n",
    "4. Повторять 2 и 3 до тех пор, пока изменения перестанут быть существенными "
   ]
  },
  {
   "cell_type": "code",
   "execution_count": null,
   "metadata": {},
   "outputs": [],
   "source": []
  },
  {
   "cell_type": "markdown",
   "metadata": {
    "collapsed": true,
    "slideshow": {
     "slide_type": "subslide"
    }
   },
   "source": [
    "### Недостатки\n",
    "* Нужно задавать количество кластеров\n",
    "* Находит локально оптимальное решение\n",
    "* Зависит от инициализации"
   ]
  },
  {
   "cell_type": "markdown",
   "metadata": {
    "slideshow": {
     "slide_type": "subslide"
    }
   },
   "source": [
    "<img style=\"float: left;\" src=\"images/k_means_step_1.png\">"
   ]
  },
  {
   "cell_type": "markdown",
   "metadata": {
    "slideshow": {
     "slide_type": "fragment"
    }
   },
   "source": [
    "<img style=\"float: left;\" src=\"images/k_means_step_2.png\">"
   ]
  },
  {
   "cell_type": "markdown",
   "metadata": {
    "slideshow": {
     "slide_type": "fragment"
    }
   },
   "source": [
    "<img style=\"float: left;\" src=\"images/k_means_step_3.png\">"
   ]
  },
  {
   "cell_type": "markdown",
   "metadata": {
    "slideshow": {
     "slide_type": "fragment"
    }
   },
   "source": [
    "<img style=\"float: left;\" src=\"images/k_means_step_4.png\">"
   ]
  },
  {
   "cell_type": "markdown",
   "metadata": {
    "slideshow": {
     "slide_type": "slide"
    }
   },
   "source": [
    "## Чтение\n",
    "* [From data mining to knowledge discovery: an overview](https://www.aaai.org/ojs/index.php/aimagazine/article/viewFile/1230/1131)\n",
    "* [A Few Useful Things to Know about Machine Learning](https://homes.cs.washington.edu/~pedrod/papers/cacm12.pdf)\n",
    "* [Mining of Massive Datasets](http://infolab.stanford.edu/~ullman/mmds/book.pdf) Chapters 1.1, 1.2, 1.3.6\n",
    "* [An Introduction to Data Science](https://ischool.syr.edu/media/documents/2012/3/DataScienceBook1_1.pdf) Chapter 1\n",
    "* [Pattern Classification](https://www.amazon.com/Pattern-Classification-Pt-1-Richard-Duda/dp/0471056693) Chapter 1\n",
    "* [My Favorite Charts blog post](https://eagereyes.org/blog/2014/my-favorite-charts)\n",
    "* [CRISP-DM User Guide](http://www.springer.com/us/book/9780387098227)\n",
    "* [k-means](http://datareview.info/article/klasterizatsiya-s-pomoshhyu-metoda-k-srednih-na-python/)\n"
   ]
  },
  {
   "cell_type": "markdown",
   "metadata": {
    "slideshow": {
     "slide_type": "slide"
    }
   },
   "source": [
    "<img src=\"images/otl.png\">"
   ]
  },
  {
   "cell_type": "markdown",
   "metadata": {
    "slideshow": {
     "slide_type": "slide"
    }
   },
   "source": [
    "### Вопросы\n",
    "### Пожалуйста, напишите отзыв о лекции"
   ]
  }
 ],
 "metadata": {
  "anaconda-cloud": {},
  "celltoolbar": "Slideshow",
  "kernelspec": {
   "display_name": "Python 2",
   "language": "python",
   "name": "python2"
  },
  "language_info": {
   "codemirror_mode": {
    "name": "ipython",
    "version": 2
   },
   "file_extension": ".py",
   "mimetype": "text/x-python",
   "name": "python",
   "nbconvert_exporter": "python",
   "pygments_lexer": "ipython2",
   "version": "2.7.14"
  },
  "nav_menu": {},
  "toc": {
   "navigate_menu": true,
   "number_sections": true,
   "sideBar": true,
   "threshold": 6,
   "toc_cell": false,
   "toc_section_display": "block",
   "toc_window_display": true
  }
 },
 "nbformat": 4,
 "nbformat_minor": 1
}
