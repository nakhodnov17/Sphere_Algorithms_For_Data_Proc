{
 "cells": [
  {
   "cell_type": "markdown",
   "metadata": {},
   "source": [
    "# Алгоритмы интеллектуальной обработки больших объемов данных\n",
    "## Домашнее задание №2 - Алгоритмы кластеризации\n"
   ]
  },
  {
   "cell_type": "markdown",
   "metadata": {},
   "source": [
    "###### <hr\\>\n",
    "**Общая информация**\n",
    "\n",
    "**Срок сдачи:** 23 октября 2017, 06:00 <br\\>\n",
    "**Штраф за опоздание:** -2 балла после 06:00 23 октября, -4 балла после 06:00 30 октября, -6 баллов после 06:00 6 ноября\n",
    "\n",
    "При отправлении ДЗ указывайте фамилию в названии файла\n",
    "Присылать ДЗ необходимо в виде ссылки на свой github репозиторий в slack @alkhamush Необходимо в slack создать таск в приватный чат:\n",
    "/todo Фамилия Имя ссылка на гитхаб @alkhamush\n",
    "Пример:\n",
    "/todo Ксения Стройкова https://github.com/stroykova/spheremailru/stroykova_hw1.ipynb @alkhamush\n",
    "\n",
    "Используйте данный Ipython Notebook при оформлении домашнего задания.\n",
    "<hr\\>"
   ]
  },
  {
   "cell_type": "markdown",
   "metadata": {},
   "source": [
    "# Для работы, необходимо добавить в папку с notebook файл с данными  https://data.worldbank.org/data-catalog/world-development-indicators"
   ]
  },
  {
   "cell_type": "markdown",
   "metadata": {},
   "source": [
    "###### Задание 1 (4 балла)\n",
    "Реализовать алгоритм кластеризации, который относится к вашему варианту. Проверить работоспособность алгоритма на \"Iris\". Сравните свой алгоритм кластеризации с алгоритмом из scikit-learn по времени выполнения, использую timeit. Ваша реализация не должна работать сильно дольше, а в идеале должна быть даже немного быстрее.\n",
    "\n",
    "###### Задание 2 (2 балла)\n",
    "Выбрать, имплементировать и использовать критерий качества\n",
    "\n",
    "###### Задание 3 (3балла)\n",
    "Применить алгоритм кластеризации к данным по странам.   \n",
    "Подход следующий: фиксируем год, для каждой страны берём индикаторы по зафиксированному году, кластеризуем по индикаторам.   \n",
    "Разбиение должно быть объяснимым, в противном случае, скорее всего нужно лучше настроить параметры кластеризации.   \n",
    "Данные нужно скачать тут https://data.worldbank.org/data-catalog/world-development-indicators.   \n",
    "Также необходимо показать, какие страны попали в общий кластер.\n",
    "изуализировать результат с помощью T-SNE. Внимание! На полном объеме данных данный алгоритм может работать существенное время.\n",
    "\n",
    "###### Задание 4 (1 балл)\n",
    "Опишите в выводе почему и какие страны попали в общий кластер."
   ]
  },
  {
   "cell_type": "markdown",
   "metadata": {},
   "source": [
    "Основная задача этого задания - реализация одного из алгоритмов кластеризации. Кроме того, мы научимся подбирать параметры алгоритма, визуализируем результат кластеризации и попытаемся проанализировать природу полученных кластеров."
   ]
  },
  {
   "cell_type": "code",
   "execution_count": 1,
   "metadata": {},
   "outputs": [
    {
     "name": "stdout",
     "output_type": "stream",
     "text": [
      "Populating the interactive namespace from numpy and matplotlib\n"
     ]
    }
   ],
   "source": [
    "import pandas as pd\n",
    "import pylab as pl\n",
    "import numpy as np\n",
    "import scipy.spatial as ss\n",
    "import sklearn.cluster as sc\n",
    "import sklearn.manifold as sm\n",
    "import sklearn.datasets as ds\n",
    "import sklearn.metrics as smt\n",
    "\n",
    "import matplotlib.pyplot as plt\n",
    "#import mpl_toolkits.basemap as bm #Doesn't work correct.\n",
    "\n",
    "%matplotlib inline\n",
    "\n",
    "plt.style.use('ggplot')\n",
    "plt.rcParams['figure.figsize'] = (12,5)\n",
    "\n",
    "# Plotting config\n",
    "%pylab inline"
   ]
  },
  {
   "cell_type": "markdown",
   "metadata": {},
   "source": [
    "## Реализация алгоритма"
   ]
  },
  {
   "cell_type": "markdown",
   "metadata": {},
   "source": [
    "Алгоритм кластеризации, который необходимо реализовать, выбирается на основании Вашего порядкового номера в списке группы."
   ]
  },
  {
   "cell_type": "markdown",
   "metadata": {},
   "source": [
    "1. Авилова Екатерина\n",
    "2. Адаменко Павел\n",
    "3. Акиньщиков Алексей\n",
    "4. Афанасьева Анастасия\n",
    "5. Балес Александр\n",
    "6. Беляев Владимир\n",
    "7. Беспалова Анастасия\n",
    "8. Богомолов Эмиль\n",
    "9. Боднарюк Василий\n",
    "10. Бучкин Александр\n",
    "11. Валинуров Денис\n",
    "12. Волков Глеб\n",
    "13. Голенков Кирилл\n",
    "14. Горбушин Михаил\n",
    "15. Димов Илья\n",
    "16. Докшина Елизавета\n",
    "17. Дорожинский Владислав\n",
    "18. Жирнов Михаил\n",
    "19. Жолковский Евгений\n",
    "20. Зайдель Петр\n",
    "21. Зимнюков Максим\n",
    "22. Иванов Илья\n",
    "23. Кашипов Артем\n",
    "24. Комов Евгений\n",
    "25. Кошман Дима\n",
    "26. Кузнецова Екатерина\n",
    "27. Кулагин Алексей\n",
    "28. Лавреновъ Виталiй\n",
    "29. Лебедь Федор\n",
    "30. Лешков Михаил\n",
    "31. Лозинский Иван\n",
    "32. Лоскутов Антон\n",
    "33. Лютов Владимир\n",
    "34. Мажаров Иван\n",
    "35. Манкевич Павел\n",
    "36. Муравьев Никита\n",
    "37. Находнов Максим\n",
    "38. Оплачко Николай\n",
    "39. Павлов Евгений\n",
    "40. Петряйкин Федор\n",
    "41. Рахматуллин Фарид\n",
    "42. Секретарев Тихон\n",
    "43. Сенюшкин Дмитрий\n",
    "44. Серов Николай\n",
    "45. Смирнов Александр\n",
    "46. Соловьев Павел\n",
    "47. Сомов Иван\n",
    "48. Спиркин Роман\n",
    "49. Терёшина Мария\n",
    "50. Торбунова Екатерина\n",
    "51. Тюгаев Антон\n",
    "52. Фельдман Борис\n",
    "53. Филин Максим\n",
    "54. Фролов Михаил\n",
    "55. Хохлов Олег\n",
    "56. Черемнов Андрей\n",
    "57. Шевцов Антон\n",
    "58. Шурыгин Александр"
   ]
  },
  {
   "cell_type": "code",
   "execution_count": 2,
   "metadata": {},
   "outputs": [],
   "source": [
    "N = 37 # put your index here"
   ]
  },
  {
   "cell_type": "code",
   "execution_count": 3,
   "metadata": {},
   "outputs": [
    {
     "name": "stdout",
     "output_type": "stream",
     "text": [
      "Реализуем алгоритм кластеризации 'Hierarchical clustering с поддержкой single-linkage, complete-linkage, average-linkage (параметры - k, linkage)'\n"
     ]
    }
   ],
   "source": [
    "algorithms = [\n",
    "    u\"Gaussian Mixture Model с использованием maximum a-posteriori для выбора кластера (параметр - k)\",\n",
    "    u\"Hierarchical clustering с поддержкой single-linkage, complete-linkage, average-linkage (параметры - k, linkage)\",\n",
    "    u\"DBSCAN. (параметры - epsilon, min_pts)\"\n",
    "]\n",
    "\n",
    "my_algorithm = algorithms[N % len(algorithms)]\n",
    "print u\"Реализуем алгоритм кластеризации '%s'\" % my_algorithm"
   ]
  },
  {
   "cell_type": "markdown",
   "metadata": {},
   "source": [
    "Алгоритм кластеризации должен удовлетворять следующему интерфейсу. Конструктор принимает набор параметров, необходимых для работы алгоритма кластеризации. Метод `fit` подсчитывает параметры модели и возвращает `self`. Метод `predict` возвращает вектор с индексами кластеров для поданных в него объектов `x`"
   ]
  },
  {
   "cell_type": "code",
   "execution_count": 185,
   "metadata": {},
   "outputs": [],
   "source": [
    "## Задание 1\n",
    "from sklearn.base import BaseEstimator, ClusterMixin\n",
    "\n",
    "class Clustering(BaseEstimator, ClusterMixin):\n",
    "    \"\"\"\n",
    "    Implement clustering algorithm according \n",
    "    \"\"\"\n",
    "    \n",
    "    #There and everywhere then the euclidian distance is used as a metrics\n",
    "    def single_linkage(self, C1, C2, X):\n",
    "        if C1 == C2:\n",
    "            return np.inf\n",
    "        labels = self.get_labels()\n",
    "        ind1 = (labels == C1)\n",
    "        ind2 = (labels == C2)\n",
    "        if X[ind1].shape[0] == 0 or X[ind2].shape[0] == 0:\n",
    "            return np.inf\n",
    "        return np.square(X[ind1, np.newaxis, :] - X[ind2]).sum(axis=2).min()**(1.0/2)\n",
    "    \n",
    "    def complete_linkage(self, C1, C2, X):\n",
    "        if C1 == C2:\n",
    "            return np.inf\n",
    "        labels = self.get_labels()\n",
    "        ind1 = (labels == C1)\n",
    "        ind2 = (labels == C2)\n",
    "        if X[ind1].shape[0] == 0 or X[ind2].shape[0] == 0:\n",
    "            return np.inf\n",
    "        return np.square(X[ind1, np.newaxis, :] - X[ind2]).sum(axis=2).max()**(1.0/2)\n",
    "        \n",
    "    def average_linkage(self, C1, C2, X):\n",
    "        if C1 == C2:\n",
    "            return np.inf\n",
    "        labels = self.get_labels()\n",
    "        ind1 = (labels == C1)\n",
    "        ind2 = (labels == C2)\n",
    "        if X[ind1].shape[0] == 0 or X[ind2].shape[0] == 0:\n",
    "            return np.inf\n",
    "        dist_sum = np.sqrt(np.square(X[ind1, np.newaxis, :] - X[ind2]).sum(axis=2)).sum()\n",
    "        return dist_sum / X[ind1].shape[0] / X[ind2].shape[0]\n",
    "    \n",
    "    def get_labels(self):\n",
    "        return self.labels_seq[self.layer - 1]\n",
    "                       \n",
    "    def get_least_clusters(self):\n",
    "        tmp = self.dist.argmin()\n",
    "        return tmp / self.dist.shape[0], tmp % self.dist.shape[0]\n",
    "    \n",
    "    def fix_dist(self, C1, C2, X):\n",
    "        self.dist[C2, :] = self.dist[:, C2] = np.inf\n",
    "        self.dist[:, C1] = self.dist[C1, :] = np.apply_along_axis(\\\n",
    "                                                self.linkage, 0,\\\n",
    "                                                np.array([x for x in xrange(0, X.shape[0])]).reshape(1, -1),\\\n",
    "                                                C1, X)\n",
    "        \n",
    "    def __init__(self, **kwargs):\n",
    "        \"\"\"\n",
    "        Please add necessary algoritm parameters to class constructor.\n",
    "        \"\"\"\n",
    "        if kwargs['linkage'] == 'single-linkage':\n",
    "            self.linkage = self.single_linkage\n",
    "        elif kwargs['linkage'] == 'complete-linkage':\n",
    "            self.linkage = self.complete_linkage\n",
    "        elif kwargs['linkage'] == 'average-linkage':\n",
    "            self.linkage = self.average_linkage\n",
    "        else:\n",
    "            self.linkage = self.single_linkage\n",
    "            \n",
    "        self.k = kwargs['k']\n",
    "        \n",
    "        self.layer = 1\n",
    "        \n",
    "        \n",
    "        return\n",
    "        \n",
    "    def fit(self, X, y=None):\n",
    "        \"\"\"\n",
    "        Use data matrix x to compute model parameters\n",
    "        \"\"\"\n",
    "        self.labels_seq = np.empty([X.shape[0] - self.k + 1, X.shape[0]], dtype=np.int)\n",
    "        \n",
    "        self.labels_seq[0] = [x for x in xrange(0, X.shape[0])]\n",
    "        \n",
    "        self.dist = np.empty([X.shape[0], X.shape[0]], dtype=np.float)\n",
    "        \n",
    "        \n",
    "        self.dist = ss.distance.cdist(XA=X, XB=X, metric='euclidean')\n",
    "        \n",
    "        for x in xrange(0, X.shape[0]):\n",
    "            self.dist[x][x] = np.inf\n",
    "        \n",
    "        for ind in xrange(1, X.shape[0] - self.k + 1):\n",
    "            C1, C2 = self.get_least_clusters()\n",
    "            C1, C2 = min(C1, C2), max(C1, C2)\n",
    "            self.labels_seq[ind] = self.labels_seq[ind - 1]\n",
    "            self.labels_seq[ind, self.labels_seq[ind] == C2] = C1\n",
    "            self.layer += 1\n",
    "            self.fix_dist(C1, C2, X)\n",
    "        \n",
    "        return self\n",
    "    \n",
    "    def predict(self, X):\n",
    "        #return labels for dividion into self.k clusters\n",
    "        return self.labels_seq[X.shape[0] - self.k]\n",
    "    \n",
    "    def fit_predict(self, X, y=None):\n",
    "        self.fit(X, y)\n",
    "        return self.predict(X)"
   ]
  },
  {
   "cell_type": "markdown",
   "metadata": {},
   "source": [
    "Сначала проверим реализованный алгоритм кластеризации на классическом наборе данных [Iris](http://www.wikiwand.com/en/Iris_flower_data_set). Загрузим данные (они включены в библиотеку sklearn) и посмотрим на то, как они выглядят в двух проекциях (для простоты используем 2 класса из 3)."
   ]
  },
  {
   "cell_type": "code",
   "execution_count": 186,
   "metadata": {},
   "outputs": [
    {
     "data": {
      "image/png": "[encoded data removed]",
      "text/plain": [
       "<matplotlib.figure.Figure at 0x7f48d4c4bed0>"
      ]
     },
     "metadata": {},
     "output_type": "display_data"
    }
   ],
   "source": [
    "iris = ds.load_iris()\n",
    "x_iris = iris.data[:100]\n",
    "y_iris = iris.target[:100]\n",
    "\n",
    "pl.figure(figsize=(10, 5))\n",
    "\n",
    "pl.subplot(1, 2, 1)\n",
    "pl.scatter(x_iris[:, 0], x_iris[:, 1], c=y_iris, cmap=pl.cm.PuOr, lw=0, s=30)\n",
    "plt.xlabel('Sepal length')\n",
    "plt.ylabel('Sepal width')\n",
    "\n",
    "pl.subplot(1, 2, 2)\n",
    "pl.scatter(x_iris[:, 2], x_iris[:, 3], c=y_iris, cmap=pl.cm.PuOr, lw=0, s=30)\n",
    "plt.xlabel('Petal length')\n",
    "plt.ylabel('Petal width')\n",
    "pl.show()"
   ]
  },
  {
   "cell_type": "markdown",
   "metadata": {},
   "source": [
    "Видно, что классы разделяются, поэтому можно надеяться, что наш алгоритм \"найдет\" кластеры, соответствующие исходным классам. Результат работы реализованного алгоритма кластеризации предлагается сравнить с эталонной кластеризацией. Для этого предлагается изучить метрику ([adjusted rand score](http://scikit-learn.org/stable/modules/generated/sklearn.metrics.adjusted_rand_score.html)). В случае если значение этой метрики отличается от 1, предлагается поработать над улучшением реализации своего алгоритма."
   ]
  },
  {
   "cell_type": "code",
   "execution_count": 187,
   "metadata": {},
   "outputs": [],
   "source": [
    "from sklearn.cluster import AgglomerativeClustering"
   ]
  },
  {
   "cell_type": "code",
   "execution_count": 188,
   "metadata": {},
   "outputs": [
    {
     "name": "stdout",
     "output_type": "stream",
     "text": [
      "Adjusted Rand index for iris is: 1.00\n"
     ]
    }
   ],
   "source": [
    "pred_iris = Clustering(linkage='average-linkage', k=2)\n",
    "res = pred_iris.fit_predict(x_iris)\n",
    "print \"Adjusted Rand index for iris is: %.2f\" % smt.adjusted_rand_score(y_iris, res)"
   ]
  },
  {
   "cell_type": "code",
   "execution_count": 195,
   "metadata": {},
   "outputs": [
    {
     "name": "stdout",
     "output_type": "stream",
     "text": [
      "1 loop, best of 3: 353 ms per loop\n"
     ]
    }
   ],
   "source": [
    "%%timeit\n",
    "pred_iris = Clustering(linkage='average-linkage', k=2)\n",
    "res = pred_iris.fit_predict(x_iris)"
   ]
  },
  {
   "cell_type": "code",
   "execution_count": 198,
   "metadata": {},
   "outputs": [],
   "source": [
    "# from line_profiler import LineProfiler\n",
    "\n",
    "# profiler.add_function(pred_iris.fit_predict)\n",
    "# profiler.add_function(pred_iris.average_linkage)\n",
    "# profiler.add_function(pred_iris.fix_dist)\n",
    "# profiler.add_function(pred_iris.fit)\n",
    "# profiler.runcall(pred_iris.fit_predict, x_iris)\n",
    "# profiler.print_stats()"
   ]
  },
  {
   "cell_type": "code",
   "execution_count": 156,
   "metadata": {},
   "outputs": [
    {
     "name": "stdout",
     "output_type": "stream",
     "text": [
      "1000 loops, best of 3: 818 µs per loop\n"
     ]
    }
   ],
   "source": [
    "%%timeit\n",
    "pred_iris_skl = AgglomerativeClustering(linkage='average', n_clusters=2)\n",
    "res_skl = pred_iris_skl.fit_predict(x_iris)"
   ]
  },
  {
   "cell_type": "markdown",
   "metadata": {},
   "source": [
    "Выбрать и реализовать критерий качества, на основании которого будут подбираться параметры модели. Варианты критериев:\n",
    "- Инерция (сумма квадратов расстояний от каждой из точек до ближайшего к этой точке центроида)\n",
    "- Средний диаметр (максимальное расстояние между точками в кластере) или радиус (расстояние от центроида до самой дальней от него точки в кластере)\n",
    "- Sihouette\n",
    "\n",
    "**Критерий качества необходимо выбрать таким образом, чтобы он подходил для реализованного алгоритма**"
   ]
  },
  {
   "cell_type": "code",
   "execution_count": 157,
   "metadata": {},
   "outputs": [],
   "source": [
    "## Задание 2\n",
    "def silhouette(x, y, i, Ck):\n",
    "    ai = np.apply_along_axis(np.linalg.norm, 1, x[y == Ck] - x[i]).sum() / x[y == Ck].shape[0]\n",
    "    bi = np.inf\n",
    "    for t in np.unique(y):\n",
    "        if t != Ck and x[y == t].shape[0]:\n",
    "            tmp = np.apply_along_axis(np.linalg.norm, 1, x[y == t] - x[i]).sum() / x[y == t].shape[0]\n",
    "            if tmp < bi:\n",
    "                bi = tmp\n",
    "    return (bi - ai) / max(ai, bi)\n",
    "\n",
    "def quality(x, y, method):\n",
    "    \"\"\"\n",
    "    Implement quality criterion of your choice\n",
    "    \"\"\"\n",
    "    #radius\n",
    "    if method == 'silhouette':\n",
    "        silh = 0.0\n",
    "        for i in xrange(0, x.shape[0]):\n",
    "            silh += silhouette(x, y, i, y[i])\n",
    "        return silh / x.shape[0]\n",
    "    elif method == 'radius':\n",
    "        rds_sum = 0.0\n",
    "        num = 0\n",
    "        for i in xrange(0, x.shape[0]):\n",
    "            if x[y == i].shape[0]:\n",
    "                cnt = x[y == i].sum(axis=0) / x[y == i].shape[0]\n",
    "                rds_sum += np.apply_along_axis(np.linalg.norm, 1, x[y == i] - cnt).max()\n",
    "                num += 1\n",
    "        return rds_sum / num\n",
    "    else:\n",
    "        return 0.51"
   ]
  },
  {
   "cell_type": "markdown",
   "metadata": {},
   "source": [
    "Применим критерий для выбора параметров алгоритма. Предлагается изменить следующий код таким образом, чтобы кластеризация вызывалась с верным набором параметров. На графике можно будет увидеть зависимость критерия от параметров алгоритма. Необходимо выбрать оптимальные значения этих параметров."
   ]
  },
  {
   "cell_type": "code",
   "execution_count": 158,
   "metadata": {},
   "outputs": [],
   "source": [
    "from sklearn.metrics import silhouette_score"
   ]
  },
  {
   "cell_type": "code",
   "execution_count": 159,
   "metadata": {},
   "outputs": [
    {
     "data": {
      "image/png": "[encoded data removed]",
      "text/plain": [
       "<matplotlib.figure.Figure at 0x7f48d5a9ff50>"
      ]
     },
     "metadata": {},
     "output_type": "display_data"
    }
   ],
   "source": [
    "ks = range(2, 21)\n",
    "criteria = np.zeros(len(ks))\n",
    "criteria1 = np.zeros(len(ks))\n",
    "\n",
    "for i, k in enumerate(ks):\n",
    "    cls = Clustering(linkage='complete-linkage', k=k)\n",
    "    y = cls.fit_predict(x_iris)\n",
    "    criteria[i] = quality(x_iris, y, 'silhouette')\n",
    "    \n",
    "pl.figure(figsize=(8, 6))\n",
    "pl.plot(ks, criteria)\n",
    "pl.title(\"$J(k)$\")\n",
    "pl.ylabel(\"Criteria $J$\")\n",
    "pl.xlabel(\"Number of clusters $k$\")\n",
    "pl.grid()\n",
    "pl.show()"
   ]
  },
  {
   "cell_type": "code",
   "execution_count": 160,
   "metadata": {},
   "outputs": [],
   "source": [
    "## Задание 3\n",
    "countries = pd.read_csv('WDIData.csv')"
   ]
  },
  {
   "cell_type": "code",
   "execution_count": 161,
   "metadata": {},
   "outputs": [],
   "source": [
    "tmp1 = countries.drop(['Country Name', 'Country Code', 'Indicator Name', 'Indicator Code'], axis=1)"
   ]
  },
  {
   "cell_type": "code",
   "execution_count": 162,
   "metadata": {},
   "outputs": [],
   "source": [
    "tmp2 = tmp1['2008'].fillna(tmp1.mean(axis=1))"
   ]
  },
  {
   "cell_type": "code",
   "execution_count": 163,
   "metadata": {},
   "outputs": [],
   "source": [
    "countries['2008'] = tmp2"
   ]
  },
  {
   "cell_type": "code",
   "execution_count": 164,
   "metadata": {},
   "outputs": [],
   "source": [
    "countries_2008 = countries[['Country Code', '2008']]"
   ]
  },
  {
   "cell_type": "code",
   "execution_count": 165,
   "metadata": {},
   "outputs": [],
   "source": [
    "country_codes = np.array(countries_2008['Country Code'].unique())\n",
    "code_to_name = dict(countries[['Country Code', 'Country Name']].drop_duplicates().values)"
   ]
  },
  {
   "cell_type": "code",
   "execution_count": 166,
   "metadata": {},
   "outputs": [],
   "source": [
    "country_data = np.empty([country_codes.shape[0], countries.shape[0] / country_codes.shape[0]], np.float)\n",
    "country_data_no_nan = np.empty([country_codes.shape[0], countries.shape[0] / country_codes.shape[0]], np.float)\n",
    "country_data_no_nan_non_norm = np.empty([country_codes.shape[0], countries.shape[0] / country_codes.shape[0]], np.float)"
   ]
  },
  {
   "cell_type": "code",
   "execution_count": 167,
   "metadata": {},
   "outputs": [],
   "source": [
    "for ind, name in enumerate(country_codes):\n",
    "    country_data[ind] = countries_2008[countries_2008['Country Code'] == name]['2008'].values"
   ]
  },
  {
   "cell_type": "code",
   "execution_count": 168,
   "metadata": {},
   "outputs": [],
   "source": [
    "col_mean = np.nanmean(country_data,axis=0)\n",
    "inds = np.where(np.isnan(country_data))\n",
    "country_data_no_nan_non_norm[inds]=np.take(col_mean,inds[1])"
   ]
  },
  {
   "cell_type": "code",
   "execution_count": 169,
   "metadata": {},
   "outputs": [],
   "source": [
    "country_data_no_nan_non_norm_std_dev = country_data_no_nan_non_norm.std(axis=0)\n",
    "country_data_no_nan_non_norm_std_dev[country_data_no_nan_non_norm_std_dev == 0] = 1\n",
    "country_data_no_nan = (country_data_no_nan_non_norm - country_data_no_nan_non_norm.mean(axis=0)) / country_data_no_nan_non_norm_std_dev"
   ]
  },
  {
   "cell_type": "code",
   "execution_count": 174,
   "metadata": {},
   "outputs": [
    {
     "data": {
      "image/png": "[encoded data removed]",
      "text/plain": [
       "<matplotlib.figure.Figure at 0x7f48d5cc19d0>"
      ]
     },
     "metadata": {},
     "output_type": "display_data"
    }
   ],
   "source": [
    "ks = range(2, 20)\n",
    "criteria = np.zeros(len(ks))\n",
    "\n",
    "for i, k in enumerate(ks):\n",
    "    cls = AgglomerativeClustering(n_clusters=k, linkage='complete')\n",
    "    y = cls.fit_predict(country_data_no_nan)\n",
    "    criteria[i] = quality(country_data_no_nan, y, 'silhouette')\n",
    "    \n",
    "pl.figure(figsize=(8, 6))\n",
    "pl.plot(ks, criteria)\n",
    "pl.title(\"$J(k)$\")\n",
    "pl.ylabel(\"Criteria $J$\")\n",
    "pl.xlabel(\"Number of clusters $k$\")\n",
    "pl.grid()\n",
    "pl.show()"
   ]
  },
  {
   "cell_type": "code",
   "execution_count": 175,
   "metadata": {},
   "outputs": [],
   "source": [
    "num_countries_clust = 14"
   ]
  },
  {
   "cell_type": "code",
   "execution_count": 176,
   "metadata": {},
   "outputs": [],
   "source": [
    "countr_clust = Clustering(linkage='complete-linkage', k=num_countries_clust)\n",
    "countr_res = countr_clust.fit_predict(country_data_no_nan)"
   ]
  },
  {
   "cell_type": "code",
   "execution_count": 177,
   "metadata": {},
   "outputs": [],
   "source": [
    "countr_clust_skl = AgglomerativeClustering(n_clusters=num_countries_clust, linkage='complete')\n",
    "countr_res_skl = countr_clust_skl.fit_predict(country_data_no_nan)"
   ]
  },
  {
   "cell_type": "code",
   "execution_count": 178,
   "metadata": {},
   "outputs": [
    {
     "data": {
      "text/plain": [
       "1.0"
      ]
     },
     "execution_count": 178,
     "metadata": {},
     "output_type": "execute_result"
    }
   ],
   "source": [
    "smt.adjusted_rand_score(countr_res, countr_res_skl)"
   ]
  },
  {
   "cell_type": "code",
   "execution_count": 179,
   "metadata": {},
   "outputs": [],
   "source": [
    "clusters = np.empty([num_countries_clust], dtype=np.object)"
   ]
  },
  {
   "cell_type": "code",
   "execution_count": 180,
   "metadata": {},
   "outputs": [],
   "source": [
    "for ind, label in enumerate(np.unique(countr_res)):\n",
    "    clusters[ind] = country_codes[countr_res == label]"
   ]
  },
  {
   "cell_type": "code",
   "execution_count": 181,
   "metadata": {},
   "outputs": [
    {
     "name": "stdout",
     "output_type": "stream",
     "text": [
      "####################\n",
      "Cluster  1\n",
      "Arab World\n",
      "Caribbean small states\n",
      "Central Europe and the Baltics\n",
      "Early-demographic dividend\n",
      "East Asia & Pacific\n",
      "East Asia & Pacific (excluding high income)\n",
      "East Asia & Pacific (IDA & IBRD countries)\n",
      "Euro area\n",
      "Europe & Central Asia\n",
      "Europe & Central Asia (excluding high income)\n",
      "Europe & Central Asia (IDA & IBRD countries)\n",
      "European Union\n",
      "Fragile and conflict affected situations\n",
      "Heavily indebted poor countries (HIPC)\n",
      "High income\n",
      "IBRD only\n",
      "IDA & IBRD total\n",
      "IDA blend\n",
      "IDA only\n",
      "IDA total\n",
      "Late-demographic dividend\n",
      "Latin America & Caribbean\n",
      "Latin America & Caribbean (excluding high income)\n",
      "Latin America & the Caribbean (IDA & IBRD countries)\n",
      "Least developed countries: UN classification\n",
      "Low & middle income\n",
      "Low income\n",
      "Lower middle income\n",
      "Middle East & North Africa\n",
      "Middle East & North Africa (excluding high income)\n",
      "Middle East & North Africa (IDA & IBRD countries)\n",
      "Middle income\n",
      "North America\n",
      "OECD members\n",
      "Other small states\n",
      "Pacific island small states\n",
      "Post-demographic dividend\n",
      "Pre-demographic dividend\n",
      "Small states\n",
      "South Asia\n",
      "South Asia (IDA & IBRD)\n",
      "Sub-Saharan Africa\n",
      "Sub-Saharan Africa (excluding high income)\n",
      "Sub-Saharan Africa (IDA & IBRD countries)\n",
      "Upper middle income\n",
      "World\n",
      "####################\n",
      "####################\n",
      "Cluster  2\n",
      "Not classified\n",
      "####################\n",
      "####################\n",
      "Cluster  3\n",
      "Afghanistan\n",
      "Albania\n",
      "Algeria\n",
      "Angola\n",
      "Argentina\n",
      "Armenia\n",
      "Azerbaijan\n",
      "Bangladesh\n",
      "Belarus\n",
      "Belize\n",
      "Benin\n",
      "Bhutan\n",
      "Bolivia\n",
      "Bosnia and Herzegovina\n",
      "Botswana\n",
      "Brazil\n",
      "Bulgaria\n",
      "Burkina Faso\n",
      "Burundi\n",
      "Cabo Verde\n",
      "Cambodia\n",
      "Cameroon\n",
      "Central African Republic\n",
      "Chad\n",
      "China\n",
      "Colombia\n",
      "Comoros\n",
      "Congo, Dem. Rep.\n",
      "Congo, Rep.\n",
      "Costa Rica\n",
      "Cote d'Ivoire\n",
      "Djibouti\n",
      "Dominican Republic\n",
      "Ecuador\n",
      "Egypt, Arab Rep.\n",
      "El Salvador\n",
      "Eritrea\n",
      "Ethiopia\n",
      "Fiji\n",
      "Gabon\n",
      "Gambia, The\n",
      "Georgia\n",
      "Ghana\n",
      "Grenada\n",
      "Guatemala\n",
      "Guinea\n",
      "Guinea-Bissau\n",
      "Guyana\n",
      "Haiti\n",
      "Honduras\n",
      "India\n",
      "Indonesia\n",
      "Iran, Islamic Rep.\n",
      "Jamaica\n",
      "Jordan\n",
      "Kazakhstan\n",
      "Kenya\n",
      "Kyrgyz Republic\n",
      "Lao PDR\n",
      "Lebanon\n",
      "Lesotho\n",
      "Liberia\n",
      "Macedonia, FYR\n",
      "Madagascar\n",
      "Malawi\n",
      "Malaysia\n",
      "Maldives\n",
      "Mali\n",
      "Mauritania\n",
      "Mauritius\n",
      "Mexico\n",
      "Moldova\n",
      "Mongolia\n",
      "Montenegro\n",
      "Morocco\n",
      "Mozambique\n",
      "Myanmar\n",
      "Nepal\n",
      "Nicaragua\n",
      "Niger\n",
      "Nigeria\n",
      "Pakistan\n",
      "Panama\n",
      "Papua New Guinea\n",
      "Paraguay\n",
      "Peru\n",
      "Philippines\n",
      "Romania\n",
      "Russian Federation\n",
      "Rwanda\n",
      "Samoa\n",
      "Sao Tome and Principe\n",
      "Senegal\n",
      "Serbia\n",
      "Sierra Leone\n",
      "Solomon Islands\n",
      "South Africa\n",
      "Sri Lanka\n",
      "St. Lucia\n",
      "St. Vincent and the Grenadines\n",
      "Sudan\n",
      "Swaziland\n",
      "Syrian Arab Republic\n",
      "Tajikistan\n",
      "Tanzania\n",
      "Thailand\n",
      "Togo\n",
      "Tonga\n",
      "Tunisia\n",
      "Turkey\n",
      "Uganda\n",
      "Ukraine\n",
      "Vanuatu\n",
      "Venezuela, RB\n",
      "Vietnam\n",
      "Yemen, Rep.\n",
      "Zambia\n",
      "Zimbabwe\n",
      "####################\n",
      "####################\n",
      "Cluster  4\n",
      "American Samoa\n",
      "British Virgin Islands\n",
      "Cayman Islands\n",
      "Faroe Islands\n",
      "Gibraltar\n",
      "Greenland\n",
      "Northern Mariana Islands\n",
      "Turks and Caicos Islands\n",
      "####################\n",
      "####################\n",
      "Cluster  5\n",
      "Andorra\n",
      "Liechtenstein\n",
      "Monaco\n",
      "Nauru\n",
      "San Marino\n",
      "####################\n",
      "####################\n",
      "Cluster  6\n",
      "Antigua and Barbuda\n",
      "Australia\n",
      "Austria\n",
      "Bahamas, The\n",
      "Bahrain\n",
      "Barbados\n",
      "Belgium\n",
      "Brunei Darussalam\n",
      "Canada\n",
      "Chile\n",
      "Croatia\n",
      "Cyprus\n",
      "Czech Republic\n",
      "Denmark\n",
      "Equatorial Guinea\n",
      "Estonia\n",
      "Finland\n",
      "France\n",
      "Germany\n",
      "Greece\n",
      "Hong Kong SAR, China\n",
      "Hungary\n",
      "Iceland\n",
      "Iraq\n",
      "Ireland\n",
      "Israel\n",
      "Italy\n",
      "Japan\n",
      "Korea, Rep.\n",
      "Kuwait\n",
      "Latvia\n",
      "Libya\n",
      "Lithuania\n",
      "Luxembourg\n",
      "Malta\n",
      "Namibia\n",
      "Netherlands\n",
      "New Zealand\n",
      "Norway\n",
      "Oman\n",
      "Poland\n",
      "Portugal\n",
      "Qatar\n",
      "Saudi Arabia\n",
      "Seychelles\n",
      "Singapore\n",
      "Slovak Republic\n",
      "Slovenia\n",
      "Spain\n",
      "Suriname\n",
      "Sweden\n",
      "Switzerland\n",
      "Timor-Leste\n",
      "Trinidad and Tobago\n",
      "United Kingdom\n",
      "United States\n",
      "Uruguay\n",
      "West Bank and Gaza\n",
      "####################\n",
      "####################\n",
      "Cluster  7\n",
      "Aruba\n",
      "Bermuda\n",
      "Macao SAR, China\n",
      "####################\n",
      "####################\n",
      "Cluster  8\n",
      "Channel Islands\n",
      "Curacao\n",
      "Isle of Man\n",
      "Sint Maarten (Dutch part)\n",
      "St. Martin (French part)\n",
      "####################\n",
      "####################\n",
      "Cluster  9\n",
      "Cuba\n",
      "Puerto Rico\n",
      "United Arab Emirates\n",
      "####################\n",
      "####################\n",
      "Cluster  10\n",
      "Dominica\n",
      "Marshall Islands\n",
      "Palau\n",
      "St. Kitts and Nevis\n",
      "Tuvalu\n",
      "####################\n",
      "####################\n",
      "Cluster  11\n",
      "French Polynesia\n",
      "Guam\n",
      "Korea, Dem. People’s Rep.\n",
      "New Caledonia\n",
      "Virgin Islands (U.S.)\n",
      "####################\n",
      "####################\n",
      "Cluster  12\n",
      "Kiribati\n",
      "Micronesia, Fed. Sts.\n",
      "South Sudan\n",
      "####################\n",
      "####################\n",
      "Cluster  13\n",
      "Kosovo\n",
      "####################\n",
      "####################\n",
      "Cluster  14\n",
      "Somalia\n",
      "Turkmenistan\n",
      "Uzbekistan\n",
      "####################\n"
     ]
    }
   ],
   "source": [
    "for ind, label in enumerate(clusters):\n",
    "    print '####################'\n",
    "    print 'Cluster ', ind + 1\n",
    "    for code in clusters[ind]:\n",
    "        print code_to_name[code]\n",
    "    print '####################'"
   ]
  },
  {
   "cell_type": "code",
   "execution_count": 182,
   "metadata": {},
   "outputs": [],
   "source": [
    "from sklearn.decomposition import TruncatedSVD\n",
    "from sklearn.manifold import TSNE\n",
    "\n",
    "X_reduced = TruncatedSVD(n_components=264, random_state=0).fit_transform(country_data_no_nan)"
   ]
  },
  {
   "cell_type": "code",
   "execution_count": 183,
   "metadata": {},
   "outputs": [
    {
     "name": "stdout",
     "output_type": "stream",
     "text": [
      "[t-SNE] Computing 121 nearest neighbors...\n",
      "[t-SNE] Indexed 264 samples in 0.004s...\n",
      "[t-SNE] Computed neighbors for 264 samples in 0.048s...\n",
      "[t-SNE] Computed conditional probabilities for sample 264 / 264\n",
      "[t-SNE] Mean sigma: 8.444528\n",
      "[t-SNE] Computed conditional probabilities in 0.048s\n",
      "[t-SNE] Iteration 50: error = 58.7068672, gradient norm = 0.4942710 (50 iterations in 0.477s)\n",
      "[t-SNE] Iteration 100: error = 58.2496338, gradient norm = 0.4936438 (50 iterations in 0.331s)\n",
      "[t-SNE] Iteration 150: error = 59.0798492, gradient norm = 0.5138700 (50 iterations in 0.718s)\n",
      "[t-SNE] Iteration 200: error = 59.2366753, gradient norm = 0.5072736 (50 iterations in 0.412s)\n",
      "[t-SNE] Iteration 250: error = 58.5589027, gradient norm = 0.5063213 (50 iterations in 0.410s)\n",
      "[t-SNE] KL divergence after 250 iterations with early exaggeration: 58.558903\n",
      "[t-SNE] Iteration 300: error = 0.4429127, gradient norm = 0.0133440 (50 iterations in 0.625s)\n",
      "[t-SNE] Iteration 350: error = 0.3970156, gradient norm = 0.0156785 (50 iterations in 0.363s)\n",
      "[t-SNE] Iteration 400: error = 0.3599465, gradient norm = 0.0144149 (50 iterations in 0.390s)\n",
      "[t-SNE] Iteration 450: error = 0.3201499, gradient norm = 0.0098336 (50 iterations in 0.301s)\n",
      "[t-SNE] Iteration 500: error = 0.3056313, gradient norm = 0.0149454 (50 iterations in 0.401s)\n",
      "[t-SNE] Iteration 550: error = 0.2978437, gradient norm = 0.0149273 (50 iterations in 0.352s)\n",
      "[t-SNE] Iteration 600: error = 0.3034081, gradient norm = 0.0147248 (50 iterations in 0.317s)\n",
      "[t-SNE] Iteration 650: error = 0.3001353, gradient norm = 0.0146465 (50 iterations in 0.422s)\n",
      "[t-SNE] Iteration 700: error = 0.2931314, gradient norm = 0.0111341 (50 iterations in 0.298s)\n",
      "[t-SNE] Iteration 750: error = 0.2912243, gradient norm = 0.0104446 (50 iterations in 0.303s)\n",
      "[t-SNE] Iteration 800: error = 0.2894031, gradient norm = 0.0106500 (50 iterations in 0.449s)\n",
      "[t-SNE] Iteration 850: error = 0.2917592, gradient norm = 0.0103124 (50 iterations in 0.453s)\n",
      "[t-SNE] Iteration 900: error = 0.2912053, gradient norm = 0.0103881 (50 iterations in 0.615s)\n",
      "[t-SNE] Iteration 950: error = 0.2891806, gradient norm = 0.0106740 (50 iterations in 0.484s)\n",
      "[t-SNE] Iteration 1000: error = 0.2921807, gradient norm = 0.0120612 (50 iterations in 0.454s)\n",
      "[t-SNE] Iteration 1050: error = 0.2907163, gradient norm = 0.0104071 (50 iterations in 0.309s)\n",
      "[t-SNE] Iteration 1100: error = 0.2886012, gradient norm = 0.0106327 (50 iterations in 0.327s)\n",
      "[t-SNE] Iteration 1150: error = 0.2916971, gradient norm = 0.0101120 (50 iterations in 0.423s)\n",
      "[t-SNE] Iteration 1200: error = 0.2907895, gradient norm = 0.0104158 (50 iterations in 0.319s)\n",
      "[t-SNE] Iteration 1250: error = 0.2884963, gradient norm = 0.0106090 (50 iterations in 0.288s)\n",
      "[t-SNE] Iteration 1300: error = 0.2923777, gradient norm = 0.0100360 (50 iterations in 0.387s)\n",
      "[t-SNE] Iteration 1350: error = 0.2912501, gradient norm = 0.0104005 (50 iterations in 0.284s)\n",
      "[t-SNE] Iteration 1400: error = 0.2895336, gradient norm = 0.0106524 (50 iterations in 0.288s)\n",
      "[t-SNE] Iteration 1450: error = 0.2921366, gradient norm = 0.0102357 (50 iterations in 0.411s)\n",
      "[t-SNE] Iteration 1500: error = 0.2912761, gradient norm = 0.0104234 (50 iterations in 0.292s)\n",
      "[t-SNE] Iteration 1550: error = 0.2897845, gradient norm = 0.0106364 (50 iterations in 0.301s)\n",
      "[t-SNE] Iteration 1600: error = 0.2919416, gradient norm = 0.0103006 (50 iterations in 0.414s)\n",
      "[t-SNE] Iteration 1600: did not make any progress during the last 300 episodes. Finished.\n",
      "[t-SNE] Error after 1600 iterations: 0.291942\n"
     ]
    }
   ],
   "source": [
    "X_embedded = TSNE(n_components=2, perplexity=40, verbose=2, n_iter=5000).fit_transform(X_reduced)"
   ]
  },
  {
   "cell_type": "code",
   "execution_count": 184,
   "metadata": {},
   "outputs": [
    {
     "data": {
      "text/plain": [
       "<matplotlib.collections.PathCollection at 0x7f48d4b58110>"
      ]
     },
     "execution_count": 184,
     "metadata": {},
     "output_type": "execute_result"
    },
    {
     "data": {
      "image/png": "[encoded data removed]",
      "text/plain": [
       "<matplotlib.figure.Figure at 0x7f48d5b7f2d0>"
      ]
     },
     "metadata": {},
     "output_type": "display_data"
    }
   ],
   "source": [
    "fig = figure(figsize=(10, 10))\n",
    "ax = axes(frameon=False)\n",
    "setp(ax, xticks=(), yticks=())\n",
    "subplots_adjust(left=0.0, bottom=0.0, right=1.0, top=0.9,\n",
    "                wspace=0.0, hspace=0.0)\n",
    "scatter(X_embedded[:, 0], X_embedded[:, 1],\n",
    "        c=countr_res_skl, marker=\"x\")"
   ]
  },
  {
   "cell_type": "markdown",
   "metadata": {},
   "source": [
    "## Задание 4  \n",
    "Можно заметить, что определились 2 крупные группы объектов:  \n",
    "   * **Cluster 6** - самые богатые и развитые страны (преимущественно европейские)  \n",
    "   * **Cluster 3** - \"развивающиеся\" страны, менее богатые, чем страны 6-го кластера  \n",
    "   \n",
    "Также определился кластер - **Cluster 2** - объект Not classified  \n",
    "\n",
    "Можно идентифицировать кластеры:  \n",
    "\n",
    "   * **Cluster 5** - страны-карлики  \n",
    "   * **Cluster 11** - самые отсталые/бедные страны  \n",
    "   * **Cluster 7, 8** - островные государства, являющиеся заморскими/отделёнными террирориями \"богатых\" стран  \n",
    "   * **Cluster 4, 9, 10, 12** - преимущественно островные государства, в основном, слабо развитые/бедные  \n",
    "   \n",
    "Выделяется, также, крупный кластер - **Cluster 1** - состоит, в основном, из усредрённых показателей по различным группам стран. Можно предположить, что этот кластер образовался, т.к. усреденние признаков по различным, заранее заданным параметрам, делает объекты, не похожими на отдельные страны."
   ]
  },
  {
   "cell_type": "markdown",
   "metadata": {},
   "source": [
    "Поздравляем, Вы завершили домашние задания по модулю \"Алгоритмы кластеризации\". Надеемся, что это было интересно."
   ]
  }
 ],
 "metadata": {
  "kernelspec": {
   "display_name": "Python 2",
   "language": "python",
   "name": "python2"
  },
  "language_info": {
   "codemirror_mode": {
    "name": "ipython",
    "version": 2
   },
   "file_extension": ".py",
   "mimetype": "text/x-python",
   "name": "python",
   "nbconvert_exporter": "python",
   "pygments_lexer": "ipython2",
   "version": "2.7.14"
  }
 },
 "nbformat": 4,
 "nbformat_minor": 1
}
