{
 "cells": [
  {
   "cell_type": "code",
   "execution_count": 666,
   "metadata": {},
   "outputs": [],
   "source": [
    "import numpy as np\n",
    "import pandas as pd\n",
    "from datetime import datetime, date, time\n",
    "from sklearn import preprocessing\n",
    "from sklearn.linear_model import LogisticRegression\n",
    "from sklearn.linear_model import SGDClassifier\n",
    "from sklearn.ensemble import RandomForestClassifier\n",
    "from sklearn.model_selection import train_test_split\n",
    "from sklearn.metrics import f1_score\n",
    "from sklearn.metrics import roc_auc_score\n",
    "from sklearn.decomposition import PCA\n",
    "import matplotlib as pl\n",
    "import seaborn as sb\n",
    "import math\n",
    "import copy\n",
    "import random\n",
    "import re"
   ]
  },
  {
   "cell_type": "code",
   "execution_count": 667,
   "metadata": {},
   "outputs": [],
   "source": [
    "data_np = pd.read_csv('data_new.csv')"
   ]
  },
  {
   "cell_type": "code",
   "execution_count": 668,
   "metadata": {},
   "outputs": [
    {
     "data": {
      "text/html": [
       "<div>\n",
       "<style scoped>\n",
       "    .dataframe tbody tr th:only-of-type {\n",
       "        vertical-align: middle;\n",
       "    }\n",
       "\n",
       "    .dataframe tbody tr th {\n",
       "        vertical-align: top;\n",
       "    }\n",
       "\n",
       "    .dataframe thead th {\n",
       "        text-align: right;\n",
       "    }\n",
       "</style>\n",
       "<table border=\"1\" class=\"dataframe\">\n",
       "  <thead>\n",
       "    <tr style=\"text-align: right;\">\n",
       "      <th></th>\n",
       "      <th>avatar</th>\n",
       "      <th>bdate</th>\n",
       "      <th>blog_last</th>\n",
       "      <th>blog_total</th>\n",
       "      <th>friends_num</th>\n",
       "      <th>given_negative_marks</th>\n",
       "      <th>given_positive_marks</th>\n",
       "      <th>got_negative_marks</th>\n",
       "      <th>got_positive_marks</th>\n",
       "      <th>last_visit</th>\n",
       "      <th>...</th>\n",
       "      <th>visits_num</th>\n",
       "      <th>Интересы</th>\n",
       "      <th>Конфигурация компьютера</th>\n",
       "      <th>Местоположение</th>\n",
       "      <th>О себе</th>\n",
       "      <th>Реальное имя</th>\n",
       "      <th>Специализация</th>\n",
       "      <th>Стаж работы</th>\n",
       "      <th>Чем занимаетесь</th>\n",
       "      <th>last_visit_new</th>\n",
       "    </tr>\n",
       "  </thead>\n",
       "  <tbody>\n",
       "    <tr>\n",
       "      <th>0</th>\n",
       "      <td>0.0</td>\n",
       "      <td>NaN</td>\n",
       "      <td>never</td>\n",
       "      <td>0.0</td>\n",
       "      <td>0.0</td>\n",
       "      <td>0.0</td>\n",
       "      <td>0.0</td>\n",
       "      <td>0.0</td>\n",
       "      <td>0.0</td>\n",
       "      <td>11.11.2017</td>\n",
       "      <td>...</td>\n",
       "      <td>5.0</td>\n",
       "      <td>NaN</td>\n",
       "      <td>NaN</td>\n",
       "      <td>NaN</td>\n",
       "      <td>NaN</td>\n",
       "      <td>NaN</td>\n",
       "      <td>NaN</td>\n",
       "      <td>NaN</td>\n",
       "      <td>NaN</td>\n",
       "      <td>16.11.2017</td>\n",
       "    </tr>\n",
       "    <tr>\n",
       "      <th>1</th>\n",
       "      <td>0.0</td>\n",
       "      <td>26 March 1998 (19)</td>\n",
       "      <td>never</td>\n",
       "      <td>0.0</td>\n",
       "      <td>0.0</td>\n",
       "      <td>0.0</td>\n",
       "      <td>18.0</td>\n",
       "      <td>0.0</td>\n",
       "      <td>0.0</td>\n",
       "      <td>12.11.2017</td>\n",
       "      <td>...</td>\n",
       "      <td>4.0</td>\n",
       "      <td>NaN</td>\n",
       "      <td>NaN</td>\n",
       "      <td>NaN</td>\n",
       "      <td>NaN</td>\n",
       "      <td>NaN</td>\n",
       "      <td>NaN</td>\n",
       "      <td>NaN</td>\n",
       "      <td>NaN</td>\n",
       "      <td>17.11.2017</td>\n",
       "    </tr>\n",
       "    <tr>\n",
       "      <th>2</th>\n",
       "      <td>0.0</td>\n",
       "      <td>17 February 1996 (21)</td>\n",
       "      <td>never</td>\n",
       "      <td>0.0</td>\n",
       "      <td>0.0</td>\n",
       "      <td>0.0</td>\n",
       "      <td>0.0</td>\n",
       "      <td>0.0</td>\n",
       "      <td>0.0</td>\n",
       "      <td>11.11.2017</td>\n",
       "      <td>...</td>\n",
       "      <td>4.0</td>\n",
       "      <td>NaN</td>\n",
       "      <td>NaN</td>\n",
       "      <td>NaN</td>\n",
       "      <td>NaN</td>\n",
       "      <td>NaN</td>\n",
       "      <td>NaN</td>\n",
       "      <td>NaN</td>\n",
       "      <td>NaN</td>\n",
       "      <td>15.11.2017</td>\n",
       "    </tr>\n",
       "    <tr>\n",
       "      <th>3</th>\n",
       "      <td>0.0</td>\n",
       "      <td>18 June 2001 (16)</td>\n",
       "      <td>never</td>\n",
       "      <td>0.0</td>\n",
       "      <td>0.0</td>\n",
       "      <td>0.0</td>\n",
       "      <td>0.0</td>\n",
       "      <td>0.0</td>\n",
       "      <td>0.0</td>\n",
       "      <td>11.11.2017</td>\n",
       "      <td>...</td>\n",
       "      <td>4.0</td>\n",
       "      <td>NaN</td>\n",
       "      <td>NaN</td>\n",
       "      <td>NaN</td>\n",
       "      <td>NaN</td>\n",
       "      <td>NaN</td>\n",
       "      <td>NaN</td>\n",
       "      <td>NaN</td>\n",
       "      <td>NaN</td>\n",
       "      <td>20.11.2017</td>\n",
       "    </tr>\n",
       "    <tr>\n",
       "      <th>4</th>\n",
       "      <td>1.0</td>\n",
       "      <td>10 January 1992 (25)</td>\n",
       "      <td>never</td>\n",
       "      <td>0.0</td>\n",
       "      <td>1.0</td>\n",
       "      <td>0.0</td>\n",
       "      <td>59.0</td>\n",
       "      <td>2.0</td>\n",
       "      <td>210.0</td>\n",
       "      <td>12.11.2017</td>\n",
       "      <td>...</td>\n",
       "      <td>214.0</td>\n",
       "      <td>NaN</td>\n",
       "      <td>NaN</td>\n",
       "      <td>NaN</td>\n",
       "      <td>NaN</td>\n",
       "      <td>NaN</td>\n",
       "      <td>NaN</td>\n",
       "      <td>NaN</td>\n",
       "      <td>NaN</td>\n",
       "      <td>20.11.2017</td>\n",
       "    </tr>\n",
       "  </tbody>\n",
       "</table>\n",
       "<p>5 rows × 27 columns</p>\n",
       "</div>"
      ],
      "text/plain": [
       "   avatar                  bdate blog_last  blog_total  friends_num  \\\n",
       "0     0.0                    NaN     never         0.0          0.0   \n",
       "1     0.0     26 March 1998 (19)     never         0.0          0.0   \n",
       "2     0.0  17 February 1996 (21)     never         0.0          0.0   \n",
       "3     0.0      18 June 2001 (16)     never         0.0          0.0   \n",
       "4     1.0   10 January 1992 (25)     never         0.0          1.0   \n",
       "\n",
       "   given_negative_marks  given_positive_marks  got_negative_marks  \\\n",
       "0                   0.0                   0.0                 0.0   \n",
       "1                   0.0                  18.0                 0.0   \n",
       "2                   0.0                   0.0                 0.0   \n",
       "3                   0.0                   0.0                 0.0   \n",
       "4                   0.0                  59.0                 2.0   \n",
       "\n",
       "   got_positive_marks  last_visit      ...        visits_num Интересы  \\\n",
       "0                 0.0  11.11.2017      ...               5.0      NaN   \n",
       "1                 0.0  12.11.2017      ...               4.0      NaN   \n",
       "2                 0.0  11.11.2017      ...               4.0      NaN   \n",
       "3                 0.0  11.11.2017      ...               4.0      NaN   \n",
       "4               210.0  12.11.2017      ...             214.0      NaN   \n",
       "\n",
       "  Конфигурация компьютера Местоположение  О себе Реальное имя Специализация  \\\n",
       "0                     NaN            NaN     NaN          NaN           NaN   \n",
       "1                     NaN            NaN     NaN          NaN           NaN   \n",
       "2                     NaN            NaN     NaN          NaN           NaN   \n",
       "3                     NaN            NaN     NaN          NaN           NaN   \n",
       "4                     NaN            NaN     NaN          NaN           NaN   \n",
       "\n",
       "   Стаж работы Чем занимаетесь last_visit_new  \n",
       "0          NaN             NaN     16.11.2017  \n",
       "1          NaN             NaN     17.11.2017  \n",
       "2          NaN             NaN     15.11.2017  \n",
       "3          NaN             NaN     20.11.2017  \n",
       "4          NaN             NaN     20.11.2017  \n",
       "\n",
       "[5 rows x 27 columns]"
      ]
     },
     "execution_count": 668,
     "metadata": {},
     "output_type": "execute_result"
    }
   ],
   "source": [
    "data_np.head()"
   ]
  },
  {
   "cell_type": "code",
   "execution_count": 732,
   "metadata": {},
   "outputs": [
    {
     "data": {
      "text/plain": [
       "Index([u'avatar', u'bdate', u'blog_last', u'blog_total', u'friends_num',\n",
       "       u'given_negative_marks', u'given_positive_marks', u'got_negative_marks',\n",
       "       u'got_positive_marks', u'msg_per_day', u'msg_total', u'rdate',\n",
       "       u'referrals', u'reputation', u'visits_num', u'Интересы',\n",
       "       u'Конфигурация компьютера', u'Местоположение', u'О себе',\n",
       "       u'Реальное имя', u'Специализация', u'Стаж работы', u'Чем занимаетесь'],\n",
       "      dtype='object')"
      ]
     },
     "execution_count": 732,
     "metadata": {},
     "output_type": "execute_result"
    }
   ],
   "source": [
    "data_np.columns"
   ]
  },
  {
   "cell_type": "code",
   "execution_count": 671,
   "metadata": {},
   "outputs": [],
   "source": [
    "# Разбираемся с датой рождения - преобразуем дату рождения в возраст"
   ]
  },
  {
   "cell_type": "code",
   "execution_count": 672,
   "metadata": {},
   "outputs": [],
   "source": [
    "def get_years(dt, missing='aver'):\n",
    "    tst_arr = np.array(dt.bdate.values, dtype=str)\n",
    "    left_br = np.char.find(tst_arr, '(')\n",
    "    right_br = np.char.find(tst_arr, ')')\n",
    "    right_br[right_br == -1] = 0\n",
    "    for ind in xrange(tst_arr.size):\n",
    "        tst_arr[ind] = tst_arr[ind][(left_br[ind] + 1):right_br[ind]]\n",
    "    tst_arr[tst_arr == ''] = '0'\n",
    "    tst_arr = tst_arr.astype(int)\n",
    "    if(missing == 'aver'):\n",
    "        tst_arr[tst_arr == 0] = np.average(tst_arr[tst_arr != 0])\n",
    "    elif(missing == 'med'):\n",
    "        tst_arr[tst_arr == 0] = np.median(tst_arr[tst_arr != 0])\n",
    "    else:\n",
    "        rnd_val = np.random.randint(0, 2, tst_arr.size)\n",
    "        tst_arr[tst_arr == 0] = np.average(tst_arr[tst_arr != 0]) * rnd_val + \\\n",
    "                                np.median(tst_arr[tst_arr != 0]) * (1 - rnd_val)\n",
    "    return tst_arr"
   ]
  },
  {
   "cell_type": "code",
   "execution_count": 673,
   "metadata": {},
   "outputs": [],
   "source": [
    "data_np.bdate = get_years(data_np)"
   ]
  },
  {
   "cell_type": "code",
   "execution_count": 674,
   "metadata": {},
   "outputs": [],
   "source": [
    "# Убираем NaN в аватаках"
   ]
  },
  {
   "cell_type": "code",
   "execution_count": 675,
   "metadata": {},
   "outputs": [],
   "source": [
    "bad_avarar = data_np.avatar.isna() == True"
   ]
  },
  {
   "cell_type": "code",
   "execution_count": 676,
   "metadata": {},
   "outputs": [],
   "source": [
    "data_np = data_np.loc[bad_avarar != True]"
   ]
  },
  {
   "cell_type": "code",
   "execution_count": 677,
   "metadata": {},
   "outputs": [],
   "source": [
    "# Разбираемся с blog_last"
   ]
  },
  {
   "cell_type": "code",
   "execution_count": 678,
   "metadata": {},
   "outputs": [],
   "source": [
    "bad_blog_last = (data_np.blog_last.isna() == True)"
   ]
  },
  {
   "cell_type": "code",
   "execution_count": 679,
   "metadata": {},
   "outputs": [],
   "source": [
    "data_np = data_np.loc[bad_blog_last != True]"
   ]
  },
  {
   "cell_type": "code",
   "execution_count": 680,
   "metadata": {},
   "outputs": [],
   "source": [
    "def get_blog_last(dt):\n",
    "    tst_arr = np.array(dt.blog_last.values, dtype=str)\n",
    "    tst_arr[tst_arr == 'never'] = '0'\n",
    "    tst_arr[tst_arr != '0'] = '1'\n",
    "    tst_arr = tst_arr.astype(int)\n",
    "    return tst_arr"
   ]
  },
  {
   "cell_type": "code",
   "execution_count": 681,
   "metadata": {},
   "outputs": [],
   "source": [
    "data_np.blog_last = get_blog_last(data_np)"
   ]
  },
  {
   "cell_type": "code",
   "execution_count": 682,
   "metadata": {},
   "outputs": [],
   "source": [
    "# Blog_total - уже всё ок"
   ]
  },
  {
   "cell_type": "code",
   "execution_count": 683,
   "metadata": {},
   "outputs": [],
   "source": [
    "# Friends_num - уже всё ок"
   ]
  },
  {
   "cell_type": "code",
   "execution_count": 684,
   "metadata": {},
   "outputs": [],
   "source": [
    "# Marks... - уже всё ок"
   ]
  },
  {
   "cell_type": "code",
   "execution_count": 685,
   "metadata": {},
   "outputs": [],
   "source": [
    "# Msg_per_day - уже всё ок"
   ]
  },
  {
   "cell_type": "code",
   "execution_count": 686,
   "metadata": {},
   "outputs": [],
   "source": [
    "# Msg_total -> float"
   ]
  },
  {
   "cell_type": "code",
   "execution_count": 687,
   "metadata": {},
   "outputs": [],
   "source": [
    "data_np.msg_total = data_np.msg_total.values.astype(float)"
   ]
  },
  {
   "cell_type": "code",
   "execution_count": 688,
   "metadata": {},
   "outputs": [],
   "source": [
    "# name -> drop"
   ]
  },
  {
   "cell_type": "code",
   "execution_count": 689,
   "metadata": {},
   "outputs": [],
   "source": [
    "data_np = data_np.drop('name', axis=1)"
   ]
  },
  {
   "cell_type": "code",
   "execution_count": 690,
   "metadata": {},
   "outputs": [],
   "source": [
    "# rdate -> days after reg"
   ]
  },
  {
   "cell_type": "code",
   "execution_count": 691,
   "metadata": {},
   "outputs": [],
   "source": [
    "def get_reg(dt):\n",
    "    tst_arr = np.array(dt.rdate.values, dtype=str)\n",
    "    rtime = np.empty(tst_arr.size, dtype=int)\n",
    "    nt = datetime.strptime(datetime.now().strftime(\"%d.%m.%Y\"), '%d.%m.%Y')\n",
    "    for ind in xrange(tst_arr.size):\n",
    "        rtime[ind] = (nt - datetime.strptime(dt.rdate.values[ind], '%d.%m.%Y')).days\n",
    "    return rtime"
   ]
  },
  {
   "cell_type": "code",
   "execution_count": 692,
   "metadata": {},
   "outputs": [],
   "source": [
    "data_np.rdate = get_reg(data_np)"
   ]
  },
  {
   "cell_type": "code",
   "execution_count": 693,
   "metadata": {},
   "outputs": [],
   "source": [
    "# url -> drop"
   ]
  },
  {
   "cell_type": "code",
   "execution_count": 694,
   "metadata": {},
   "outputs": [],
   "source": [
    "data_np = data_np.drop('url', axis=1)"
   ]
  },
  {
   "cell_type": "code",
   "execution_count": 695,
   "metadata": {},
   "outputs": [],
   "source": [
    "# reputation -> float"
   ]
  },
  {
   "cell_type": "code",
   "execution_count": 696,
   "metadata": {},
   "outputs": [],
   "source": [
    "data_np.reputation = data_np.reputation.values.astype(float)"
   ]
  },
  {
   "cell_type": "code",
   "execution_count": 697,
   "metadata": {},
   "outputs": [],
   "source": [
    "# visits_num - 44 - некорректный профиль"
   ]
  },
  {
   "cell_type": "code",
   "execution_count": 698,
   "metadata": {},
   "outputs": [],
   "source": [
    "data_np = data_np.loc[data_np.index != 44]"
   ]
  },
  {
   "cell_type": "code",
   "execution_count": 699,
   "metadata": {},
   "outputs": [],
   "source": [
    "# Заменяем заполненость поля на 0/1"
   ]
  },
  {
   "cell_type": "code",
   "execution_count": 700,
   "metadata": {},
   "outputs": [],
   "source": [
    "for ind in xrange(16, 24):\n",
    "    index = data_np.iloc[:, ind].isna()\n",
    "    tmp_arr = np.empty(index.size)\n",
    "    tmp_arr[index == True] = 0\n",
    "    tmp_arr[index != True] = 1\n",
    "    data_np.iloc[:, ind] = tmp_arr"
   ]
  },
  {
   "cell_type": "code",
   "execution_count": 701,
   "metadata": {},
   "outputs": [],
   "source": [
    "# Создаём массив целевой переменной"
   ]
  },
  {
   "cell_type": "code",
   "execution_count": 702,
   "metadata": {},
   "outputs": [],
   "source": [
    "# 2489 - ещё один некорректный профиль"
   ]
  },
  {
   "cell_type": "code",
   "execution_count": 703,
   "metadata": {},
   "outputs": [],
   "source": [
    "data_np = data_np.loc[data_np.index != 2489]"
   ]
  },
  {
   "cell_type": "code",
   "execution_count": 704,
   "metadata": {},
   "outputs": [],
   "source": [
    "delta_bet_vis = np.empty(data_np.last_visit.size, dtype=int)\n",
    "for ind in xrange(delta_bet_vis.size):\n",
    "    lv = datetime.strptime(data_np.last_visit.values[ind], '%d.%m.%Y')\n",
    "    lvn = datetime.strptime(data_np.last_visit_new.values[ind], '%d.%m.%Y')\n",
    "    delta_bet_vis[ind] = (lvn - lv).days > 0"
   ]
  },
  {
   "cell_type": "code",
   "execution_count": 705,
   "metadata": {},
   "outputs": [],
   "source": [
    "y_real = delta_bet_vis"
   ]
  },
  {
   "cell_type": "code",
   "execution_count": 734,
   "metadata": {},
   "outputs": [
    {
     "ename": "ValueError",
     "evalue": "labels ['last_visit'] not contained in axis",
     "output_type": "error",
     "traceback": [
      "\u001b[0;31m---------------------------------------------------------------------------\u001b[0m",
      "\u001b[0;31mValueError\u001b[0m                                Traceback (most recent call last)",
      "\u001b[0;32m<ipython-input-734-91a0b5870037>\u001b[0m in \u001b[0;36m<module>\u001b[0;34m()\u001b[0m\n\u001b[0;32m----> 1\u001b[0;31m \u001b[0mdata_np\u001b[0m \u001b[0;34m=\u001b[0m \u001b[0mdata_np\u001b[0m\u001b[0;34m.\u001b[0m\u001b[0mdrop\u001b[0m\u001b[0;34m(\u001b[0m\u001b[0;34m'last_visit'\u001b[0m\u001b[0;34m,\u001b[0m \u001b[0maxis\u001b[0m\u001b[0;34m=\u001b[0m\u001b[0;36m1\u001b[0m\u001b[0;34m)\u001b[0m\u001b[0;34m\u001b[0m\u001b[0m\n\u001b[0m\u001b[1;32m      2\u001b[0m \u001b[0mdata_np\u001b[0m \u001b[0;34m=\u001b[0m \u001b[0mdata_np\u001b[0m\u001b[0;34m.\u001b[0m\u001b[0mdrop\u001b[0m\u001b[0;34m(\u001b[0m\u001b[0;34m'last_visit_new'\u001b[0m\u001b[0;34m,\u001b[0m \u001b[0maxis\u001b[0m\u001b[0;34m=\u001b[0m\u001b[0;36m1\u001b[0m\u001b[0;34m)\u001b[0m\u001b[0;34m\u001b[0m\u001b[0m\n",
      "\u001b[0;32m/usr/local/lib/python2.7/dist-packages/pandas/core/generic.pyc\u001b[0m in \u001b[0;36mdrop\u001b[0;34m(self, labels, axis, index, columns, level, inplace, errors)\u001b[0m\n\u001b[1;32m   2528\u001b[0m         \u001b[0;32mfor\u001b[0m \u001b[0maxis\u001b[0m\u001b[0;34m,\u001b[0m \u001b[0mlabels\u001b[0m \u001b[0;32min\u001b[0m \u001b[0maxes\u001b[0m\u001b[0;34m.\u001b[0m\u001b[0mitems\u001b[0m\u001b[0;34m(\u001b[0m\u001b[0;34m)\u001b[0m\u001b[0;34m:\u001b[0m\u001b[0;34m\u001b[0m\u001b[0m\n\u001b[1;32m   2529\u001b[0m             \u001b[0;32mif\u001b[0m \u001b[0mlabels\u001b[0m \u001b[0;32mis\u001b[0m \u001b[0;32mnot\u001b[0m \u001b[0mNone\u001b[0m\u001b[0;34m:\u001b[0m\u001b[0;34m\u001b[0m\u001b[0m\n\u001b[0;32m-> 2530\u001b[0;31m                 \u001b[0mobj\u001b[0m \u001b[0;34m=\u001b[0m \u001b[0mobj\u001b[0m\u001b[0;34m.\u001b[0m\u001b[0m_drop_axis\u001b[0m\u001b[0;34m(\u001b[0m\u001b[0mlabels\u001b[0m\u001b[0;34m,\u001b[0m \u001b[0maxis\u001b[0m\u001b[0;34m,\u001b[0m \u001b[0mlevel\u001b[0m\u001b[0;34m=\u001b[0m\u001b[0mlevel\u001b[0m\u001b[0;34m,\u001b[0m \u001b[0merrors\u001b[0m\u001b[0;34m=\u001b[0m\u001b[0merrors\u001b[0m\u001b[0;34m)\u001b[0m\u001b[0;34m\u001b[0m\u001b[0m\n\u001b[0m\u001b[1;32m   2531\u001b[0m \u001b[0;34m\u001b[0m\u001b[0m\n\u001b[1;32m   2532\u001b[0m         \u001b[0;32mif\u001b[0m \u001b[0minplace\u001b[0m\u001b[0;34m:\u001b[0m\u001b[0;34m\u001b[0m\u001b[0m\n",
      "\u001b[0;32m/usr/local/lib/python2.7/dist-packages/pandas/core/generic.pyc\u001b[0m in \u001b[0;36m_drop_axis\u001b[0;34m(self, labels, axis, level, errors)\u001b[0m\n\u001b[1;32m   2560\u001b[0m                 \u001b[0mnew_axis\u001b[0m \u001b[0;34m=\u001b[0m \u001b[0maxis\u001b[0m\u001b[0;34m.\u001b[0m\u001b[0mdrop\u001b[0m\u001b[0;34m(\u001b[0m\u001b[0mlabels\u001b[0m\u001b[0;34m,\u001b[0m \u001b[0mlevel\u001b[0m\u001b[0;34m=\u001b[0m\u001b[0mlevel\u001b[0m\u001b[0;34m,\u001b[0m \u001b[0merrors\u001b[0m\u001b[0;34m=\u001b[0m\u001b[0merrors\u001b[0m\u001b[0;34m)\u001b[0m\u001b[0;34m\u001b[0m\u001b[0m\n\u001b[1;32m   2561\u001b[0m             \u001b[0;32melse\u001b[0m\u001b[0;34m:\u001b[0m\u001b[0;34m\u001b[0m\u001b[0m\n\u001b[0;32m-> 2562\u001b[0;31m                 \u001b[0mnew_axis\u001b[0m \u001b[0;34m=\u001b[0m \u001b[0maxis\u001b[0m\u001b[0;34m.\u001b[0m\u001b[0mdrop\u001b[0m\u001b[0;34m(\u001b[0m\u001b[0mlabels\u001b[0m\u001b[0;34m,\u001b[0m \u001b[0merrors\u001b[0m\u001b[0;34m=\u001b[0m\u001b[0merrors\u001b[0m\u001b[0;34m)\u001b[0m\u001b[0;34m\u001b[0m\u001b[0m\n\u001b[0m\u001b[1;32m   2563\u001b[0m             \u001b[0mdropped\u001b[0m \u001b[0;34m=\u001b[0m \u001b[0mself\u001b[0m\u001b[0;34m.\u001b[0m\u001b[0mreindex\u001b[0m\u001b[0;34m(\u001b[0m\u001b[0;34m**\u001b[0m\u001b[0;34m{\u001b[0m\u001b[0maxis_name\u001b[0m\u001b[0;34m:\u001b[0m \u001b[0mnew_axis\u001b[0m\u001b[0;34m}\u001b[0m\u001b[0;34m)\u001b[0m\u001b[0;34m\u001b[0m\u001b[0m\n\u001b[1;32m   2564\u001b[0m             \u001b[0;32mtry\u001b[0m\u001b[0;34m:\u001b[0m\u001b[0;34m\u001b[0m\u001b[0m\n",
      "\u001b[0;32m/usr/local/lib/python2.7/dist-packages/pandas/core/indexes/base.pyc\u001b[0m in \u001b[0;36mdrop\u001b[0;34m(self, labels, errors)\u001b[0m\n\u001b[1;32m   3739\u001b[0m             \u001b[0;32mif\u001b[0m \u001b[0merrors\u001b[0m \u001b[0;34m!=\u001b[0m \u001b[0;34m'ignore'\u001b[0m\u001b[0;34m:\u001b[0m\u001b[0;34m\u001b[0m\u001b[0m\n\u001b[1;32m   3740\u001b[0m                 raise ValueError('labels %s not contained in axis' %\n\u001b[0;32m-> 3741\u001b[0;31m                                  labels[mask])\n\u001b[0m\u001b[1;32m   3742\u001b[0m             \u001b[0mindexer\u001b[0m \u001b[0;34m=\u001b[0m \u001b[0mindexer\u001b[0m\u001b[0;34m[\u001b[0m\u001b[0;34m~\u001b[0m\u001b[0mmask\u001b[0m\u001b[0;34m]\u001b[0m\u001b[0;34m\u001b[0m\u001b[0m\n\u001b[1;32m   3743\u001b[0m         \u001b[0;32mreturn\u001b[0m \u001b[0mself\u001b[0m\u001b[0;34m.\u001b[0m\u001b[0mdelete\u001b[0m\u001b[0;34m(\u001b[0m\u001b[0mindexer\u001b[0m\u001b[0;34m)\u001b[0m\u001b[0;34m\u001b[0m\u001b[0m\n",
      "\u001b[0;31mValueError\u001b[0m: labels ['last_visit'] not contained in axis"
     ]
    }
   ],
   "source": [
    "data_np = data_np.drop('last_visit', axis=1)\n",
    "data_np = data_np.drop('last_visit_new', axis=1)"
   ]
  },
  {
   "cell_type": "code",
   "execution_count": 748,
   "metadata": {},
   "outputs": [
    {
     "data": {
      "image/png": "[encoded data removed]",
      "text/plain": [
       "<matplotlib.figure.Figure at 0x7fbd19568410>"
      ]
     },
     "metadata": {},
     "output_type": "display_data"
    }
   ],
   "source": [
    "X_plot = data_np.values\n",
    "x = np.arange(X_plot.shape[1])\n",
    "y = np.empty(X_plot.shape[1])\n",
    "for i in xrange(X_plot.shape[1]):\n",
    "    y[i] = np.sum(X_plot[:, i] != 0)\n",
    "plt.hist([x,y])  # arguments are passed to np.histogram\n",
    "plt.show()"
   ]
  },
  {
   "cell_type": "code",
   "execution_count": 707,
   "metadata": {},
   "outputs": [],
   "source": [
    "# Нормализуем признаки"
   ]
  },
  {
   "cell_type": "code",
   "execution_count": 733,
   "metadata": {},
   "outputs": [],
   "source": [
    "X_real = preprocessing.scale(data_np.values)\n",
    "#pca = PCA(n_components=0.95)\n",
    "#X_real = pca.fit_transform(X_real)"
   ]
  },
  {
   "cell_type": "code",
   "execution_count": null,
   "metadata": {},
   "outputs": [],
   "source": []
  },
  {
   "cell_type": "code",
   "execution_count": 709,
   "metadata": {},
   "outputs": [],
   "source": [
    "# Выделяем часть данных, которая не будет использоваться вплоть до окончания подборов параметров модели"
   ]
  },
  {
   "cell_type": "code",
   "execution_count": 710,
   "metadata": {},
   "outputs": [],
   "source": [
    "X_real, X_real_saved, \\\n",
    "y_real, y_real_saved = train_test_split(X_real, y_real, test_size = 0.2)"
   ]
  },
  {
   "cell_type": "code",
   "execution_count": 711,
   "metadata": {},
   "outputs": [],
   "source": [
    "# Отбирать некоррелированные признаки вручную - слишком сложно\n",
    "# Примем за аксиому, что коррелированные признаки значительно понижают кажество предсказаний\n",
    "# Будем случайно выбирать признаки и искать наилучшее сочетания"
   ]
  },
  {
   "cell_type": "code",
   "execution_count": 712,
   "metadata": {},
   "outputs": [],
   "source": [
    "def try_get_best_feat(max_iter):\n",
    "    roc_auc_best = 0\n",
    "    rand_fea_best = []\n",
    "\n",
    "    for i in xrange(max_iter):\n",
    "        if i % 10 == 0:\n",
    "            print i\n",
    "\n",
    "        rand_fea = np.unique(np.random.choice(np.arange(X_real.shape[1]), random.randint(1, X_real.shape[1])))\n",
    "\n",
    "        roc = 0\n",
    "        X_real_tmp = X_real[:, rand_fea]\n",
    "        y_real_tmp = y_real\n",
    "\n",
    "        for j in range(5):\n",
    "            X_real_tmp_train, X_real_tmp_test, \\\n",
    "            y_real_tmp_train, y_real_tmp_test = train_test_split(X_real_tmp, y_real_tmp, test_size = 0.3)\n",
    "\n",
    "            model = RandomForestClassifier()\n",
    "            model.fit(X_real_tmp_train, y_real_tmp_train)\n",
    "            roc = roc + roc_auc_score(y_real_tmp_test, model.predict(X_real_tmp_test))\n",
    "        roc = roc / 5\n",
    "\n",
    "        if roc > roc_auc_best:\n",
    "            roc_auc_best = roc_auc_score(y_real_tmp_test, model.predict(X_real_tmp_test))\n",
    "            rand_fea_best = rand_fea\n",
    "\n",
    "    return roc_auc_best, rand_fea_best "
   ]
  },
  {
   "cell_type": "code",
   "execution_count": 713,
   "metadata": {},
   "outputs": [],
   "source": [
    "#print try_get_best_feat(200)"
   ]
  },
  {
   "cell_type": "code",
   "execution_count": 714,
   "metadata": {},
   "outputs": [],
   "source": [
    "# Результат - лучший результат показал набор - [6, 9, 11, 14, 15, 19] им и будем пользоваться"
   ]
  },
  {
   "cell_type": "code",
   "execution_count": 715,
   "metadata": {},
   "outputs": [],
   "source": [
    "best_features = [6, 9, 11, 14, 15, 19]"
   ]
  },
  {
   "cell_type": "code",
   "execution_count": 716,
   "metadata": {},
   "outputs": [],
   "source": [
    "X_real_best = X_real[:, best_features]\n",
    "X_real_saved_best = X_real_saved[:, best_features]"
   ]
  },
  {
   "cell_type": "code",
   "execution_count": 717,
   "metadata": {},
   "outputs": [
    {
     "name": "stdout",
     "output_type": "stream",
     "text": [
      "6 given_positive_marks\n",
      "9 msg_per_day\n",
      "11 rdate\n",
      "14 visits_num\n",
      "15 Интересы\n",
      "19 Реальное имя\n"
     ]
    }
   ],
   "source": [
    "for it in best_features:\n",
    "    print it, data_np.columns[it]"
   ]
  },
  {
   "cell_type": "code",
   "execution_count": 718,
   "metadata": {},
   "outputs": [],
   "source": [
    "# Попытаемся подобрать наиболее оптимальные глобальные параметры для модели\n",
    "# Т.к. это, по сути, много параметрическая оптимизация, будем случайно выбирать параметры и искать оптимальную конфигурацию"
   ]
  },
  {
   "cell_type": "code",
   "execution_count": 719,
   "metadata": {},
   "outputs": [],
   "source": [
    "def try_get_best(max_iter):\n",
    "    roc_auc_best = 0\n",
    "    rand_max_depth = 0\n",
    "    rand_params_best = np.empty([6], dtype=int)\n",
    "\n",
    "    for i in xrange(max_iter):\n",
    "        if i % 10 == 0:\n",
    "            print i\n",
    "    \n",
    "        roc = 0\n",
    "        X_real_tmp = X_real_best\n",
    "        y_real_tmp = y_real\n",
    "    \n",
    "    \n",
    "        rand_params = np.empty([6], dtype=int)\n",
    "        #max_feat\n",
    "        rand_params[0] = random.randint(1, X_real_tmp.shape[1])\n",
    "        #max_depth\n",
    "        rand_params[1] = random.randint(1, 50)\n",
    "        #min_samples_split\n",
    "        rand_params[2] = random.randint(2, 50)\n",
    "        #min_samples_leaf\n",
    "        rand_params[3] = random.randint(1, 50)\n",
    "        #max_leaf_nodes\n",
    "        rand_params[4] = random.randint(X_real.shape[0] / 3, X_real.shape[0])\n",
    "        #n_estimators\n",
    "        rand_params[5] = random.randint(1, 20)\n",
    "\n",
    "        for j in range(5):\n",
    "            X_real_tmp_train, X_real_tmp_test, \\\n",
    "            y_real_tmp_train, y_real_tmp_test = train_test_split(X_real_tmp, y_real_tmp, test_size = 0.3)\n",
    "\n",
    "            model = RandomForestClassifier(max_features=rand_params[0],\n",
    "                                           max_depth = rand_params[1],\n",
    "                                           min_samples_split = rand_params[2],\n",
    "                                           min_samples_leaf=rand_params[3],\n",
    "                                           max_leaf_nodes=rand_params[4],\n",
    "                                           n_estimators=rand_params[5])\n",
    "            model.fit(X_real_tmp_train, y_real_tmp_train)\n",
    "            roc = roc + roc_auc_score(y_real_tmp_test, model.predict(X_real_tmp_test))\n",
    "        roc = roc / 5\n",
    "    \n",
    "        if roc > roc_auc_best:\n",
    "            roc_auc_best = roc_auc_score(y_real_tmp_test, model.predict(X_real_tmp_test))\n",
    "            rand_params_best = rand_params\n",
    "\n",
    "    return roc_auc_best, rand_params_best"
   ]
  },
  {
   "cell_type": "code",
   "execution_count": 720,
   "metadata": {},
   "outputs": [],
   "source": [
    "#print try_get_best(20)"
   ]
  },
  {
   "cell_type": "code",
   "execution_count": 721,
   "metadata": {},
   "outputs": [],
   "source": [
    "# Лучший результат -  max_features=3, max_depth = 7, min_samples_split = 3, min_samples_leaf = 12, n_estimators=12"
   ]
  },
  {
   "cell_type": "code",
   "execution_count": 722,
   "metadata": {},
   "outputs": [],
   "source": [
    "# Разбиваем выборку на тестовую и тренировочную части"
   ]
  },
  {
   "cell_type": "code",
   "execution_count": 723,
   "metadata": {},
   "outputs": [],
   "source": [
    "X_real_train, X_real_test, \\\n",
    "y_real_train, y_real_test = train_test_split(X_real_best, y_real, test_size = 0.3)"
   ]
  },
  {
   "cell_type": "code",
   "execution_count": 724,
   "metadata": {},
   "outputs": [],
   "source": [
    "model = RandomForestClassifier(max_features=3, max_depth = 7, min_samples_split = 3, min_samples_leaf = 12, n_estimators=12)"
   ]
  },
  {
   "cell_type": "code",
   "execution_count": 725,
   "metadata": {},
   "outputs": [
    {
     "data": {
      "text/plain": [
       "RandomForestClassifier(bootstrap=True, class_weight=None, criterion='gini',\n",
       "            max_depth=7, max_features=3, max_leaf_nodes=None,\n",
       "            min_impurity_decrease=0.0, min_impurity_split=None,\n",
       "            min_samples_leaf=12, min_samples_split=3,\n",
       "            min_weight_fraction_leaf=0.0, n_estimators=12, n_jobs=1,\n",
       "            oob_score=False, random_state=None, verbose=0,\n",
       "            warm_start=False)"
      ]
     },
     "execution_count": 725,
     "metadata": {},
     "output_type": "execute_result"
    }
   ],
   "source": [
    "model.fit(X_real_train, y_real_train)"
   ]
  },
  {
   "cell_type": "code",
   "execution_count": 726,
   "metadata": {},
   "outputs": [],
   "source": [
    "# Смотрим результат на отложенной выборке - довольно неплохо"
   ]
  },
  {
   "cell_type": "code",
   "execution_count": 727,
   "metadata": {},
   "outputs": [
    {
     "name": "stdout",
     "output_type": "stream",
     "text": [
      "ROC_AUC: 0.710142766616\n"
     ]
    }
   ],
   "source": [
    "print 'ROC_AUC:', roc_auc_score(y_real_saved, model.predict(X_real_saved_best))"
   ]
  },
  {
   "cell_type": "code",
   "execution_count": 728,
   "metadata": {},
   "outputs": [
    {
     "name": "stdout",
     "output_type": "stream",
     "text": [
      "F-m: 0.9027695934\n"
     ]
    }
   ],
   "source": [
    "print 'F-m:', f1_score(y_real_saved, model.predict(X_real_saved_best))"
   ]
  },
  {
   "cell_type": "code",
   "execution_count": 729,
   "metadata": {},
   "outputs": [
    {
     "name": "stdout",
     "output_type": "stream",
     "text": [
      "278\n"
     ]
    }
   ],
   "source": [
    "print np.sum(y_real_saved == 0)"
   ]
  }
 ],
 "metadata": {
  "kernelspec": {
   "display_name": "Python 2",
   "language": "python",
   "name": "python2"
  },
  "language_info": {
   "codemirror_mode": {
    "name": "ipython",
    "version": 2
   },
   "file_extension": ".py",
   "mimetype": "text/x-python",
   "name": "python",
   "nbconvert_exporter": "python",
   "pygments_lexer": "ipython2",
   "version": "2.7.12"
  }
 },
 "nbformat": 4,
 "nbformat_minor": 2
}
