{
 "cells": [
  {
   "cell_type": "code",
   "execution_count": 1,
   "metadata": {},
   "outputs": [],
   "source": [
    "import numpy as np"
   ]
  },
  {
   "cell_type": "code",
   "execution_count": 4,
   "metadata": {},
   "outputs": [],
   "source": [
    "x = np.array([[1, 2, 3], [4, 3, 1], [6, 3, 1], [6, 1, 0]])\n",
    "y = np.array([0, 1, 1, 1])\n",
    "Ck = 1\n",
    "i = 2"
   ]
  },
  {
   "cell_type": "code",
   "execution_count": 5,
   "metadata": {},
   "outputs": [
    {
     "data": {
      "text/plain": [
       "array([[-2,  0,  0],\n",
       "       [ 0,  0,  0],\n",
       "       [ 0, -2, -1]])"
      ]
     },
     "execution_count": 5,
     "metadata": {},
     "output_type": "execute_result"
    }
   ],
   "source": [
    "x[y == Ck] - x[i]"
   ]
  },
  {
   "cell_type": "code",
   "execution_count": null,
   "metadata": {},
   "outputs": [],
   "source": []
  },
  {
   "cell_type": "code",
   "execution_count": 6,
   "metadata": {},
   "outputs": [
    {
     "data": {
      "text/plain": [
       "array([ 2.        ,  0.        ,  2.23606798])"
      ]
     },
     "execution_count": 6,
     "metadata": {},
     "output_type": "execute_result"
    }
   ],
   "source": [
    "np.apply_along_axis(np.linalg.norm, 1, x[y == Ck] - x[i])"
   ]
  },
  {
   "cell_type": "code",
   "execution_count": null,
   "metadata": {},
   "outputs": [],
   "source": []
  },
  {
   "cell_type": "code",
   "execution_count": null,
   "metadata": {},
   "outputs": [],
   "source": []
  },
  {
   "cell_type": "code",
   "execution_count": null,
   "metadata": {},
   "outputs": [],
   "source": []
  },
  {
   "cell_type": "code",
   "execution_count": null,
   "metadata": {},
   "outputs": [],
   "source": []
  },
  {
   "cell_type": "code",
   "execution_count": null,
   "metadata": {},
   "outputs": [],
   "source": []
  },
  {
   "cell_type": "code",
   "execution_count": null,
   "metadata": {},
   "outputs": [],
   "source": []
  },
  {
   "cell_type": "code",
   "execution_count": null,
   "metadata": {},
   "outputs": [],
   "source": []
  },
  {
   "cell_type": "code",
   "execution_count": null,
   "metadata": {},
   "outputs": [],
   "source": []
  },
  {
   "cell_type": "code",
   "execution_count": null,
   "metadata": {},
   "outputs": [],
   "source": []
  },
  {
   "cell_type": "code",
   "execution_count": null,
   "metadata": {},
   "outputs": [],
   "source": []
  },
  {
   "cell_type": "code",
   "execution_count": null,
   "metadata": {},
   "outputs": [],
   "source": []
  },
  {
   "cell_type": "code",
   "execution_count": null,
   "metadata": {},
   "outputs": [],
   "source": []
  },
  {
   "cell_type": "code",
   "execution_count": null,
   "metadata": {},
   "outputs": [],
   "source": []
  },
  {
   "cell_type": "code",
   "execution_count": null,
   "metadata": {},
   "outputs": [],
   "source": []
  },
  {
   "cell_type": "code",
   "execution_count": null,
   "metadata": {},
   "outputs": [],
   "source": []
  },
  {
   "cell_type": "code",
   "execution_count": null,
   "metadata": {},
   "outputs": [],
   "source": []
  },
  {
   "cell_type": "code",
   "execution_count": null,
   "metadata": {},
   "outputs": [],
   "source": []
  },
  {
   "cell_type": "code",
   "execution_count": null,
   "metadata": {},
   "outputs": [],
   "source": []
  },
  {
   "cell_type": "code",
   "execution_count": null,
   "metadata": {},
   "outputs": [],
   "source": [
    "## Задание 1\n",
    "from sklearn.base import BaseEstimator, ClusterMixin\n",
    "\n",
    "class Clustering(BaseEstimator, ClusterMixin):\n",
    "    \"\"\"\n",
    "    Implement clustering algorithm according \n",
    "    \"\"\"\n",
    "    \n",
    "    #There and everywhere then the euclidian distance is used as a metrics\n",
    "    def single_linkage(self, C1, C2, X, d = 0):\n",
    "        labels = self.get_labels()\n",
    "        ind1 = (labels == C1)\n",
    "        ind2 = (labels == C2)\n",
    "        if X[ind1].shape[0] == 0 or X[ind2].shape[0] == 0:\n",
    "            return np.inf\n",
    "        return np.square(X[ind1, np.newaxis, :] - X[ind2]).sum(axis=2).min()**(1.0/2)\n",
    "    \n",
    "    def nml_single_linkage(self, X):\n",
    "        C1, C2 = 0\n",
    "        labels = self.get_labels()\n",
    "    \n",
    "    def complete_linkage(self, C1, C2, X):\n",
    "        labels = self.get_labels()\n",
    "        ind1 = (labels == C1)\n",
    "        ind2 = (labels == C2)\n",
    "        if X[ind1].shape[0] == 0 or X[ind2].shape[0] == 0:\n",
    "            return np.inf\n",
    "        return np.square(X[ind1, np.newaxis, :] - X[ind2]).sum(axis=2).max()**(1.0/2)\n",
    "        \n",
    "    def average_linking(self, C1, C2, X):\n",
    "        labels = self.get_labels()\n",
    "        ind1 = (labels == C1)\n",
    "        ind2 = (labels == C2)\n",
    "        if X[ind1].shape[0] == 0 or X[ind2].shape[0] == 0:\n",
    "            return np.inf\n",
    "        dist_sum = np.square(X[ind1, np.newaxis, :] - X[ind2]).sum(axis=2)**(1.0/2).sum()\n",
    "        return dist_sum / ind1.shape[0] / ind2.shape[0]\n",
    "    \n",
    "    def get_labels(self):\n",
    "        return self.labels_seq[self.layer - 1]\n",
    "    \n",
    "    def get_least_clusters(self, X):\n",
    "        tmp_dist = np.inf\n",
    "        C1, C2 = 0, 0\n",
    "        for x in range(0, X.shape[0]):\n",
    "            for y in range(0, X.shape[0]):\n",
    "                if x < y:\n",
    "                    tmp = self.linkage(x, y, X)\n",
    "                    if tmp < tmp_dist:\n",
    "                        C1, C2 = x, y\n",
    "                        tmp_dist = tmp\n",
    "        return C1, C2\n",
    "                       \n",
    "    def get_least_clusters_nrm(self):\n",
    "        tmp = self.dist.argmin()\n",
    "        return tmp / dist.shape[0], tmp % dist.shape[0]\n",
    "    \n",
    "    def fix_dist(C1, C2):\n",
    "        F[C1] = np.apply_along_axis(self.linkage, axis=1, F[C1], C1)\n",
    "        F[:, C1] = np.apply_along_axis(self.linkage, axis=1, F[:, C1], C1)\n",
    "        F[C2] = np.inf\n",
    "        F[:C2] = np.inf\n",
    "    \n",
    "    def __init__(self, **kwargs):\n",
    "        \"\"\"\n",
    "        Please add necessary algoritm parameters to class constructor.\n",
    "        \"\"\"\n",
    "        if kwargs['linkage'] == 'single-linkage':\n",
    "            self.linkage = self.single_linkage\n",
    "        elif kwargs['linkage'] == 'complete-linkage':\n",
    "            self.linkage = self.complete_linkage\n",
    "        elif kwargs['linkage'] == 'average-linkage':\n",
    "            self.linkage = self.average_linking\n",
    "        else:\n",
    "            self.linkage = self.single_linkage\n",
    "            \n",
    "        self.k = kwargs['k']\n",
    "        \n",
    "        self.layer = 1\n",
    "        \n",
    "        \n",
    "        return\n",
    "        \n",
    "    def fit(self, X, y=None):\n",
    "        \"\"\"\n",
    "        Use data matrix x to compute model parameters\n",
    "        \"\"\"\n",
    "        self.labels_seq = np.empty([X.shape[0] - self.k + 1, X.shape[0]], dtype=np.int)\n",
    "        \n",
    "        self.labels_seq[0] = [x for x in xrange(0, X.shape[0])]\n",
    "        \n",
    "        for ind in range(1, X.shape[0] - self.k + 1):\n",
    "            #print ind\n",
    "            C1, C2 = self.get_least_clusters(X)\n",
    "            C1, C2 = min(C1, C2), max(C1, C2)\n",
    "            self.labels_seq[ind] = self.labels_seq[ind - 1]\n",
    "            self.labels_seq[ind, self.labels_seq[ind] == C2] = C1\n",
    "            self.layer += 1\n",
    "            self.fix_dist(C1, C2)\n",
    "        \n",
    "        #self.x_len = len(x)\n",
    "        return self\n",
    "    \n",
    "    def predict(self, X):\n",
    "        #return labels for dividion into self.k clusters\n",
    "        return self.labels_seq[X.shape[0] - self.k]\n",
    "    \n",
    "    def fit_predict(self, X, y=None):\n",
    "        self.fit(X, y)\n",
    "        return self.predict(X)"
   ]
  }
 ],
 "metadata": {
  "kernelspec": {
   "display_name": "Python 2",
   "language": "python",
   "name": "python2"
  },
  "language_info": {
   "codemirror_mode": {
    "name": "ipython",
    "version": 2
   },
   "file_extension": ".py",
   "mimetype": "text/x-python",
   "name": "python",
   "nbconvert_exporter": "python",
   "pygments_lexer": "ipython2",
   "version": "2.7.13"
  }
 },
 "nbformat": 4,
 "nbformat_minor": 2
}
