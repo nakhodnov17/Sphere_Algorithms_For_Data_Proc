{
 "cells": [
  {
   "cell_type": "code",
   "execution_count": 1,
   "metadata": {},
   "outputs": [],
   "source": [
    "import numpy as np"
   ]
  },
  {
   "cell_type": "code",
   "execution_count": 2,
   "metadata": {},
   "outputs": [],
   "source": [
    "m = np.array([[5.5,5],[1.5,-7.5],[-3,8.5],[-12,-2],[6.5,-4.5],[-3.5,-0.5],[7.5,-3],[-2,-2],[11,11],[5,2]])\n",
    "t = np.array([[3.5,7.5],[-4.5,6],[-6.5,-3],[4.5,-4]])"
   ]
  },
  {
   "cell_type": "code",
   "execution_count": 7,
   "metadata": {},
   "outputs": [
    {
     "name": "stdout",
     "output_type": "stream",
     "text": [
      "10.0\n",
      "6.5\n",
      "20.0\n",
      "18.5\n",
      "2.5\n",
      "11.5\n",
      "4.0\n",
      "8.5\n",
      "21.5\n",
      "6.5\n"
     ]
    }
   ],
   "source": [
    "K = 3\n",
    "for i in range(m.shape[0]):\n",
    "    print abs(m[i][0] - t[K][0]) + abs(m[i][1] - t[K][1])"
   ]
  },
  {
   "cell_type": "code",
   "execution_count": 11,
   "metadata": {},
   "outputs": [],
   "source": [
    "from scipy.stats import norm"
   ]
  },
  {
   "cell_type": "code",
   "execution_count": null,
   "metadata": {},
   "outputs": [],
   "source": [
    "norm."
   ]
  }
 ],
 "metadata": {
  "kernelspec": {
   "display_name": "Python 2",
   "language": "python",
   "name": "python2"
  },
  "language_info": {
   "codemirror_mode": {
    "name": "ipython",
    "version": 2
   },
   "file_extension": ".py",
   "mimetype": "text/x-python",
   "name": "python",
   "nbconvert_exporter": "python",
   "pygments_lexer": "ipython2",
   "version": "2.7.14"
  }
 },
 "nbformat": 4,
 "nbformat_minor": 2
}
